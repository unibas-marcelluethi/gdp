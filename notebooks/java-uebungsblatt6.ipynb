{
 "cells": [
  {
   "cell_type": "markdown",
   "id": "bff0762c",
   "metadata": {
    "deletable": false
   },
   "source": [
    "# Grundlagen der Programmierung  <br/> Übungsblatt 06 - Arrays\n",
    "#### Marcel Lüthi, Andreas Morel-Forster <br/> Departement Mathematik und Informatik, Universität Basel"
   ]
  },
  {
   "cell_type": "markdown",
   "id": "537e49d2",
   "metadata": {
    "deletable": false
   },
   "source": [
    "### Aufgabe 1: Erzeugen eines Arrays\n",
    "\n",
    "Implementieren Sie die Methode ```createEvenNumbers``` welche zwei Parameter entgegennimmt.\n",
    "Die Methode soll eine `int`-Array einer gegebenen Länge mit den Vielfachen einer Zahl füllen und zurück geben.\n",
    "Der erste Parameter ist eine Zahl, von welcher die Vielfachen berechnet werden sollen.\n",
    "Der zweite Parameter ist eine Zahl, welche Anzahl Elemente angiebt.\n",
    "Die erste Zahl im Arrays soll die Zahl selbst sein."
   ]
  },
  {
   "cell_type": "code",
   "execution_count": 4,
   "id": "c0ab5db5",
   "metadata": {
    "deletable": false,
    "exercise_id": 1
   },
   "outputs": [],
   "source": [
    "public class Creator {\n",
    "    // Ihre Lösung kommt hier hin\n",
    "}"
   ]
  },
  {
   "cell_type": "markdown",
   "id": "b52c2f1a",
   "metadata": {
    "deletable": false
   },
   "source": [
    "### Aufgabe 2: Summe aller Ziffern\n",
    "\n",
    "Schreiben Sie eine Methode `sumNumbers` welche eine Text übergeben bekommt. Schauen Sie sich jedes Zeichen im Text an, und addieren Sie alle Ziffern die Sie so finden. Geben Sie die Summe an den Aufrufer zurück. Verwenden Sie die Methode `charAt` um auf die Zeichen im Text zuzugreifen.\n",
    "\n",
    "Sie können folgende zwei Methoden nutzen:\n",
    "- `Character.isDigit` können Sie ein Zeichen übergeben, und bekommen `true` zurück, wenn das Zeichen eine Ziffer ist.\n",
    "- `Character.getNumericValue` könnne Sie ein Zeichen übergeben, und bekommen dann die entsprechende Zahl als `int` zurück."
   ]
  },
  {
   "cell_type": "code",
   "execution_count": 37,
   "id": "8ede1b67",
   "metadata": {
    "deletable": false,
    "exercise_id": 2
   },
   "outputs": [],
   "source": [
    "public class TextAdder {\n",
    "    // Ihre Lösung kommt hier hin\n",
    "}"
   ]
  },
  {
   "cell_type": "markdown",
   "id": "4298c701",
   "metadata": {
    "deletable": false
   },
   "source": [
    "### Aufgabe 3: Verkehrt anhängen\n",
    "\n",
    "Schreiben Sie eine Methode `cat`, welche als Argument zwei `double`-Arrays als Parameter entgegen nimmt. Die beiden Arrays sollen zusammen gehängt werden, wobei das zweite Array in umgekehrter Reihenfolge an das erste angehängt werden soll."
   ]
  },
  {
   "cell_type": "code",
   "execution_count": 19,
   "id": "94736624",
   "metadata": {
    "deletable": false,
    "exercise_id": 3
   },
   "outputs": [],
   "source": [
    "public class ReverseConcat {\n",
    "    // Ihre Lösung kommt hier hin\n",
    "}"
   ]
  },
  {
   "cell_type": "markdown",
   "id": "e5992d78",
   "metadata": {
    "deletable": false
   },
   "source": [
    "### Aufgabe 4: Fitze Fatze streichen\n",
    "\n",
    "Schreiben Sie eine Methode `eliminate` welche aus einem `int`-Array alle Elemente entfernt, welche durch 3 oder durch 5, aber nicht durch beide teilbar sind. Die verbleibenden Elemente sollen in der selben Reihenfolge in einem neuen Array zurück gegeben werden. Dabei soll das zurück gegebene Array nur die benötigte Länge haben."
   ]
  },
  {
   "cell_type": "code",
   "execution_count": 31,
   "id": "98240133",
   "metadata": {
    "deletable": false,
    "exercise_id": 4
   },
   "outputs": [],
   "source": [
    "public class FitzeFatzeArray {\n",
    "    // Ihre Lösung kommt hier hin\n",
    "}"
   ]
  },
  {
   "cell_type": "markdown",
   "id": "47c98ca1",
   "metadata": {
    "deletable": false
   },
   "source": [
    "### Aufgabe 5: Suchen im Array\n",
    "\n",
    "Schreiben Sie eine Methode `findFirst` welche ein Element in einem Array sucht. Das `char`-Arrays wird als erster, das zu suchende Zeichen als zweiter Parameter übergeben. Geben Sie den Index des ersten Vorkommens des gesuchten Zeichen im Array zurück, oder -1 wenn das Zeichen nicht vorkommt."
   ]
  },
  {
   "cell_type": "code",
   "execution_count": 33,
   "id": "5e0dd31e",
   "metadata": {
    "deletable": false,
    "exercise_id": 5
   },
   "outputs": [],
   "source": [
    "public class FindInArray {\n",
    "    // Ihre Lösung kommt hier hin\n",
    "}"
   ]
  },
  {
   "cell_type": "markdown",
   "id": "b52800eb",
   "metadata": {
    "deletable": false
   },
   "source": [
    "### Aufgabe 6: Flatten \n",
    "\n",
    "Schreiben Sie eine Methode `flatten` welche ein 2d-Array in ein 1d-Array umwandelt und zurück gibt. Dabei sollen die Arrays der Reihe nach hintereinander angehängt werden. Die Arrays beinhalten ganze Zahlen."
   ]
  },
  {
   "cell_type": "code",
   "execution_count": 60,
   "id": "dd36a18e",
   "metadata": {
    "deletable": false,
    "exercise_id": 6
   },
   "outputs": [],
   "source": [
    "public class Flatten {\n",
    "    // Ihre Lösung kommt hier hin\n",
    "}"
   ]
  },
  {
   "cell_type": "markdown",
   "id": "8e649f7f",
   "metadata": {
    "deletable": false
   },
   "source": [
    "### Aufgabe 7: Nachbarn im Game-of-Life\n",
    "\n",
    "Interessierte können sich diese [Seite](https://playgameoflife.com/) zum **Game-of-Life** anschauen. Dort finden Sie einerseits das Spiel zum ausprobieren, aber auch die Regeln und kurze Videos dazu.\n",
    "\n",
    "In dieser Aufgabe implementieren wir nur zwei Methoden.\n",
    "- Die erste Aufgabe ist es die Methode `access` zu implementieren. Die Methode bekommt als Parameter ein 2d `boolean` Array so wie die Zeile und die Spalte auf die zugegriffen werden soll. Ist ein Zugriff ausserhalb des Arrays gefragt, soll jweiels auf der anderen Seite des Arrays zugegriffen werden, es soll also ein zyklischer Zugriff realisiert werden.\n",
    "- Die zweite Aufgabe ist es die Methode `countNeighbours` zu implementieren. Verwenden Sie hierzu die Methode `access`. Es soll für eine Zelle, definiert durch Zeile und Spalte, in einem 2d `boolean` Array die Anzahl lebenden (`true`) Nachbarn gezählt werden."
   ]
  },
  {
   "cell_type": "code",
   "execution_count": 58,
   "id": "a8e243c9",
   "metadata": {
    "deletable": false,
    "exercise_id": 7
   },
   "outputs": [],
   "source": [
    "public class GameOfLife {\n",
    "\n",
    "    public static boolean access(boolean[][] field, int row, int col) {\n",
    "        // Ihre Lösung kommt hier hin\n",
    "        return false;\n",
    "    }\n",
    "    \n",
    "    public static int countNeighbours(boolean[][] field, int row, int col) {\n",
    "        int sum = 0;\n",
    "        // Ihre Lösung kommt hier hin\n",
    "        \n",
    "        return sum;\n",
    "    }\n",
    "\n",
    "    public static void main(String[] args) {\n",
    "        boolean[][] field = {\n",
    "            {false, false,  true, false},\n",
    "            { true, false,  true, false},\n",
    "            {false,  true,  true, false},\n",
    "            {false, false, false, false}\n",
    "        };\n",
    "        System.out.println(access(field,-2,-2)); // should return `true`\n",
    "        System.out.println(countNeighbours(field,3,2)); // should return 3\n",
    "    }\n",
    "}"
   ]
  },
  {
   "cell_type": "code",
   "execution_count": 59,
   "id": "136b0824",
   "metadata": {
    "deletable": false
   },
   "outputs": [
    {
     "name": "stdout",
     "output_type": "stream",
     "text": [
      "true\n",
      "3\n"
     ]
    }
   ],
   "source": [
    "GameOfLife.main(new String[0]);"
   ]
  },
  {
   "cell_type": "markdown",
   "id": "a3ce573a",
   "metadata": {
    "deletable": false
   },
   "source": [
    "### Aufgabe 8: Jagged Arrays\n",
    "Schreiben Sie eine Methode `create` welche ein `int`-Array übergeben bekommt und ein 2d `int` Array erstellt und zurück gibt. Das Array, welches als Parameter übergeben wird, gibt die Längen der Arrays im 2d Array an. Initialisieren Sie die Elemente jedes Arrays jeweils mit dem Wert des Index für den Zugriff."
   ]
  },
  {
   "cell_type": "code",
   "execution_count": 66,
   "id": "901c319b",
   "metadata": {
    "deletable": false,
    "exercise_id": 8
   },
   "outputs": [],
   "source": [
    "public class JaggedArrays {\n",
    "    // Ihre Lösung kommt hier hin\n",
    "}"
   ]
  }
 ],
 "metadata": {
  "exercise_series": "gdp",
  "kernelspec": {
   "display_name": "Java",
   "language": "java",
   "name": "java"
  },
  "language_info": {
   "codemirror_mode": "java",
   "file_extension": ".jshell",
   "mimetype": "text/x-java-source",
   "name": "Java",
   "pygments_lexer": "java",
   "version": "17.0.4+8-jvmci-22.2-b06"
  },
  "notebook_id": 105
 },
 "nbformat": 4,
 "nbformat_minor": 5
}
