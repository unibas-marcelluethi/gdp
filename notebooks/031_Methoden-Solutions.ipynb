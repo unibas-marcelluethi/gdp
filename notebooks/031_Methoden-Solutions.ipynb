{
 "cells": [
  {
   "cell_type": "markdown",
   "id": "fe1197cb",
   "metadata": {
    "slideshow": {
     "slide_type": "slide"
    }
   },
   "source": [
    "# Methoden\n",
    "#### Marcel Lüthi, Andreas Morel-Forster<br/>Departement Mathematik und Informatik, Universität Basel"
   ]
  },
  {
   "cell_type": "markdown",
   "id": "ba4a73ea",
   "metadata": {
    "slideshow": {
     "slide_type": "subslide"
    }
   },
   "source": [
    "### Java's nützliche Helfer"
   ]
  },
  {
   "cell_type": "markdown",
   "id": "47192f7c",
   "metadata": {
    "slideshow": {
     "slide_type": "skip"
    }
   },
   "source": [
    "Sie wissen nun was eine Funktion ist. Bisher haben wir auch schon Funktionen benutzt. Ein Beispiel ist, wenn wir etwas ausgegeben haben mit Hilfe von `System.out.println(\"Ein Text.\")`.\n",
    "\n",
    "Java kommt mit einer Reihe von nützlichen Funktionen. Hier eine kurze Liste:"
   ]
  },
  {
   "cell_type": "markdown",
   "id": "8b932d2a",
   "metadata": {
    "slideshow": {
     "slide_type": "fragment"
    }
   },
   "source": [
    "| Name | Beschreibung |\n",
    "| --- | --- |\n",
    "| `System.out.println( )` | Gibt einen Text aus und macht eine neue Zeile. |\n",
    "| `System.out.print( )` | Gibt einen Text aus ohne eine neue Zeile zu beginnen. |\n",
    "| `Math.abs()` | Absolut Betrag einer Zahl. |\n",
    "| `Math.round()` | Mathematisches runden auf eine ganze Zahl. |\n",
    "| `Math.random()` | Zufällige double Zahl zwischen 0.0 und 1.0 . |\n",
    "| `String.format()` | Formatierten Text erstellen. |\n",
    "| `Integer.parseInt()` | Wandelt einen Text in eine Zahl um. |"
   ]
  },
  {
   "cell_type": "markdown",
   "id": "d8cdffab",
   "metadata": {
    "slideshow": {
     "slide_type": "slide"
    }
   },
   "source": [
    "### String zu Zahl Konvertieren"
   ]
  },
  {
   "cell_type": "markdown",
   "id": "45081caa",
   "metadata": {
    "slideshow": {
     "slide_type": "skip"
    }
   },
   "source": [
    "Wir wissen wie wir zwischen den Typen `int`, `long`, `float` und `double` hin und her konvertieren können. Zahlen können wir auch schon in einen Text umwandeln, in dem wir diese mit dem Operator `+` zu einem leeren String hinzufügen. Für die andere Richtung bietet uns Java folgende nützliche Helfer:"
   ]
  },
  {
   "cell_type": "code",
   "execution_count": 75,
   "id": "b8a3fa19",
   "metadata": {
    "slideshow": {
     "slide_type": "fragment"
    }
   },
   "outputs": [],
   "source": [
    "public class ConvertNumbers {\n",
    "    public static void main(String[] args) {\n",
    "        int i = Integer.parseInt(\"42\");\n",
    "        long l = Long.parseLong(\"9876543210\");\n",
    "        float f = Float.parseFloat(\"3.1415\");\n",
    "        double d = Double.parseDouble(\"0.3333333333333333\");\n",
    "        System.out.println(\"Die Zahlen sind \" + i + \", \" + l + \", \" + f + \", \" + d);\n",
    "    }\n",
    "}"
   ]
  },
  {
   "cell_type": "code",
   "execution_count": 76,
   "id": "d22117a9",
   "metadata": {
    "slideshow": {
     "slide_type": "subslide"
    }
   },
   "outputs": [
    {
     "name": "stdout",
     "output_type": "stream",
     "text": [
      "Die Zahlen sind 42, 9876543210, 3.1415, 0.3333333333333333\n"
     ]
    }
   ],
   "source": [
    "ConvertNumbers.main(new String[0]);"
   ]
  },
  {
   "cell_type": "markdown",
   "id": "decb8095",
   "metadata": {
    "slideshow": {
     "slide_type": "subslide"
    }
   },
   "source": [
    "#### Miniübung"
   ]
  },
  {
   "cell_type": "markdown",
   "id": "c116098f",
   "metadata": {
    "slideshow": {
     "slide_type": "-"
    }
   },
   "source": [
    "- Versuchen Sie einmal einen Text, welcher keine gültige Zahl darstellt mit einer der Funktionen zu konvertieren. Was passiert?"
   ]
  },
  {
   "cell_type": "markdown",
   "id": "471e5972",
   "metadata": {
    "slideshow": {
     "slide_type": "slide"
    }
   },
   "source": [
    "### String formatieren"
   ]
  },
  {
   "cell_type": "markdown",
   "id": "39d39a84",
   "metadata": {
    "slideshow": {
     "slide_type": "skip"
    }
   },
   "source": [
    "Wenn wir etwas als Text ausgeben, dann möchten wir darüber Kontrole haben wie dies passiert. Verschiedene Zahlen oder Texte sollen die selbe Länge haben, sollen rechts-bündig oder links-bündig ausgegeben werden. Auch dafür bietet uns Java Methoden um dies zu erreichen.\n",
    "\n",
    "Schauen wir uns doch an, wie wir Zahlen rechtsbündig ausgeben können."
   ]
  },
  {
   "cell_type": "code",
   "execution_count": 115,
   "id": "a6a41d40",
   "metadata": {
    "slideshow": {
     "slide_type": "fragment"
    }
   },
   "outputs": [],
   "source": [
    "public class RightAlign {\n",
    "    public static void main(String[] args) {\n",
    "        int i = 123;\n",
    "        int j = 9;\n",
    "        System.out.println(\"\"+i);\n",
    "        System.out.println(\"\"+j);\n",
    "        System.out.println(String.format(\"% 6d\", i));\n",
    "        System.out.println(String.format(\"% 6d\", j));\n",
    "    }\n",
    "}"
   ]
  },
  {
   "cell_type": "code",
   "execution_count": 116,
   "id": "4cd1331b",
   "metadata": {
    "slideshow": {
     "slide_type": "subslide"
    }
   },
   "outputs": [
    {
     "name": "stdout",
     "output_type": "stream",
     "text": [
      "123\n",
      "9\n",
      "   123\n",
      "     9\n"
     ]
    }
   ],
   "source": [
    "RightAlign.main(new String[0]);"
   ]
  },
  {
   "cell_type": "markdown",
   "id": "6975ab83",
   "metadata": {
    "slideshow": {
     "slide_type": "subslide"
    }
   },
   "source": [
    "Der Syntax für die Ausgabe ist\n",
    "```java\n",
    "\"%d\"   // Ganzezahlen\n",
    "\"%f\"   // Gleitkommazahlen\n",
    "\"%s\"   // Text\n",
    "\"%9d\"  // minimale Länge als Zahl, hier 9, rechtsbündig ausrichten\n",
    "\"%-7s\" // `-` bedeutet linksbündig ausrichten\n",
    "\"%.4f\" // `.` gefolgt von Zahl, abschneiden nach der 4ten Dezimalstelle\n",
    "```"
   ]
  },
  {
   "cell_type": "code",
   "execution_count": 117,
   "id": "e3b18508",
   "metadata": {
    "slideshow": {
     "slide_type": "subslide"
    }
   },
   "outputs": [],
   "source": [
    "public class Alignments {\n",
    "    public static void main(String[] args) {\n",
    "        System.out.println(String.format(\"|%d|\",123));\n",
    "        System.out.println(String.format(\"|%10d|\",123));\n",
    "        System.out.println(String.format(\"|%-10d|\",123));\n",
    "        System.out.println(String.format(\"|%10s|\",\"foobar\"));\n",
    "        System.out.println(String.format(\"|%-10s|\",\"foobar\"));\n",
    "        System.out.println(String.format(\"|%.3s|\",\"foobar\"));\n",
    "        System.out.println(String.format(\"|%20f|\",Math.PI));\n",
    "        System.out.println(String.format(\"|%20.16f|\",Math.PI));\n",
    "        System.out.println(String.format(\"|%-20.3f|\",Math.PI));\n",
    "    }\n",
    "}"
   ]
  },
  {
   "cell_type": "code",
   "execution_count": 67,
   "id": "5d6902d1",
   "metadata": {
    "slideshow": {
     "slide_type": "subslide"
    }
   },
   "outputs": [
    {
     "name": "stdout",
     "output_type": "stream",
     "text": [
      "|123|\n",
      "|       123|\n",
      "|123       |\n",
      "|    foobar|\n",
      "|foobar    |\n",
      "|foo|\n",
      "|            3.141593|\n",
      "|  3.1415926535897930|\n",
      "|3.142               |\n"
     ]
    }
   ],
   "source": [
    "Alignments.main(new String[0]);"
   ]
  },
  {
   "cell_type": "markdown",
   "id": "21f4f1bd",
   "metadata": {},
   "source": [
    "#### Miniübung"
   ]
  },
  {
   "cell_type": "markdown",
   "id": "a27799e2",
   "metadata": {},
   "source": [
    "- Führen Sie die Zellen aus.\n",
    "- Wieviele Stellen nach dem Komma werden bei einer Gleitkommazahl standardmässig ausgegeben?\n",
    "- Was passiert mit einem String wenn Sie eine Genauigkeit mit Hilfe des Punktes angeben?"
   ]
  },
  {
   "cell_type": "markdown",
   "id": "c4627906",
   "metadata": {
    "slideshow": {
     "slide_type": "slide"
    }
   },
   "source": [
    "### Zufall"
   ]
  },
  {
   "cell_type": "markdown",
   "id": "8aa48b23",
   "metadata": {
    "slideshow": {
     "slide_type": "skip"
    }
   },
   "source": [
    "In Computerprogrammen kommen häufig Zufallszahlen vor. Dies kann in Simulationen sein, um Effekte zufällig auftreten zu lassen, oder Sie möchten ein Spiel programmieren und den Würfel simulieren."
   ]
  },
  {
   "cell_type": "markdown",
   "id": "55def4d4",
   "metadata": {
    "slideshow": {
     "slide_type": "fragment"
    }
   },
   "source": [
    "Wir wollen uns eine Implementation eines standard Würfels mit den Zahlen 1 bis 6 ansehen."
   ]
  },
  {
   "cell_type": "code",
   "execution_count": 119,
   "id": "168ecbee",
   "metadata": {
    "slideshow": {
     "slide_type": "fragment"
    }
   },
   "outputs": [],
   "source": [
    "public class Dice {\n",
    "    public static int roll() {\n",
    "        double randomNumber = Math.random(); // generiert Zahlen im Intervall [0.0, 1.0)\n",
    "        int eyes = (int) Math.ceil(randomNumber * 6); // Zahlen [0.0, 6.0) aufrunden -> [1, 6]\n",
    "        return eyes;\n",
    "    }\n",
    "\n",
    "    public static void main(String[] args) {\n",
    "        System.out.println(roll());\n",
    "    }\n",
    "}"
   ]
  },
  {
   "cell_type": "code",
   "execution_count": 138,
   "id": "d69c1376",
   "metadata": {
    "slideshow": {
     "slide_type": "subslide"
    }
   },
   "outputs": [
    {
     "name": "stdout",
     "output_type": "stream",
     "text": [
      "1\n"
     ]
    }
   ],
   "source": [
    "Dice.main(new String[0]);"
   ]
  },
  {
   "cell_type": "markdown",
   "id": "f70b42c8",
   "metadata": {
    "slideshow": {
     "slide_type": "slide"
    }
   },
   "source": [
    "### Münze"
   ]
  },
  {
   "cell_type": "markdown",
   "id": "2b19b08b",
   "metadata": {
    "slideshow": {
     "slide_type": "-"
    }
   },
   "source": [
    "Wie implementieren wir eine Münze?"
   ]
  },
  {
   "cell_type": "code",
   "execution_count": 178,
   "id": "beed5b5c",
   "metadata": {
    "slideshow": {
     "slide_type": "fragment"
    }
   },
   "outputs": [],
   "source": [
    "public class Coin {\n",
    "    public static int flip() {\n",
    "        double randomNumber = Math.random();\n",
    "        //int side = (int) Math.round( randomNumber);\n",
    "        int side = Math.round((float) randomNumber);\n",
    "        return side;\n",
    "    }\n",
    "    \n",
    "    public static void main(String[] args) {\n",
    "        System.out.println(flip());\n",
    "    }\n",
    "}"
   ]
  },
  {
   "cell_type": "code",
   "execution_count": 176,
   "id": "acdaf1de",
   "metadata": {
    "slideshow": {
     "slide_type": "subslide"
    }
   },
   "outputs": [
    {
     "name": "stdout",
     "output_type": "stream",
     "text": [
      "0\n"
     ]
    }
   ],
   "source": [
    "Coin.main(new String[0]);"
   ]
  },
  {
   "cell_type": "markdown",
   "id": "b08abe6e",
   "metadata": {
    "slideshow": {
     "slide_type": "subslide"
    }
   },
   "source": [
    "#### Miniübung"
   ]
  },
  {
   "cell_type": "markdown",
   "id": "3d632648",
   "metadata": {
    "slideshow": {
     "slide_type": "-"
    }
   },
   "source": [
    "- Testen Sie beide Varianten.\n",
    "- Versuchen Sie auch die beiden Type Casts wegzulassen."
   ]
  },
  {
   "cell_type": "markdown",
   "id": "f831f090",
   "metadata": {
    "slideshow": {
     "slide_type": "-"
    }
   },
   "source": [
    "Können Sie sich das Verhalten erklären?"
   ]
  },
  {
   "cell_type": "markdown",
   "id": "9a37042c",
   "metadata": {
    "slideshow": {
     "slide_type": "slide"
    }
   },
   "source": [
    "### Methoden Überladen"
   ]
  },
  {
   "cell_type": "markdown",
   "id": "f2d7bc1e",
   "metadata": {
    "slideshow": {
     "slide_type": "skip"
    }
   },
   "source": [
    "Überladen bezeichnet die Möglichkeit zwei Funktionen zu definieren, welche den selben Namen haben, sich jedoch in der Anzahl oder den Typen der Parameter unterscheiden.\n",
    "\n",
    "Anwendungen\n",
    "\n",
    "- Methodenname können nach dem was die Methode tut gewählt werden. Auch wenn die Implementation nicht identisch ist."
   ]
  },
  {
   "cell_type": "code",
   "execution_count": 125,
   "id": "6055a7c8",
   "metadata": {
    "slideshow": {
     "slide_type": "subslide"
    }
   },
   "outputs": [],
   "source": [
    "public class RightAlignOverloaded {\n",
    "    public static String alignRight(String s) {\n",
    "        return String.format(\"%20s\", s);\n",
    "    }\n",
    "    \n",
    "    public static String alignRight(int i) {\n",
    "        return String.format(\"%020d\", i);\n",
    "    }\n",
    "\n",
    "    public static void main(String[] args) {\n",
    "        System.out.println(alignRight(\"Eine gute Antwort\"));\n",
    "        System.out.println(alignRight(42));\n",
    "    }\n",
    "}"
   ]
  },
  {
   "cell_type": "code",
   "execution_count": 126,
   "id": "22beb5ec",
   "metadata": {
    "slideshow": {
     "slide_type": "subslide"
    }
   },
   "outputs": [
    {
     "name": "stdout",
     "output_type": "stream",
     "text": [
      "   Eine gute Antwort\n",
      "00000000000000000042\n"
     ]
    }
   ],
   "source": [
    "RightAlignOverloaded.main(new String[0]);"
   ]
  },
  {
   "cell_type": "markdown",
   "id": "76b1b0d3",
   "metadata": {
    "slideshow": {
     "slide_type": "slide"
    }
   },
   "source": [
    "### Optionale Parameter"
   ]
  },
  {
   "cell_type": "markdown",
   "id": "c5d2220b",
   "metadata": {
    "slideshow": {
     "slide_type": "skip"
    }
   },
   "source": [
    "Mit dem Überladen von Methoden können wir noch ein anderes nützliches Verhalten erreichen.\n",
    "Wir können Parameter einer Funktion optional machen.\n",
    "\n",
    "Ziele:\n",
    "- Parameter die meistens den selben Wert haben sollen, müssen so nicht übergeben werden.\n",
    "- Für unerfahrene Programmierende ergibt sich eine einfachere Benützung einer Funktion."
   ]
  },
  {
   "cell_type": "code",
   "execution_count": 83,
   "id": "1b5f54a7",
   "metadata": {
    "slideshow": {
     "slide_type": "subslide"
    }
   },
   "outputs": [],
   "source": [
    "public class RightAlignParametrized {\n",
    "    public static String alignRight(int i) {\n",
    "        return alignRight(i, 10);\n",
    "    }\n",
    "    \n",
    "    public static String alignRight(int i, int length) {\n",
    "        return String.format(\"% \"+length+\"d\", i);\n",
    "    }\n",
    "\n",
    "    public static void main(String[] args) {\n",
    "        //System.out.println(alignRight(9));\n",
    "        System.out.println(alignRight(10, 10));\n",
    "    }\n",
    "}"
   ]
  },
  {
   "cell_type": "code",
   "execution_count": 84,
   "id": "1d4b461b",
   "metadata": {
    "slideshow": {
     "slide_type": "subslide"
    }
   },
   "outputs": [
    {
     "name": "stdout",
     "output_type": "stream",
     "text": [
      "                   9\n",
      "        10\n"
     ]
    }
   ],
   "source": [
    "RightAlignParametrized.main(new String[0]);"
   ]
  },
  {
   "cell_type": "markdown",
   "id": "79f9e911",
   "metadata": {
    "slideshow": {
     "slide_type": "subslide"
    }
   },
   "source": [
    "#### Miniübung"
   ]
  },
  {
   "cell_type": "markdown",
   "id": "785efce7",
   "metadata": {
    "slideshow": {
     "slide_type": "-"
    }
   },
   "source": [
    "- Überladen Sie die Methode `alignRight` ohne den Parameter `length`.\n",
    "- Rufen Sie Ihre Methode von der `main`-Methode aus auf."
   ]
  },
  {
   "cell_type": "markdown",
   "id": "8b2a1621",
   "metadata": {
    "slideshow": {
     "slide_type": "slide"
    }
   },
   "source": [
    "### DRY Prinzip"
   ]
  },
  {
   "cell_type": "markdown",
   "id": "82b52240",
   "metadata": {
    "slideshow": {
     "slide_type": "-"
    }
   },
   "source": [
    "Wenn Sie in der letzten Miniübung die eine Methode aus der anderen aufgerufen haben, haben Sie nach dem DRY Prinzip gehandelt."
   ]
  },
  {
   "cell_type": "markdown",
   "id": "14c06444",
   "metadata": {
    "slideshow": {
     "slide_type": "-"
    }
   },
   "source": [
    "> DRY - **D**on't **R**epeat **Y**ourself\n",
    "\n",
    "- Einfachere Wartung da Änderungen an weniger Orten nötig sind.\n",
    "- Weniger Programmcode enthält oft weniger Fehler."
   ]
  },
  {
   "cell_type": "markdown",
   "id": "2debd5d5",
   "metadata": {
    "slideshow": {
     "slide_type": "slide"
    }
   },
   "source": [
    "### Benutzer Eingaben abfragen"
   ]
  },
  {
   "cell_type": "markdown",
   "id": "90b597d2",
   "metadata": {
    "slideshow": {
     "slide_type": "-"
    }
   },
   "source": [
    "Programme werden gleich viel interessanter, wenn der Benutzer während deren Ausführung Entscheidungen treffen kann, um so das Programm aktiv zu steuern. Wir werden uns im Moment noch darauf beschränken, etwas vom Benutzer zu erfragen und den Wert zu speichern oder auszugeben.\n",
    "\n",
    "Schauen wir uns das folgende Programm an:"
   ]
  },
  {
   "cell_type": "code",
   "execution_count": 113,
   "id": "2773e9c6",
   "metadata": {
    "slideshow": {
     "slide_type": "subslide"
    }
   },
   "outputs": [],
   "source": [
    "import java.util.Scanner;\n",
    "\n",
    "public class Interact {\n",
    "    public static void main(String[] args) {\n",
    "        Scanner userInput = new Scanner(System.in);\n",
    "        \n",
    "        System.out.println(\"Wie alt bist du?\");\n",
    "        int age = userInput.nextInt();\n",
    "        \n",
    "        System.out.println(String.format(\"Du bist %d Jahre alt. Ich bin nur 5 Jahre alt.\", age));\n",
    "    }\n",
    "}"
   ]
  },
  {
   "cell_type": "markdown",
   "id": "2dd0837e",
   "metadata": {
    "slideshow": {
     "slide_type": "skip"
    }
   },
   "source": [
    "Wir sehen hier einige neue Dinge, welche wir erst später genauer erklären werden.\n",
    "\n",
    "Auf Zeile 1 wird eine Klasse `Scanner` in unserem Programm sichtbar gemacht.\n",
    "Diese Klasse ist ein Teil von Java.\n",
    "Danach, auf Zeile 5, können wir Klasse `Scanner` wie einen Typ benutzen um eine Variable zu deklarieren.\n",
    "Die Initialisierung müssen Sie für den Moment so akzeptieren.\n",
    "Von der Idee her wir hier `System.in`, das Pendant von `System.out` einfach für die Eingabe, verwendet um die Klasse `Scanner` zu konfigurieren.\n",
    "\n",
    "Danach können wir Methoden der Klasse `Scanner`, hier `nextInt()`, verwenden."
   ]
  },
  {
   "cell_type": "code",
   "execution_count": 114,
   "id": "4c937a43",
   "metadata": {
    "slideshow": {
     "slide_type": "subslide"
    }
   },
   "outputs": [
    {
     "name": "stdout",
     "output_type": "stream",
     "text": [
      "Wie alt bist du?\n",
      "75\n",
      "Du bist 75 Jahre alt. Ich bin nur 5 Jahre alt.\n"
     ]
    }
   ],
   "source": [
    "Interact.main(new String[0]);"
   ]
  },
  {
   "cell_type": "markdown",
   "id": "c1cae0f2",
   "metadata": {
    "slideshow": {
     "slide_type": "subslide"
    }
   },
   "source": [
    "#### Miniübung"
   ]
  },
  {
   "cell_type": "markdown",
   "id": "14e1597c",
   "metadata": {
    "slideshow": {
     "slide_type": "-"
    }
   },
   "source": [
    "- Verwenden Sie die Methode `nextLine()` anstelle von `nextInt()` um einen Text, wie zum Beispiel den Namen einzulesen.\n",
    "- Können Sie mehrere Sachen nacheinander einlesen?\n",
    "\n",
    "*Hinweis: Wenn nichts eingelesen wird, dann kann es sein, dass Sie noch ein `nextLine()` einfügen müssen, nachdem Sie eine Zahl eingelesen haben und bevor Sie dem Benutzer eine zweite Frage stellen.*"
   ]
  }
 ],
 "metadata": {
  "celltoolbar": "Slideshow",
  "kernelspec": {
   "display_name": "Java",
   "language": "java",
   "name": "java"
  },
  "language_info": {
   "codemirror_mode": "java",
   "file_extension": ".jshell",
   "mimetype": "text/x-java-source",
   "name": "Java",
   "pygments_lexer": "java",
   "version": "11.0.10+9-LTS"
  }
 },
 "nbformat": 4,
 "nbformat_minor": 5
}
