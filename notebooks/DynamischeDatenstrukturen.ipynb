{
 "cells": [
  {
   "cell_type": "markdown",
   "metadata": {},
   "source": [
    "# Dynamische Datenstrukturen"
   ]
  },
  {
   "cell_type": "markdown",
   "metadata": {},
   "source": [
    "#### Marcel Lüthi, Departement Mathematik und Informatik, Universität Basel"
   ]
  },
  {
   "cell_type": "markdown",
   "metadata": {},
   "source": [
    "In diesem Notebook experimentieren wir mit den fundamentale Datenstrukturen, ```Stack```, ```Queue``` und ```List```."
   ]
  },
  {
   "cell_type": "markdown",
   "metadata": {},
   "source": [
    "### Stacks mit fixer Kapazität"
   ]
  },
  {
   "cell_type": "markdown",
   "metadata": {},
   "source": [
    "Wir beginnen mit der Klasse ```Stack```, welche einen Stapel von Elementen simuliert. Hierbei wird ein Element mittels der Methode ```push``` zuoberst auf den Stapel hinzugefügt. Die Methode ```pop``` entfernt das oberste Element und gibt es zurück. Die Elemente werden also nach dem Prinzip *Last in - first out (LIFO)* verwaltet. "
   ]
  },
  {
   "cell_type": "code",
   "execution_count": 79,
   "metadata": {},
   "outputs": [],
   "source": [
    "class Stack { \n",
    "\n",
    "    int[] data;\n",
    "    int top;\n",
    "\n",
    "    Stack(int size) {\n",
    "        data = new int[size];\n",
    "        top = -1;\n",
    "    }\n",
    "    \n",
    "    void push(int element) {\n",
    "        if (top >= data.length - 1) {\n",
    "            System.out.println(\"-- overflow\");\n",
    "        } else {\n",
    "            top += 1;\n",
    "            data[top] = element;\n",
    "        }\n",
    "    }\n",
    "    \n",
    "    int pop() { \n",
    "        if (top <= -1) {\n",
    "            \n",
    "            // hier müsste nun richtiges Fehlerhandling\n",
    "            // gemacht werden. Das kommt später in \n",
    "            // der Vorlesung. Wir geben einfach \n",
    "            // den grösstmöglichen Integer zurück um \n",
    "            // den Fehler anzuzeigen.           \n",
    "            System.out.println(\" -- underflow\");\n",
    "            return Integer.MAX_VALUE;\n",
    "        }\n",
    "        \n",
    "        int value = data[top];\n",
    "        top -= 1;\n",
    "        return value;        \n",
    "    }   \n",
    "}"
   ]
  },
  {
   "cell_type": "markdown",
   "metadata": {},
   "source": [
    "#### Miniübung\n",
    "* Ergänzen Sie die Klasse um eine Methode ```size``` welche die Anzahl Elemente im Stack zurückgibt.  \n",
    "* Schreiben Sie ein Testprogramm, welches die Zahlen 1 - 10 mit ```push``` auf den Stack legt, diese mit ```pop``` wieder ausliest und mittels ```System.out.println``` ausgibt. "
   ]
  },
  {
   "cell_type": "code",
   "execution_count": null,
   "metadata": {},
   "outputs": [],
   "source": []
  },
  {
   "cell_type": "markdown",
   "metadata": {},
   "source": [
    "### Queues fixer Kapazität"
   ]
  },
  {
   "cell_type": "markdown",
   "metadata": {},
   "source": [
    "Die nächste wichtige Datenstruktur ist die ```Queue```. Bei der Queue werden die Daten nach dem Prinzip *first-in first-out (FIFO)* verwaltet."
   ]
  },
  {
   "cell_type": "code",
   "execution_count": 1,
   "metadata": {},
   "outputs": [
    {
     "data": {
      "text/plain": [
       "com.twosigma.beaker.javash.bkr677d08ac.Queue"
      ]
     },
     "execution_count": 1,
     "metadata": {},
     "output_type": "execute_result"
    }
   ],
   "source": [
    "class Queue { \n",
    "    \n",
    "    int[] data;\n",
    "    int head;\n",
    "    int tail;\n",
    "\n",
    "    Queue(int size) {\n",
    "        data = new int[size];\n",
    "        head = 0;\n",
    "        tail = 0;\n",
    "    }\n",
    "    \n",
    "    void put(int element) {\n",
    "        if ((tail + 1) % data.length == head) { \n",
    "            System.out.println(\"-- overflow\");\n",
    "        } else { \n",
    "            data[tail] = element;\n",
    "            tail = (tail + 1) % data.length;\n",
    "        }\n",
    "    }\n",
    "    \n",
    "    int get() {\n",
    "        if (head == tail) {\n",
    "            \n",
    "            // Hier müsste richtig Fehlerhandling gemacht werden. \n",
    "            // Wir geben einfach grössten Integer zurück um\n",
    "            // Fehler anzuzueigen.\n",
    "            System.out.println(\"-- underflow\");                \n",
    "            return Integer.MAX_VALUE;\n",
    "        } else {\n",
    "            int element = data[head];\n",
    "            head = (head + 1) % data.length;\n",
    "            return element;\n",
    "        }\n",
    "    }\n",
    "}"
   ]
  },
  {
   "cell_type": "markdown",
   "metadata": {},
   "source": [
    "#### Miniübung\n",
    "* Erzeugen Sie eine Queue der Grösse 5. Schreiben Sie ein Testprogramm welches ```put``` und ```get``` Operationen in beliebiger Reihenfolge ausführt. Bei jedem ```get``` soll jeweils das zurückgegebene Elemente ausgegeben werden. \n",
    "* Fügen Sie print-statements ein um zu verstehen wie sich ```head``` und ```tail``` in der Queue verhalten. \n",
    "* Schreiben Sie eine Methode ```size```, welche die Anzahl Elemente zurückgibt, die gerade in der Queue gespeichert sind. \n"
   ]
  },
  {
   "cell_type": "code",
   "execution_count": null,
   "metadata": {},
   "outputs": [],
   "source": []
  },
  {
   "cell_type": "markdown",
   "metadata": {},
   "source": [
    "### Verkettete Listen"
   ]
  },
  {
   "cell_type": "markdown",
   "metadata": {},
   "source": [
    "Bisher haben wir uns nur Datenstrukturen mit fixer Kapazität angeschaut. Dabei muss beim Erzeugen der Datenstruktur angegeben werden, wieviele Elemente maximal gespeichert werden können. Die Verkettete Liste ist die erste Datenstruktur die wir kennenlernen, bei der die Kapazität dynamisch wachsen kann."
   ]
  },
  {
   "cell_type": "markdown",
   "metadata": {},
   "source": [
    "Die Grundlage für die Implementation ist ein Node. Ein Node enthält die Daten (hier der String ```item```) und eine Referenz auf das nächste Element (oder ```null```, falls es kein nächstes Element gibt)."
   ]
  },
  {
   "cell_type": "code",
   "execution_count": 2,
   "metadata": {},
   "outputs": [
    {
     "data": {
      "text/plain": [
       "com.twosigma.beaker.javash.bkr677d08ac.Node"
      ]
     },
     "execution_count": 2,
     "metadata": {},
     "output_type": "execute_result"
    }
   ],
   "source": [
    "class Node { \n",
    "    String item;\n",
    "    Node next;\n",
    "    \n",
    "    public Node(String item) {\n",
    "        this.item = item;\n",
    "        this.next = null;\n",
    "    }\n",
    "}"
   ]
  },
  {
   "cell_type": "markdown",
   "metadata": {},
   "source": [
    "Bevor wir mit dieser Datenstruktur experimentieren, brauchen wir eine Methode, die uns die Liste anzeigt."
   ]
  },
  {
   "cell_type": "code",
   "execution_count": 6,
   "metadata": {},
   "outputs": [
    {
     "data": {
      "text/plain": [
       "com.twosigma.beaker.javash.bkr677d08ac.LLHelper"
      ]
     },
     "execution_count": 6,
     "metadata": {},
     "output_type": "execute_result"
    }
   ],
   "source": [
    "class LLHelper {\n",
    "    static void printList(Node n) {\n",
    "        Node currentNode = n;\n",
    "        while (currentNode != null) {\n",
    "            System.out.println(currentNode.item);\n",
    "            currentNode = currentNode.next;\n",
    "        }\n",
    "    }\n",
    "}"
   ]
  },
  {
   "cell_type": "markdown",
   "metadata": {},
   "source": [
    "Als erstes erzeugen wir 3 Knoten."
   ]
  },
  {
   "cell_type": "code",
   "execution_count": 8,
   "metadata": {},
   "outputs": [
    {
     "name": "stdout",
     "output_type": "stream",
     "text": [
      "first\n"
     ]
    },
    {
     "data": {
      "text/plain": [
       "null"
      ]
     },
     "execution_count": 8,
     "metadata": {},
     "output_type": "execute_result"
    }
   ],
   "source": [
    "Node n1 = new Node(\"first\");\n",
    "Node n2 = new Node(\"second\");\n",
    "Node n3 = new Node(\"third\");\n",
    "LLHelper.printList(n1);"
   ]
  },
  {
   "cell_type": "markdown",
   "metadata": {},
   "source": [
    "Wie wir beim Ausführen von ```printList``` sehen, wird nur das erste Element ausgegeben."
   ]
  },
  {
   "cell_type": "markdown",
   "metadata": {},
   "source": [
    "Um eine Liste von 3 Elementen zu erhalten müssen wir diese noch verketten. Wenn wir jetzt ```printList(n1)``` aufrufen  werden alle 3 Knoten ausgegeben:"
   ]
  },
  {
   "cell_type": "code",
   "execution_count": 10,
   "metadata": {},
   "outputs": [
    {
     "name": "stdout",
     "output_type": "stream",
     "text": [
      "first\n",
      "second\n",
      "third\n"
     ]
    },
    {
     "data": {
      "text/plain": [
       "null"
      ]
     },
     "execution_count": 10,
     "metadata": {},
     "output_type": "execute_result"
    }
   ],
   "source": [
    "Node n1 = new Node(\"first\");\n",
    "Node n2 = new Node(\"second\");\n",
    "Node n3 = new Node(\"third\");\n",
    "n1.next = n2; \n",
    "n2.next = n3;\n",
    "LLHelper.printList(n1);"
   ]
  },
  {
   "cell_type": "markdown",
   "metadata": {},
   "source": [
    "Wir können jetzt weitere Funktionen schreiben um mit der Liste zu arbeiten, wie zum Beispiel ein Element am Ender der Liste hinzuzufügen. Dafür müssen wir als erstes zum Ende der Liste Navigieren und dann die Referenzen auf ```next``` neu setzten:"
   ]
  },
  {
   "cell_type": "code",
   "execution_count": 14,
   "metadata": {},
   "outputs": [
    {
     "data": {
      "text/plain": [
       "com.twosigma.beaker.javash.bkr677d08ac.LLHelper"
      ]
     },
     "execution_count": 14,
     "metadata": {},
     "output_type": "execute_result"
    }
   ],
   "source": [
    "class LLHelper {\n",
    "    static void append(Node node, String item) {\n",
    "        Node currentNode = node;\n",
    "        while (currentNode.next != null) {\n",
    "            currentNode = currentNode.next;\n",
    "        }\n",
    "        currentNode.next = new Node(item);\n",
    "    }\n",
    "    \n",
    "     static void printList(Node n) {\n",
    "        Node currentNode = n;\n",
    "        while (currentNode != null) {\n",
    "            System.out.println(currentNode.item);\n",
    "            currentNode = currentNode.next;\n",
    "        }\n",
    "    }\n",
    "}\n",
    "\n"
   ]
  },
  {
   "cell_type": "markdown",
   "metadata": {},
   "source": [
    "Mit dieser Funktion können wir nun die Listen einfacher aufbauen:"
   ]
  },
  {
   "cell_type": "code",
   "execution_count": 15,
   "metadata": {},
   "outputs": [
    {
     "name": "stdout",
     "output_type": "stream",
     "text": [
      "first\n",
      "second\n",
      "third\n"
     ]
    },
    {
     "data": {
      "text/plain": [
       "null"
      ]
     },
     "execution_count": 15,
     "metadata": {},
     "output_type": "execute_result"
    }
   ],
   "source": [
    "Node n1 = new Node(\"first\");\n",
    "LLHelper.append(n1, \"second\");\n",
    "LLHelper.append(n1, \"third\");\n",
    "\n",
    "LLHelper.printList(n1);"
   ]
  },
  {
   "cell_type": "markdown",
   "metadata": {},
   "source": [
    "Wenn wir nur statische Methoden anbieten um eine Liste zu bearbeiten, müssen wir jeweils den ersten Knoten manuell speichern. Ausserdem werden alle Aufrufe etwas umständlich. Schöner wird es, wenn wir Objektorientierung nutzen.\n",
    "\n",
    "Im Folgenden Zeigen wir eine Implementation einer Klasse ```List```, die ähnlich wie ein Array eine geordnete Sequenz von Elementen speichern kann. Im Gegensatz zu Arrays kann diese aber dynamisch wachsen. Damit wir beim ```append``` nicht immer die ganze Liste durchlaufen müssen, speichern wir uns eine Referenz auf den ersten Knoten (head) und eines auf den letzten Knoten (tail). "
   ]
  },
  {
   "cell_type": "code",
   "execution_count": 18,
   "metadata": {},
   "outputs": [
    {
     "data": {
      "text/plain": [
       "com.twosigma.beaker.javash.bkr677d08ac.List"
      ]
     },
     "execution_count": 18,
     "metadata": {},
     "output_type": "execute_result"
    }
   ],
   "source": [
    "class List {\n",
    "\n",
    "    Node head;\n",
    "    Node tail;\n",
    "    \n",
    "    List() { \n",
    "        this.head = null;\n",
    "        this.tail = null;\n",
    "    }\n",
    "    \n",
    "    void append(String item) {\n",
    "        Node newItem = new Node(item);\n",
    "        if (head == null) { \n",
    "            this.head = newItem;\n",
    "            this.tail = newItem;\n",
    "        } else {\n",
    "            this.tail.next = newItem;\n",
    "            this.tail = newItem;\n",
    "        }\n",
    "    }    \n",
    " \n",
    "    void print() {\n",
    "        Node n = this.head;\n",
    "        while (n != null) {\n",
    "            System.out.println(n.item);\n",
    "            n = n.next;\n",
    "        }        \n",
    "    }\n",
    "    \n",
    "}"
   ]
  },
  {
   "cell_type": "markdown",
   "metadata": {},
   "source": [
    "Mit dieser Klasse können wir nun beliebig viele Elemente auf einfache Art und Weise speichern. "
   ]
  },
  {
   "cell_type": "code",
   "execution_count": 19,
   "metadata": {},
   "outputs": [
    {
     "name": "stdout",
     "output_type": "stream",
     "text": [
      "first\n",
      "second\n",
      "third\n"
     ]
    },
    {
     "data": {
      "text/plain": [
       "null"
      ]
     },
     "execution_count": 19,
     "metadata": {},
     "output_type": "execute_result"
    }
   ],
   "source": [
    "List l = new List();\n",
    "l.append(\"first\");\n",
    "l.append(\"second\");\n",
    "l.append(\"third\");\n",
    "l.print();\n"
   ]
  },
  {
   "cell_type": "markdown",
   "metadata": {},
   "source": [
    "#### Miniübung\n",
    "\n",
    "* Schreiben Sie eine Methode ```prepend```, welche ein Element am Anfang der Liste einfügt. \n",
    "* Schreiben Sie eine Methode ```contains```, welches true zurückgibt, falls ein gegebenes Element in der Liste vorkommt. \n",
    "* Schreiben Sie eine Methode ```delete```, welches ein gegebenes Element sucht und dieses aus der Liste löscht. "
   ]
  }
 ],
 "metadata": {
  "kernelspec": {
   "display_name": "Java",
   "language": "java",
   "name": "java"
  },
  "language_info": {
   "codemirror_mode": "text/x-java",
   "file_extension": ".java",
   "mimetype": "",
   "name": "Java",
   "nbconverter_exporter": "",
   "version": "1.8.0_121"
  },
  "toc": {
   "base_numbering": 1,
   "nav_menu": {},
   "number_sections": false,
   "sideBar": false,
   "skip_h1_title": false,
   "title_cell": "Table of Contents",
   "title_sidebar": "Contents",
   "toc_cell": false,
   "toc_position": {},
   "toc_section_display": false,
   "toc_window_display": false
  }
 },
 "nbformat": 4,
 "nbformat_minor": 2
}
