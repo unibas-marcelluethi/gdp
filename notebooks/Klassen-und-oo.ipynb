{
 "cells": [
  {
   "cell_type": "markdown",
   "metadata": {},
   "source": [
    "# Klassen und Objektorientierte Programmierung"
   ]
  },
  {
   "cell_type": "markdown",
   "metadata": {},
   "source": [
    "In diesem Notebook schauen wir uns Klassen und Objekte an. Wir beginnen mit einer Diskussion der grundlegenden Aspekten, insbesondere wie man Objekte instantiert, und wann zwei Objekte gleich sind. In einem zweiten Teil widmen wir uns dann der Objektorientierten Programmierung, welche die Hauptanwendung von Klassen ist. \n"
   ]
  },
  {
   "cell_type": "markdown",
   "metadata": {},
   "source": [
    "#### Klassen und Objekte"
   ]
  },
  {
   "cell_type": "markdown",
   "metadata": {},
   "source": [
    "Wir beginnen mit der Definition einer ganz einfachen Klasse, der Klasse ```Vector2D```, welche einen Vektor im 2-Dimensionalen Raum repräsentiert.\n"
   ]
  },
  {
   "cell_type": "code",
   "execution_count": null,
   "metadata": {},
   "outputs": [],
   "source": [
    "class Vector2D {\n",
    "    double x;\n",
    "    double y;\n",
    "}"
   ]
  },
  {
   "cell_type": "markdown",
   "metadata": {},
   "source": [
    "Von dieser Klasse können wir uns nun verschiedene Instanzen (genannt Objekte) generieren. Wir generieren zwei verschiedene Instanzen und setzen die entsprechenden Felder. "
   ]
  },
  {
   "cell_type": "code",
   "execution_count": null,
   "metadata": {},
   "outputs": [],
   "source": [
    "Vector2D v1 = new Vector2D();\n",
    "v1.x = 1;\n",
    "v1.y = 3;\n",
    "Vector2D v2 = new Vector2D(); \n",
    "v2.x = 2;\n",
    "v2.y = 3;"
   ]
  },
  {
   "cell_type": "markdown",
   "metadata": {},
   "source": [
    "#### Miniübungen\n",
    "\n",
    "* Schreiben Sie eine Methode ```print(Vector v)```, welche einen Vektor entgegennimmt und diesen ausgibt.\n",
    "* Setzen Sie die Felder der Instanzen ```v1``` und ```v2``` auf dieselben Werte, so dass beide denselben Vektor repräsentieren\n",
    "    * Was gibt der Vergleich ```v1 == v2``` aus?\n",
    "    * Weshalb ist das so?\n",
    "* Implementieren Sie eine Methode ```equals(Vector2D v1, Vector2D v2)``` welche zwei Vektoren vergleicht. \n",
    "* Wie funktionieren Zuweisungen? Funktioniert es so wie bei Arrays oder wie bei primitiven Datentypen? Experimentieren Sie. \n",
    "* Implementieren Sie eine Methode ```add``` welche zwei Vektoren addiert und das Ergebnis zurückliefert.\n",
    "* Diskutieren Sie (oder Überlegen sie sich), wie Sie Klassen verwenden können um mehrere Werte aus einer Methode zurückzugeben."
   ]
  },
  {
   "cell_type": "code",
   "execution_count": null,
   "metadata": {},
   "outputs": [],
   "source": [
    "class Vector2DOps {\n",
    "  // Ihre Lösung\n",
    "    \n",
    "}"
   ]
  },
  {
   "cell_type": "markdown",
   "metadata": {},
   "source": [
    "## Objektorientierung\n",
    "\n",
    "Bisher haben wir Objekte nur verwendet um zusammengehörige Werte in einer Variable zu speichern. Die Essenz von Objektorientierung ist jedoch, dass die Klassen sinnvolle Operationen zur Verfügung stellen, um mit diesen Werten zu arbeiten. Bei Vektoren würden wir zum Beispiel erwarten, dass \n",
    "diese addiert werden können, dass wir das Skalarprodukt zwischen zwei Vektoren berechnen können, oder dass wir deren norm bestimmen können. Ausserdem möchten wir immer, wenn wir ein Instanz einer Klasse erstellen, dass die Felder direkt auf sinnvolle Werte gesetzt werden. Das folgende Beispiel zeigt, wie wir dies mit der Klasse ```Vector2D``` umsetzen können. "
   ]
  },
  {
   "cell_type": "code",
   "execution_count": null,
   "metadata": {},
   "outputs": [],
   "source": [
    "class Vector2D { \n",
    "\n",
    "    double x;\n",
    "    double y;\n",
    "    \n",
    "    // \n",
    "    Vector2D(double x, double y) {\n",
    "        this.x = x;\n",
    "        this.y = y;\n",
    "    }\n",
    "    \n",
    "    double dotProd(Vector2D other) {\n",
    "        return this.x * other.x + this.y * other.y;\n",
    "    }\n",
    "    \n",
    "    void print() { \n",
    "        System.out.println(\"(\" + x + \", \" + y + \")\");\n",
    "    }\n",
    "    \n",
    "}"
   ]
  },
  {
   "cell_type": "markdown",
   "metadata": {},
   "source": [
    "#### Miniübungen\n",
    "\n",
    "* Kreieren Sie zwei Vektoren und additieren Sie diese. Geben Sie das Resultat aus. \n",
    "* Implementieren Sie die anderen fehlenden Methode (Norm berechnen, Multiplikation, etc.)\n",
    "* Implemtieren Sie eine Methode ```equals```, welche zwei Vektoren auf Gleichheit prüft.\n",
    "* Können Sie nun eine Instanz erstellen ohne die Werte für x und y anzugeben? Überlegen Sie sich, weshalb dies so gut sein könnte."
   ]
  },
  {
   "cell_type": "markdown",
   "metadata": {},
   "source": [
    "### Beispiel: Kombination von Klassen mit Arrays"
   ]
  },
  {
   "cell_type": "markdown",
   "metadata": {},
   "source": [
    "Im Folgenden zeigen wir nun noch ein Beispiel, wie wir eine Liste von Objekten in einem Array speichern können. Wen Sie Arrays und Objekte verstanden haben, sollten Sie an keiner Stelle im Beispiel überrascht sein, dass es so funktioniert. \n",
    "Als Beispiel wollen wir eine Liste von Personen mit deren Telefonnummern speichern. Dazu definieren wir uns als erstes die Klasse Person, die den Namen der Person sowie die Telefonnummer enthält:"
   ]
  },
  {
   "cell_type": "code",
   "execution_count": 4,
   "metadata": {},
   "outputs": [
    {
     "data": {
      "text/plain": [
       "com.twosigma.beaker.javash.bkr78793171.Person"
      ]
     },
     "execution_count": 4,
     "metadata": {},
     "output_type": "execute_result"
    }
   ],
   "source": [
    "class Person { \n",
    "    String name;\n",
    "    int phoneNumber;\n",
    "    \n",
    "    Person(String name, int phoneNumber) {\n",
    "        this.name = name;\n",
    "        this.phoneNumber = phoneNumber;\n",
    "    }\n",
    "    \n",
    "    void print() { \n",
    "        System.out.println(\"Name:  \" +name + \", Telefonnummer: \" +phoneNumber );\n",
    "    }\n",
    "}"
   ]
  },
  {
   "cell_type": "code",
   "execution_count": 5,
   "metadata": {},
   "outputs": [
    {
     "data": {
      "text/plain": [
       "com.twosigma.beaker.javash.bkr78793171.PhoneBook"
      ]
     },
     "execution_count": 5,
     "metadata": {},
     "output_type": "execute_result"
    }
   ],
   "source": [
    "class PhoneBook {\n",
    "    Person[] persons = new Person[1000]; // can save maximum of 1000 numbers\n",
    "    int numPersons = 0;\n",
    "        \n",
    "    void addEntry(String name, int phoneNumber) { \n",
    "        Person person = new Person(name, phoneNumber);\n",
    "        persons[numPersons] = person;\n",
    "        numPersons += 1;\n",
    "    }\n",
    "}"
   ]
  },
  {
   "cell_type": "markdown",
   "metadata": {},
   "source": [
    "#### Miniübung:\n",
    "\n",
    "* Erstellen Sie eine neues PhoneBook und fügen Sie zwei Einträge hinzu.\n",
    "* Schreiben Sie eine Methode ```print```, welche alle Einträge ausgibt.\n",
    "* Schreiben Sie eine Methode ```lookup```, die als Argument den Namen einer Person nimmt und schaut, ob diese im Telefonbuch eingetragen ist. Falls ja, wird die telefonnummer zurückgegeben. Falls nicht geben Sie ```-1``` zurück.\n",
    "* Testen Sie diese Programme."
   ]
  },
  {
   "cell_type": "code",
   "execution_count": null,
   "metadata": {},
   "outputs": [],
   "source": []
  }
 ],
 "metadata": {
  "kernelspec": {
   "display_name": "Java",
   "language": "java",
   "name": "java"
  },
  "language_info": {
   "codemirror_mode": "text/x-java",
   "file_extension": ".java",
   "mimetype": "",
   "name": "Java",
   "nbconverter_exporter": "",
   "version": "1.8.0_121"
  },
  "toc": {
   "base_numbering": 1,
   "nav_menu": {},
   "number_sections": false,
   "sideBar": false,
   "skip_h1_title": false,
   "title_cell": "Table of Contents",
   "title_sidebar": "Contents",
   "toc_cell": false,
   "toc_position": {},
   "toc_section_display": false,
   "toc_window_display": false
  }
 },
 "nbformat": 4,
 "nbformat_minor": 2
}
