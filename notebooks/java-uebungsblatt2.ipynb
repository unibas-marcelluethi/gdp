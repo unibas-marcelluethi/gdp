{
 "cells": [
  {
   "cell_type": "markdown",
   "metadata": {
    "deletable": false,
    "exercise_series": "gdp",
    "slideshow": {
     "slide_type": "slide"
    }
   },
   "source": [
    "\n",
    "# Grundlagen der Programmierung <br/> Übungsblatt 02\n",
    "#### Marcel Lüthi, Andreas Morel-Forster <br/> Departement Mathematik und Informatik, Universität Basel\n"
   ]
  },
  {
   "cell_type": "markdown",
   "metadata": {
    "deletable": false,
    "slideshow": {
     "slide_type": "fragment"
    }
   },
   "source": [
    "In diesem Notebook üben Sie:\n",
    "- wie Sie Variablen deklarieren, initialisiern oder ihnen Werte zuzuweisen.\n",
    "- wie Sie Werte in andere Typen konvertieren.\n",
    "- dass die eingeführten Typen in Java nicht alle Zahlen exact darstellen können.\n",
    "- wie Sie Turtle-Grafik anwenden."
   ]
  },
  {
   "cell_type": "markdown",
   "metadata": {
    "deletable": false
   },
   "source": [
    "#### Aufgabe 1 - Variablen Deklarieren [4 Punkte]"
   ]
  },
  {
   "cell_type": "markdown",
   "metadata": {
    "deletable": false
   },
   "source": [
    "Java bietet die vier Zahlentypen `int`, `long`, `float` und `double`. Deklarieren Sie die folgenden Variablen mit dem am besten passenden Typ für den beschriebenen Zweck:\n",
    "\n",
    "- **students** für die Anzahl an Studierenden in diesem Kurs.\n",
    "- **humans** für die Anzahl Menschen auf der Erde.\n",
    "- **weight** für das Gewicht einer Tomate.\n",
    "- **e** um die Eulersche Zahl möglichst genau zu speichern."
   ]
  },
  {
   "cell_type": "code",
   "execution_count": null,
   "metadata": {
    "deletable": false,
    "exercise_id": 1
   },
   "outputs": [],
   "source": [
    "public class Declarations {\n",
    "    public static void main(String[] args) {\n",
    "        // Ihre Lösung kommt hier hin\n",
    "    }\n",
    "}"
   ]
  },
  {
   "cell_type": "code",
   "execution_count": null,
   "metadata": {
    "deletable": false
   },
   "outputs": [],
   "source": [
    "Declarations.main(new String[0]);"
   ]
  },
  {
   "cell_type": "markdown",
   "metadata": {
    "deletable": false,
    "slideshow": {
     "slide_type": "subslide"
    }
   },
   "source": [
    "#### Aufgabe 2 - Zuweisungen [2 Punkte]"
   ]
  },
  {
   "cell_type": "markdown",
   "metadata": {
    "deletable": false
   },
   "source": [
    "Weisen Sie den Variablen `i` und `d` im folgenden Code den in `f` gespeicherten Wert zu.\n",
    "\n",
    "Nicht bewertet:\n",
    "- Geben Sie doch die Variablen nach der Zuweisung aus um zu kontrollieren ob Ihre Lösung auch funktioniert.\n",
    "- Was passiert wenn Sie die Variablen ausgeben wollen bevor Sie diesen einen Wert zuweisen?"
   ]
  },
  {
   "cell_type": "code",
   "execution_count": null,
   "metadata": {
    "deletable": false,
    "exercise_id": 2,
    "exercise_series": "gdp"
   },
   "outputs": [],
   "source": [
    "public class Assignments {\n",
    "    public static void main(String[] args) {\n",
    "        float f = 3.1415f;\n",
    "        int i;\n",
    "        double d;\n",
    "        // Ihre Lösung kommt hier hin\n",
    "    }\n",
    "}"
   ]
  },
  {
   "cell_type": "code",
   "execution_count": null,
   "metadata": {
    "deletable": false
   },
   "outputs": [],
   "source": [
    "Assignments.main(new String[0]);"
   ]
  },
  {
   "cell_type": "markdown",
   "metadata": {
    "deletable": false
   },
   "source": [
    "#### Aufgabe 3 - Deklaration und Initialisierung [2 Punkte]"
   ]
  },
  {
   "cell_type": "markdown",
   "metadata": {},
   "source": [
    "Deklarieren und initialisieren Sie die folgenden Variablen in einem Schritt.\n",
    "- Eine Variable `n` vom Typ `int` mit dem Wert 42.\n",
    "- Eine Variable `x` vom Typ `double` mit dem Wert 3.1415.\n"
   ]
  },
  {
   "cell_type": "code",
   "execution_count": null,
   "metadata": {
    "deletable": false,
    "exercise_id": 3,
    "exercise_series": "gdp"
   },
   "outputs": [],
   "source": [
    "public class Initializations {\n",
    "    public static void main(String[] args) {\n",
    "        // Ihre Lösung kommt hier hin\n",
    "    }\n",
    "}"
   ]
  },
  {
   "cell_type": "code",
   "execution_count": null,
   "metadata": {},
   "outputs": [],
   "source": [
    "Initializations.main(new String[0]);"
   ]
  },
  {
   "cell_type": "markdown",
   "metadata": {
    "deletable": false
   },
   "source": [
    "#### Aufgabe 4 - Typenfehler [4 Punkte]"
   ]
  },
  {
   "cell_type": "markdown",
   "metadata": {},
   "source": [
    "Der folgende Java-Code kann man so nicht ausführen, der Kompiler reklamiert auf Grund von Fehlern. Versuchen Sie die Fehler zu beheben, ohne den Sinn des Java-Codes zu ändern.\n",
    "- Überlegen Sie sich wo die Fehler sind in der nächsten Zelle.\n",
    "- Führen Sie die Zelle aus und vergleichen Sie die Meldungen des Kompilers mit Ihren Erwartungen.\n",
    "- Um Fehler zu korrigieren,\n",
    "    - ändern Sie den Typ des Wertes der zugewiesen wird, ohne deren Zahlenwert zu ändern.\n",
    "    - verwenden Sie Type-Casting wo nötig.\n",
    "\n",
    "Nicht bewertet:\n",
    "- Geben Sie die drei Variablen aus und vergleichen Sie deren Werte."
   ]
  },
  {
   "cell_type": "code",
   "execution_count": null,
   "metadata": {
    "deletable": false,
    "exercise_id": 4,
    "exercise_series": "gdp"
   },
   "outputs": [],
   "source": [
    "public class WrongAssignments {\n",
    "    public static void main(String[] args) {\n",
    "        double value = Math.PI;\n",
    "        float f = 3.0;\n",
    "        int i = 0.0;\n",
    "        f = value;\n",
    "        i = value;\n",
    "    }\n",
    "}"
   ]
  },
  {
   "cell_type": "code",
   "execution_count": null,
   "metadata": {},
   "outputs": [],
   "source": [
    "WrongAssignments.main(new String[0]);"
   ]
  },
  {
   "cell_type": "markdown",
   "metadata": {
    "deletable": false
   },
   "source": [
    "#### Aufgabe 5 - Aufpassen mit Integer [1 Punkt]"
   ]
  },
  {
   "cell_type": "markdown",
   "metadata": {},
   "source": [
    "Sie wollen in Ihrem Garten Holzpfosten aufstellen. Sie haben eine lange Holzstange von 4 Meter und wollen daraus 8 Stück schneiden. Wie lange wird ein Stück sein?\n",
    "\n",
    "- Erstellen Sie zuerst zwei Variablen vom Typ `int`. `length` für die Länge und `pieces` für die Anzahl.\n",
    "- Geben Sie dann den folgenden Text aus: \"Jedes Stück ist \" + ... + \"m lang.\" wobei die drei Punkte durch das Ergebnis der Berechnung $\\frac{\\text{Länge}}{\\text{Stücke}}$ ersetzt werden sollen.\n",
    "\n",
    "Hinweis: Wird 0 für den berechneten Wert ausgegeben, dann ist Ihre Rechnung gültiger Java-Code jedoch noch nicht sehr hilfreich. Weshalb?"
   ]
  },
  {
   "cell_type": "code",
   "execution_count": null,
   "metadata": {
    "deletable": false,
    "exercise_id": 5,
    "exercise_series": "gdp"
   },
   "outputs": [],
   "source": [
    "public class IntegerDivision {\n",
    "    public static void main(String[] args) {\n",
    "        // Ihre Lösung kommt hier hin\n",
    "    }\n",
    "}"
   ]
  },
  {
   "cell_type": "code",
   "execution_count": null,
   "metadata": {},
   "outputs": [],
   "source": [
    "IntegerDivision.main(new String[0]);"
   ]
  },
  {
   "cell_type": "markdown",
   "metadata": {
    "deletable": false
   },
   "source": [
    "#### Aufgabe 6 - Genauigkeit [2 Punkte]\n",
    "In dieser Aufgabe geht es darum, dass wir uns bewusst machen wo die Genauigkeit eine Rolle spielt. Dafür verwenden wir den Datentyp `float`.\n",
    "\n",
    "Die Grösse `total`, z.B. eine komplette Wegstrecke in Meter, soll jeweils um ein Teilstück `delta`, z.B. einen Millimeter verlängert werden. Testen Sie in welcher Grössenordnung das erste mal die Summe sich nicht mehr vom grösseren der beiden Werte unterscheiden lässt.\n",
    "- Testen Sie für `total` die Werte 1.0f, 10.0f, 100.0f und dann immer noch eine `0` mehr einfügen.\n",
    "- Für die Abgabe lassen Sie dann den Wert stehen, bei welchem das erste Mal in der Ausgabe die selben Werte stehen.\n"
   ]
  },
  {
   "cell_type": "code",
   "execution_count": null,
   "metadata": {
    "deletable": false,
    "exercise_id": 6,
    "exercise_series": "gdp"
   },
   "outputs": [],
   "source": [
    "public class ShouldNotBeEqual {\n",
    "    public static void main(String[] args) {\n",
    "        // Ihre Lösung kommt hier hin\n",
    "    }\n",
    "}"
   ]
  },
  {
   "cell_type": "code",
   "execution_count": null,
   "metadata": {},
   "outputs": [],
   "source": [
    "ShouldNotBeEqual.main(new String[0]);"
   ]
  },
  {
   "cell_type": "markdown",
   "metadata": {},
   "source": [
    "#### Aufgabe 7 - Long Double Long [1 Punkt]"
   ]
  },
  {
   "cell_type": "markdown",
   "metadata": {},
   "source": [
    "Die Typen `long` und `double` sind gedacht für sehr grosse, bzw. genaue Zahlen. Dabei kann `long` alle ganzen Zahlen im seinem Wertebereich darstellen. `double` hat eine begrenzte Genauitkeit und kann in seinem Wertebereich nur gewisse Zahlen darstellen. Darunter sind nicht alle ganzen Zahlen.\n",
    "\n",
    "Ein kurzes Experiment dazu ist folgendes.\n",
    "- Definieren Sie eine Variable `initial` vom Typ `long` mit dem Wert 1234567890987654321.\n",
    "- Weisen Sie die Variable `initial` einer Variablen `converted` vom Typ `double` zu.\n",
    "- Weisen Sie widerum die Variable `converted` einer Variablen `end` vom Typ `long` zu.\n",
    "- Geben Sie die Werte, jeweils mit einem Leerschlag getrennt, der Reihe nach aus und schauen Sie sich diese genau an."
   ]
  },
  {
   "cell_type": "code",
   "execution_count": null,
   "metadata": {
    "deletable": false,
    "exercise_id": 7,
    "exercise_series": "gdp"
   },
   "outputs": [],
   "source": [
    "public class LongDoubleLong {\n",
    "    public static void main(String[] args) {\n",
    "        // Ihre Lösung kommt hier hin\n",
    "    }\n",
    "}"
   ]
  },
  {
   "cell_type": "code",
   "execution_count": null,
   "metadata": {},
   "outputs": [],
   "source": [
    "LongDoubleLong.main(new String[0]);"
   ]
  },
  {
   "cell_type": "markdown",
   "metadata": {
    "deletable": false
   },
   "source": [
    "#### Aufgabe 8 - Modulo [1 Punkt]"
   ]
  },
  {
   "cell_type": "markdown",
   "metadata": {},
   "source": [
    "Auf einer Rundrennstrecke fahren zwei Autos. Das eine Auto ist schon 45678 Meter gefahren, das andere Auto 34567. Eine Rennrunde ist 1234 Meter lang. Wie weit voraus ist das vordere der beiden Autos auf der Rennstrecke?\n",
    "\n",
    "- Das Auto das insgesamt weiter gefahren ist, ist auch aktuell in der Runde weiter vorne.\n",
    "- Rechnen Sie alles mit Variablen vom Typ `int`.\n",
    "- Geben Sie folgendes aus, wobei X durch den von Ihnen berechneten Wert ersetzt sein soll: `Die Autos haben einen Abstand von X Meter.`"
   ]
  },
  {
   "cell_type": "code",
   "execution_count": null,
   "metadata": {
    "deletable": false,
    "exercise_id": 8,
    "exercise_series": "gdp"
   },
   "outputs": [],
   "source": [
    "public class Modulo {\n",
    "    public static void main(String[] args) {\n",
    "        // Ihre Lösung kommt hier hin\n",
    "    }\n",
    "}"
   ]
  },
  {
   "cell_type": "code",
   "execution_count": null,
   "metadata": {},
   "outputs": [],
   "source": [
    "Modulo.main(new String[0]);"
   ]
  },
  {
   "cell_type": "markdown",
   "metadata": {
    "deletable": false,
    "exercise_id": 10,
    "exercise_series": "gdp"
   },
   "source": [
    "#### Aufgabe 9 - WindChill [1 Punkt]"
   ]
  },
  {
   "cell_type": "markdown",
   "metadata": {},
   "source": [
    "Der Unterschied, wenn bei Wind die gemessene und gefühlte Temperatur nicht gleich sind, wird als Windchill-Faktor bezeichnet.\n",
    "\n",
    "Schreiben Sie ein Programm, dass den Windchill-Faktor berechnet. Der Windchill-Faktor ist definiert als \n",
    "$13.12 + 0.615 t - 11.37 v^{0.16} + 0.3965 t v^{0.16}$\n",
    "wobei $t$ und $v$ die aktuelle Temperatur (in Grad Celsius) und v der Windgeschwindigkeit (in m/s) entspricht. \n",
    "\n",
    "* Nutzen Sie dazu zwei Variablen ```v``` und ```t``` und speichern Sie das Ergebnis in einer Variablen mit dem Namen ```wc```. \n",
    "* Geben Sie die Meldung ```Windchill-Faktor: wc``` aus, wobei ```wc``` mit dem berechneten Wert ersetzt werden soll. \n",
    "\n",
    "Tip: Der Ausdruck ```Math.pow(a, b)``` berechnet $a^b$. "
   ]
  },
  {
   "cell_type": "code",
   "execution_count": null,
   "metadata": {
    "deletable": false,
    "exercise_id": 9,
    "exercise_series": "gdp"
   },
   "outputs": [],
   "source": [
    "public class WindChill {\n",
    "    public static void main(String[] args) {\n",
    "        int t = 10;\n",
    "        int v = 60;\n",
    "        // Ihre Lösung kommt hier hin\n",
    "    }\n",
    "}"
   ]
  },
  {
   "cell_type": "code",
   "execution_count": null,
   "metadata": {},
   "outputs": [],
   "source": [
    "WindChill.main(new String[0]);"
   ]
  },
  {
   "cell_type": "markdown",
   "metadata": {},
   "source": [
    "#### Aufgabe 10 - Turtle Grafik"
   ]
  },
  {
   "cell_type": "markdown",
   "metadata": {},
   "source": [
    "Das Ziel dieser Aufgabe ist es die Turtle-Grafik zu üben. Bearbeiten Sie dafür das Notebook Turtle-Grafik Referenz. Dieses finden Sie auf der Vorlesungsseite verlinkt oder direkt unter diesem [Link](https://jupyterhub-edu.scicore.unibas.ch/hub/user-redirect/git-pull?repo=https%3A%2F%2Fgithub.com%2Funibas-marcelluethi%2Fgdp&urlpath=tree%2Fgdp%2Fnotebooks%2F023_TurtleReferenz.ipynb&branch=master). Sie müssen nicht jede der Aufgaben lösen, lesen Sie aber bitte alle Aufgaben durch und lösen Sie soweit Sie kommen. Die Turtle wird in den kommenden Präsenzstunden verwendet.\n",
    "\n",
    "Diese Aufgabe wird vom Auto-Korrektur Tool nicht überprüft. Anhand der grafischen Ausgabe können Sie die Richtigkeit selber überprüfen."
   ]
  }
 ],
 "metadata": {
  "celltoolbar": "Edit Metadata",
  "exercise_series": "gdp",
  "kernelspec": {
   "display_name": "Java",
   "language": "java",
   "name": "java"
  },
  "language_info": {
   "codemirror_mode": "java",
   "file_extension": ".jshell",
   "mimetype": "text/x-java-source",
   "name": "Java",
   "pygments_lexer": "java",
   "version": "11.0.10+9-LTS"
  },
  "notebook_id": 102,
  "toc": {
   "base_numbering": 1,
   "nav_menu": {},
   "number_sections": false,
   "sideBar": false,
   "skip_h1_title": false,
   "title_cell": "Table of Contents",
   "title_sidebar": "Contents",
   "toc_cell": false,
   "toc_position": {},
   "toc_section_display": false,
   "toc_window_display": false
  }
 },
 "nbformat": 4,
 "nbformat_minor": 2
}
