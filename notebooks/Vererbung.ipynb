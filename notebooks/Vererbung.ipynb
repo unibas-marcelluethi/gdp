{
 "cells": [
  {
   "cell_type": "markdown",
   "metadata": {},
   "source": [
    "# Vererbung"
   ]
  },
  {
   "cell_type": "markdown",
   "metadata": {},
   "source": [
    "#### Marcel Lüthi, Departement Mathematik und Informatik, Universität Basel"
   ]
  },
  {
   "cell_type": "markdown",
   "metadata": {},
   "source": [
    "In diesem Notebook diskutieren wir das Konzept Vererbung. Unser Fokus liegt dabei auf dem Arbeiten mit Subtypen und weniger ob die Subtyphierarchie über Vererbung von *Klassen*, *abstrakten Klassen* oder *Interfaces* erreicht wird. "
   ]
  },
  {
   "cell_type": "markdown",
   "metadata": {},
   "source": [
    "### Definieren und arbeiten mit Subtypen\n",
    "\n",
    "Wir haben gesehen, dass wir in Java mittels Klassen eigene Datentypen definieren können. Damit können wir die Sprache um eigene Konzepte benennen und und der Compiler stellt sicher, dass wir diese Konzept auseinanderhalten. Nehmen wir ein Beispiel aus einer Anwendung für eine Zoohandlung. Hier kann es wichtig sein, verschiedene Arten von Tieren auseinanderzuhalten. Wir definieren zum Beispiel für Katzen und Mäuse separate Klassen. "
   ]
  },
  {
   "cell_type": "code",
   "execution_count": 38,
   "metadata": {},
   "outputs": [
    {
     "data": {
      "text/plain": [
       "com.twosigma.beaker.javash.bkr4647d672.Cat"
      ]
     },
     "execution_count": 38,
     "metadata": {},
     "output_type": "execute_result"
    }
   ],
   "source": [
    "class Cat {\n",
    "    String name;\n",
    "    \n",
    "    Cat(String name) {\n",
    "        this.name = name;\n",
    "    }\n",
    "    \n",
    "    String getName() {\n",
    "        return name;\n",
    "    }\n",
    "    \n",
    "    void meow() { \n",
    "        System.out.println(\"meow\");\n",
    "    }\n",
    "    \n",
    "    int getNumberOfLegs() { \n",
    "        return 4;\n",
    "    }\n",
    "}"
   ]
  },
  {
   "cell_type": "code",
   "execution_count": 43,
   "metadata": {},
   "outputs": [
    {
     "data": {
      "text/plain": [
       "com.twosigma.beaker.javash.bkr4647d672.Mouse"
      ]
     },
     "execution_count": 43,
     "metadata": {},
     "output_type": "execute_result"
    }
   ],
   "source": [
    "class Mouse {\n",
    "\n",
    "    String name;\n",
    "    \n",
    "    Mouse(String name) {\n",
    "        this.name = name;\n",
    "    }\n",
    "\n",
    "    String getName() {\n",
    "        return name;\n",
    "    }\n",
    "    \n",
    "    void squeek() { \n",
    "        System.out.println(\"squeek\");\n",
    "    }\n",
    "\n",
    "    \n",
    "    int getNumberOfLegs() { \n",
    "        return 4;\n",
    "    }\n",
    "}"
   ]
  },
  {
   "cell_type": "markdown",
   "metadata": {},
   "source": [
    "Angenommen wir hätten nun ein Gehege mit Katzen, welches wir als Array repräsentieren, und eins von Mäusen. \n",
    "Nun ist es nicht möglich, versehentlich eine Maus in das Katzenarray hinzuzufügen und umgekehrt. "
   ]
  },
  {
   "cell_type": "code",
   "execution_count": 44,
   "metadata": {},
   "outputs": [
    {
     "ename": "incompatible types",
     "evalue": " com.twosigma.beaker.javash.bkr4647d672.Mouse cannot be converted to com.twosigma.beaker.javash.bkr4647d672.Cat",
     "output_type": "error",
     "traceback": [
      "\u001b[0;31mincompatible types: com.twosigma.beaker.javash.bkr4647d672.Mouse cannot be converted to com.twosigma.beaker.javash.bkr4647d672.Cat\u001b[0;0m",
      "\u001b[0;31m cats[1] = jerry\u001b[0;0m",
      "\u001b[0;31m           ^    ^ \u001b[0;0m"
     ]
    }
   ],
   "source": [
    "Cat tom = new Cat(\"Tom\");\n",
    "Mouse jerry = new Mouse(\"Jerry\");\n",
    "\n",
    "Cat[] cats = new Cat[10];\n",
    "cats[0] = tom; // funktioniert\n",
    "cats[1] = jerry; // gibt einen Fehler"
   ]
  },
  {
   "cell_type": "markdown",
   "metadata": {},
   "source": [
    "Während es natürlich häufig sinnvoll ist, Katzen von Hunden zu unterscheiden, gibt es doch einige Gemeinsamkeiten. Zum Beispiel gehören beide zu der Kategorie der Tiere. In unserem Beispiel können wir von jedem Tier bestimmen, wie viele Beine dieses hat.  Diese Gemeinsamen Eigenschaften definieren wir im Supertyp ```Animal```, welcher in unserem Beispiel als Abstrakte Klasse definiert wird:"
   ]
  },
  {
   "cell_type": "code",
   "execution_count": 48,
   "metadata": {},
   "outputs": [
    {
     "data": {
      "text/plain": [
       "com.twosigma.beaker.javash.bkr4647d672.Animal"
      ]
     },
     "execution_count": 48,
     "metadata": {},
     "output_type": "execute_result"
    }
   ],
   "source": [
    "abstract class Animal { \n",
    "    String name;\n",
    "    \n",
    "    Animal(String name) {\n",
    "        this.name = name;\n",
    "    }\n",
    "    \n",
    "    String getName() { \n",
    "        return name;\n",
    "    }\n",
    "    \n",
    "    abstract int getNumberOfLegs();\n",
    "}"
   ]
  },
  {
   "cell_type": "markdown",
   "metadata": {},
   "source": [
    "Nun können wir via Vererbung diese Hierarchie von Konzepten abbilden."
   ]
  },
  {
   "cell_type": "code",
   "execution_count": 49,
   "metadata": {},
   "outputs": [
    {
     "data": {
      "text/plain": [
       "com.twosigma.beaker.javash.bkr4647d672.Cat"
      ]
     },
     "execution_count": 49,
     "metadata": {},
     "output_type": "execute_result"
    }
   ],
   "source": [
    "class Cat extends Animal {  \n",
    "    \n",
    "    Cat(String name) {\n",
    "        super(name);\n",
    "    }\n",
    "    \n",
    "    void meow() { System.out.println(\"meow\"); }\n",
    "    \n",
    "    \n",
    "    int getNumberOfLegs() { \n",
    "        return 4;\n",
    "    }\n",
    "}\n",
    "\n",
    "class Mouse extends Animal {  \n",
    "    \n",
    "    Mouse(String name) {\n",
    "        super(name);\n",
    "    }\n",
    "    \n",
    "    void squeek() { System.out.println(\"squeek\"); }\n",
    "    \n",
    "    int getNumberOfLegs() { \n",
    "        return 4;\n",
    "    }\n",
    "}\n"
   ]
  },
  {
   "cell_type": "markdown",
   "metadata": {},
   "source": [
    "Da nun sowohl ```Mouse``` als auch ```Cat``` ein Subtyp von der Klasse ```Animal``` ist, können wir nun auch Variablen vom Typ ```Animal``` definieren, die sowohl Katzen als auch Mäuse repräsentieren kann. "
   ]
  },
  {
   "cell_type": "code",
   "execution_count": 50,
   "metadata": {},
   "outputs": [
    {
     "data": {
      "text/plain": [
       "null"
      ]
     },
     "execution_count": 50,
     "metadata": {},
     "output_type": "execute_result"
    }
   ],
   "source": [
    "Cat tom = new Cat(\"Tom\");\n",
    "Mouse jerry = new Mouse(\"Jerry\");\n",
    "\n",
    "Animal anAnimal = tom;\n",
    "Animal anotherAnimal = jerry;"
   ]
  },
  {
   "cell_type": "markdown",
   "metadata": {},
   "source": [
    "\n",
    "Insbesondere können wir natürlich nun auch Arrays von Tieren definieren. "
   ]
  },
  {
   "cell_type": "markdown",
   "metadata": {},
   "source": [
    "#### Miniübung\n",
    "\n",
    "* Definieren Sie ein Array mit mindestens einer Katze und einer Maus\n",
    "* Schreiben Sie eine Methode, die ein Array von Tieren entgegennimmt und die Anzahl Beine aller Tiere im Array zurückgibt.\n",
    "* Was passiert, wenn Sie in der Klasse ```Mouse``` (die von Animal erbt) die Methode ```getNumberOfLegs``` entfernen?\n",
    "* Warum mussten Sie die Methode ```getName``` in der Klasse ```Mouse``` nicht implementieren?\n",
    "* Angenommen Sie möchten, dass nun statt nur dem Namen der Maus jeweils der Text  ```\"Cute mouse \" + name``` ausgegeben wird, während bei der Katze alles unverändert bleibt. Wie würden Sie das machen?"
   ]
  },
  {
   "cell_type": "code",
   "execution_count": null,
   "metadata": {},
   "outputs": [],
   "source": []
  }
 ],
 "metadata": {
  "kernelspec": {
   "display_name": "Java",
   "language": "java",
   "name": "java"
  },
  "language_info": {
   "codemirror_mode": "text/x-java",
   "file_extension": ".java",
   "mimetype": "",
   "name": "Java",
   "nbconverter_exporter": "",
   "version": "1.8.0_121"
  },
  "toc": {
   "base_numbering": 1,
   "nav_menu": {},
   "number_sections": false,
   "sideBar": false,
   "skip_h1_title": false,
   "title_cell": "Table of Contents",
   "title_sidebar": "Contents",
   "toc_cell": false,
   "toc_position": {},
   "toc_section_display": false,
   "toc_window_display": false
  }
 },
 "nbformat": 4,
 "nbformat_minor": 2
}
