{
 "cells": [
  {
   "cell_type": "markdown",
   "id": "caf638c6",
   "metadata": {
    "slideshow": {
     "slide_type": "slide"
    }
   },
   "source": [
    "# Grundlagen von Jupyter Notebooks\n",
    "#### Marcel Lüthi, Andreas Morel-Forster<br/>Departement Mathematik und Informatik, Universität Basel"
   ]
  },
  {
   "cell_type": "markdown",
   "id": "8a90fd16",
   "metadata": {
    "slideshow": {
     "slide_type": "fragment"
    }
   },
   "source": [
    "In diesem Notebook schauen wir uns vier grundlegende Datentypen von Java an. Sie lernen:\n",
    "- den Wertebereich der Datentypen.\n",
    "- wie Sie die Datentypen zwischeneinander konvertieren können.\n",
    "- was Sie beachten müssen wenn es um die Genauigkeit geht."
   ]
  },
  {
   "cell_type": "markdown",
   "id": "d0bc709d",
   "metadata": {
    "slideshow": {
     "slide_type": "slide"
    }
   },
   "source": [
    "### Datentypen für ganze Zahlen und Gleitkommazahlen"
   ]
  },
  {
   "cell_type": "markdown",
   "id": "d3905f84",
   "metadata": {
    "slideshow": {
     "slide_type": "skip"
    }
   },
   "source": [
    "Sie haben den Unterschied zwischen ganzen Zahlen und Gleitkommazahlen in Java kennen gelernt. Dafür haben Sie bisher `int` und `double` verwendet. In Java gibt es aber noch den Datentpen `long` für ganze Zahlen, dessen Wertebereich grösser ist als der von `int`. Bei den Gleitkommazahlen gibt es noch den Datentypen `float`, welche die Zahlen weniger genau darstellt als `double`.\n",
    "\n",
    "Für unsere Vorlesung gilt:"
   ]
  },
  {
   "cell_type": "markdown",
   "id": "9020e00c",
   "metadata": {
    "slideshow": {
     "slide_type": "fragment"
    }
   },
   "source": [
    "- Ganze Zahlen `int`, `long` wenn der Wertebereich von `int` nicht gross genug ist.\n",
    "- Gleitkommazahlen `double`, `float` wenn der Speicher zu begrenzt ist.\n",
    "- (Nicht in der Vorlesung `byte` und `short`, welche ganze Zahlen nur in einem kleineren Bereich als `int` darstellen können.)"
   ]
  },
  {
   "cell_type": "markdown",
   "id": "6e852873",
   "metadata": {
    "slideshow": {
     "slide_type": "subslide"
    }
   },
   "source": [
    "#### Ausdrücke\n",
    "\n",
    "Um einen Zahlwert als `long` zu kennzeichnen, folgt nach der ganzen Zahl der Buchstabe `l` (kleines `L`).\n",
    "```java\n",
    "1l\n",
    "987654321l\n",
    "```\n",
    "Um einen Zahlenwert als `float` zu kennzeichnen, folgt nach dem Zahlwert der Buchstabe `f`.\n",
    "```java\n",
    "1f\n",
    "-2.345f\n",
    "3.1415e-3f\n",
    "```"
   ]
  },
  {
   "cell_type": "markdown",
   "id": "f43f13d8",
   "metadata": {
    "slideshow": {
     "slide_type": "subslide"
    }
   },
   "source": [
    "#### Speicherbedarf"
   ]
  },
  {
   "cell_type": "markdown",
   "id": "90f3362d",
   "metadata": {
    "slideshow": {
     "slide_type": "skip"
    }
   },
   "source": [
    "Der Speicherbedarf wird gemessen, indem man die zum Speichern benötigten Bits, als die Anzahl Nullen und Einsen, angibt. Den Speicherbedarf können Sie mit Hilfe von in Java definierten Konstanten heraus finden."
   ]
  },
  {
   "cell_type": "markdown",
   "id": "3eae7a62",
   "metadata": {
    "slideshow": {
     "slide_type": "-"
    }
   },
   "source": [
    "Die Konstanten welche den Speicherbedarf angeben sind:\n",
    "\n",
    "| Typ | Konstante |\n",
    "| --- | --- |\n",
    "| int | Integer.SIZE |\n",
    "| long | Long.SIZE |\n",
    "| float | Float.SIZE |\n",
    "| double | Double.SIZE |\n"
   ]
  },
  {
   "cell_type": "code",
   "execution_count": 22,
   "id": "0f273add",
   "metadata": {
    "slideshow": {
     "slide_type": "subslide"
    }
   },
   "outputs": [
    {
     "name": "stdout",
     "output_type": "stream",
     "text": [
      "int belegt 32 Bits im Speicher.\n",
      "long belegt 64 Bits im Speicher.\n",
      "float belegt 32 Bits im Speicher.\n",
      "double belegt 64 Bits im Speicher.\n"
     ]
    }
   ],
   "source": [
    "System.out.println(\"int belegt \" + Integer.SIZE + \" Bits im Speicher.\");\n",
    "System.out.println(\"long belegt \" + Long.SIZE + \" Bits im Speicher.\");\n",
    "System.out.println(\"float belegt \" + Float.SIZE + \" Bits im Speicher.\");\n",
    "System.out.println(\"double belegt \" + Double.SIZE + \" Bits im Speicher.\");"
   ]
  },
  {
   "cell_type": "markdown",
   "id": "f3fb5d9a",
   "metadata": {
    "slideshow": {
     "slide_type": "subslide"
    }
   },
   "source": [
    "#### Wertebereich"
   ]
  },
  {
   "cell_type": "markdown",
   "id": "f2f1e602",
   "metadata": {
    "slideshow": {
     "slide_type": "skip"
    }
   },
   "source": [
    "Genau wie für den Speicherverbrauch gibt es in Java definierte Konstanten welche den Wertebereich der jeweiligen Datentypen angeben. Vorsicht: Die Konstanten mit dem selben Namen können für unterschiedliche Typen etwas anderes bedeuten."
   ]
  },
  {
   "cell_type": "markdown",
   "id": "2aec92ac",
   "metadata": {
    "slideshow": {
     "slide_type": "-"
    }
   },
   "source": [
    "Konstanten welche den Wertebereich angeben sind:\n",
    "\n",
    "| Typ | Konstante | Bedeutung |\n",
    "| --- | --- | --- |\n",
    "| int | Integer.MAX_VALUE | grösster, darstellbarer Wert |\n",
    "| int | Integer.MIN_VALUE | kleinster, darstellbarer Wert |\n",
    "| long | Long.MAX_VALUE | grösster, darstellbarer Wert |\n",
    "| long | Integer.MIN_VALUE | kleinster, darstellbarer Wert |\n",
    "| float | Float.MAX_VALUE | grösster, darstellbarer Wert |\n",
    "| float | Float.MIN_VALUE | kleinster, positiver, darstellbarer Wert |\n",
    "| double | Double.MAX_VALUE | grösster, darstellbarer Wert |\n",
    "| double | Double.MIN_VALUE | kleinster, positiver, darstellbarer Wert |\n",
    "\n",
    "<div class=\"alert alert-block alert-info\">\n",
    "    Das Minimum der darstellbaren Gleitkommazahlen finden Sie als das negierte Maximum.\n",
    "</div>"
   ]
  },
  {
   "cell_type": "code",
   "execution_count": 23,
   "id": "d03fbe63",
   "metadata": {
    "slideshow": {
     "slide_type": "subslide"
    }
   },
   "outputs": [
    {
     "name": "stdout",
     "output_type": "stream",
     "text": [
      "0 liegt in der Mitte von -2147483648 und 2147483647. Dies ist in etwa +- 2 Milliarden.\n",
      "0 liegt in der Mitte von -9223372036854775808 und 9223372036854775807. Dies ist in etwa +- 9 Trillionen.\n",
      "0.0 ist nur etwas kleiner als 1.4E-45 und liegt in der Mitte von -3.4028235E38 und 3.4028235E38.\n",
      "0.0 ist nur etwas kleiner als 4.9E-324 und liegt in der Mitte von -1.7976931348623157E308 und 1.7976931348623157E308.\n"
     ]
    }
   ],
   "source": [
    "System.out.println(0 + \" liegt in der Mitte von \" +\n",
    "    Integer.MIN_VALUE + \" und \" +\n",
    "    Integer.MAX_VALUE + \". Dies ist in etwa +- 2 Milliarden.\");\n",
    "System.out.println(0l + \" liegt in der Mitte von \" +\n",
    "    Long.MIN_VALUE + \" und \" +\n",
    "    Long.MAX_VALUE + \". Dies ist in etwa +- 9 Trillionen.\");\n",
    "System.out.println(0.0f + \" ist nur etwas kleiner als \" +\n",
    "    Float.MIN_VALUE + \" und liegt in der Mitte von \" + \n",
    "    (-Float.MAX_VALUE) + \" und \" +\n",
    "    Float.MAX_VALUE + \".\");\n",
    "System.out.println(0.0 + \" ist nur etwas kleiner als \" +\n",
    "    Double.MIN_VALUE + \" und liegt in der Mitte von \" +\n",
    "    (-Double.MAX_VALUE) + \" und \" +\n",
    "    Double.MAX_VALUE + \".\");"
   ]
  },
  {
   "cell_type": "markdown",
   "id": "c55cdbb5",
   "metadata": {
    "slideshow": {
     "slide_type": "subslide"
    }
   },
   "source": [
    "#### Welches ist der richtige Typ?"
   ]
  },
  {
   "cell_type": "markdown",
   "id": "e6a97345",
   "metadata": {
    "slideshow": {
     "slide_type": "-"
    }
   },
   "source": [
    "Welchen Typen würden Sie bei den folgenden Aufgabenstellungen:\n",
    "- \"Speichern Sie den Geldbetrag eines Bankkunden.\"\n",
    "- \"Speichern Sie das Gewicht einer Person.\"\n",
    "- \"Zählen Sie die Häuser in der Stadt Basel.\"\n",
    "- \"Speichern Sie die Zahl Pi.\"\n",
    "- \"Zählen Sie alle Menschen auf dieser Erde.\""
   ]
  },
  {
   "cell_type": "markdown",
   "id": "d50369bf",
   "metadata": {
    "slideshow": {
     "slide_type": "skip"
    }
   },
   "source": [
    "Für diesen Kurs gilt in der Regel: Wenn nichts spezielles steht, nehmen Sie entweder `double` oder `int`. Dabei verwenden wir `double` für Messgrössen und `int` für Zählgrössen."
   ]
  },
  {
   "cell_type": "markdown",
   "id": "8db0a4dd",
   "metadata": {
    "slideshow": {
     "slide_type": "subslide"
    }
   },
   "source": [
    "#### Miniaufgabe"
   ]
  },
  {
   "cell_type": "markdown",
   "id": "a5d53be6",
   "metadata": {
    "slideshow": {
     "slide_type": "-"
    }
   },
   "source": [
    "Berechnen Sie die Lösung für die folgende Aufgabe und geben Sie die Zahl aus.\n",
    "- Sie wollen einen Gartenzaun der Länge 20m bauen.\n",
    "- Ein Element hat die Länge 1.48m.\n",
    "- Wieviele Elemente müssen Sie kaufen?"
   ]
  },
  {
   "cell_type": "code",
   "execution_count": 6,
   "id": "54ef7d43",
   "metadata": {
    "slideshow": {
     "slide_type": "fragment"
    }
   },
   "outputs": [
    {
     "name": "stdout",
     "output_type": "stream",
     "text": [
      "66.66666666666667 67\n"
     ]
    }
   ],
   "source": [
    "int meters = 20;\n",
    "double stone = 0.3;\n",
    "double d = meters/stone;\n",
    "long l = (long) Math.ceil(meters/stone);\n",
    "System.out.println(d + \" \" + l);"
   ]
  },
  {
   "cell_type": "markdown",
   "id": "872f0d88",
   "metadata": {
    "slideshow": {
     "slide_type": "subslide"
    }
   },
   "source": [
    "#### Umwandeln zwischen Datentypen"
   ]
  },
  {
   "cell_type": "markdown",
   "id": "66f9d921",
   "metadata": {
    "slideshow": {
     "slide_type": "-"
    }
   },
   "source": [
    "Auf den Wertebereiche der Datentypen bezogen gilt:\n",
    "$$ int \\supset long \\supset float \\supset double$$\n",
    "\n",
    "Bei der Zuweisung können Sie Werte jeweils an den gleichen oder an einen *mächtigeren* Datentypen zuweisen. In die andere Richtung benötigen Sie *Type-Casting*."
   ]
  },
  {
   "cell_type": "markdown",
   "id": "f0810e84",
   "metadata": {
    "slideshow": {
     "slide_type": "subslide"
    }
   },
   "source": [
    "#### Type-Casting"
   ]
  },
  {
   "cell_type": "markdown",
   "id": "e7f4826f",
   "metadata": {
    "slideshow": {
     "slide_type": "skip"
    }
   },
   "source": [
    "Beim Type-Casting schreibt man den Typ der Variablen in runden Klammern vor den Ausdruck der umgewandelt werden soll.\n",
    "\n",
    "Achtung: Das Umwandeln mit Type-Casting kommt meist auch mit einer gewissen Ungenauigkeit."
   ]
  },
  {
   "cell_type": "markdown",
   "id": "7f4ea5c4",
   "metadata": {
    "slideshow": {
     "slide_type": "-"
    }
   },
   "source": [
    "Schema\n",
    "```\n",
    "(<TYPE>) <AUSDRUCK>\n",
    "```\n",
    "\n",
    "Beispiele\n",
    "```java\n",
    "(int) 2.0\n",
    "(float) 3.1415\n",
    "(long) 5.543\n",
    "```"
   ]
  },
  {
   "cell_type": "code",
   "execution_count": 17,
   "id": "6f38861e",
   "metadata": {
    "slideshow": {
     "slide_type": "subslide"
    }
   },
   "outputs": [
    {
     "ename": "CompilationException",
     "evalue": "",
     "output_type": "error",
     "traceback": [
      "\u001b[1m\u001b[30m|   \u001b[1m\u001b[30mint i = \u001b[0m\u001b[1m\u001b[30m\u001b[41m2.0\u001b[0m\u001b[1m\u001b[30m;\u001b[0m",
      "\u001b[1m\u001b[31mincompatible types: possible lossy conversion from double to int\u001b[0m",
      ""
     ]
    }
   ],
   "source": [
    "int i = 2.0;\n",
    "int j = 1234l;\n",
    "float f = Math.PI;\n",
    "long l = (long)f;\n",
    "int r = (int)Math.round((double)f);"
   ]
  },
  {
   "cell_type": "markdown",
   "id": "098f6147",
   "metadata": {
    "slideshow": {
     "slide_type": "subslide"
    }
   },
   "source": [
    "#### Genauigkeit von Zahlen"
   ]
  },
  {
   "cell_type": "markdown",
   "id": "d773f507",
   "metadata": {
    "slideshow": {
     "slide_type": "-"
    }
   },
   "source": [
    "Die Genauigkeit von Zahlen im Computer ist Beschränkt. Nicht nur beim Type-Casting können also Fehler entstehen."
   ]
  },
  {
   "cell_type": "markdown",
   "id": "3de8fdf0",
   "metadata": {
    "slideshow": {
     "slide_type": "subslide"
    }
   },
   "source": [
    "Mathematisch gibt die folgende Formel für positive, ganze Zahlen immer 1:\n",
    "$$\\sum\\limits_{i=1}^{N}\\frac{1}{N}$$"
   ]
  },
  {
   "cell_type": "code",
   "execution_count": null,
   "id": "b5c68571",
   "metadata": {},
   "outputs": [],
   "source": []
  },
  {
   "cell_type": "code",
   "execution_count": 66,
   "id": "e63310da",
   "metadata": {
    "scrolled": true,
    "slideshow": {
     "slide_type": "-"
    }
   },
   "outputs": [
    {
     "name": "stdout",
     "output_type": "stream",
     "text": [
      "Das Ergebnis ist nicht 1 sonder 0.9999999999999999\n"
     ]
    }
   ],
   "source": [
    "double result = 1.0 / 6.0 + 1.0 / 6.0 + 1.0 / 6.0 + 1.0 / 6.0 + 1.0 / 6.0 + 1.0 / 6.0;\n",
    "System.out.println(\"Das Ergebnis ist nicht 1 sonder \" + result);"
   ]
  },
  {
   "cell_type": "markdown",
   "id": "2a0bf03c",
   "metadata": {
    "slideshow": {
     "slide_type": "subslide"
    }
   },
   "source": [
    "Auch die folgende Beobachtung zeigt, dass man bei Gleitkommazahlen immer aufpassen muss."
   ]
  },
  {
   "cell_type": "code",
   "execution_count": 65,
   "id": "198b82a3",
   "metadata": {
    "slideshow": {
     "slide_type": "-"
    }
   },
   "outputs": [
    {
     "name": "stdout",
     "output_type": "stream",
     "text": [
      "Das Ergebnis ist nicht 0.3 sondern 0.30000000000000004\n"
     ]
    }
   ],
   "source": [
    "double result = 0.1 + 0.1 + 0.1;\n",
    "System.out.println(\"Das Ergebnis ist nicht 0.3 sondern \" + result);"
   ]
  },
  {
   "cell_type": "markdown",
   "id": "43f10b59",
   "metadata": {},
   "source": [
    "#### Vergleich von Gleitkommazahlen"
   ]
  },
  {
   "cell_type": "code",
   "execution_count": null,
   "id": "c8acbd5b",
   "metadata": {},
   "outputs": [],
   "source": [
    "Wir dürfen also Gleitkommazahlen nie direkt vergleichen. Wir müssen immer schauen ob Si e"
   ]
  },
  {
   "cell_type": "code",
   "execution_count": 60,
   "id": "dd64ebeb",
   "metadata": {},
   "outputs": [
    {
     "name": "stdout",
     "output_type": "stream",
     "text": [
      "0.30000000000000004 ist nicht gleich 0.3\n"
     ]
    }
   ],
   "source": [
    "System.out.println((0.1+0.1+0.1) +\" ist nicht gleich \" + 0.3)"
   ]
  },
  {
   "cell_type": "markdown",
   "id": "c7ce2494",
   "metadata": {},
   "source": [
    "$$(-1)^s × m × 2^{(e - 127)}$$"
   ]
  },
  {
   "cell_type": "code",
   "execution_count": 68,
   "id": "a3b0408e",
   "metadata": {},
   "outputs": [],
   "source": [
    "public static boolean nearlyEqual(float a, float b, float epsilon) {\n",
    "    final float absA = Math.abs(a);\n",
    "    final float absB = Math.abs(b);\n",
    "    final float diff = Math.abs(a - b);\n",
    "\n",
    "    if (a == b) { // shortcut, handles infinities\n",
    "        return true;\n",
    "    } else if (a == 0 || b == 0 || diff < Float.MIN_NORMAL) {\n",
    "        // a or b is zero or both are extremely close to it\n",
    "        // relative error is less meaningful here\n",
    "        return diff < (epsilon * Float.MIN_NORMAL);\n",
    "    } else { // use relative error\n",
    "        return diff / (absA + absB) < epsilon;\n",
    "    }\n",
    "}"
   ]
  }
 ],
 "metadata": {
  "celltoolbar": "Slideshow",
  "kernelspec": {
   "display_name": "Java",
   "language": "java",
   "name": "java"
  },
  "language_info": {
   "codemirror_mode": "java",
   "file_extension": ".jshell",
   "mimetype": "text/x-java-source",
   "name": "Java",
   "pygments_lexer": "java",
   "version": "11.0.10+9-LTS"
  }
 },
 "nbformat": 4,
 "nbformat_minor": 5
}
