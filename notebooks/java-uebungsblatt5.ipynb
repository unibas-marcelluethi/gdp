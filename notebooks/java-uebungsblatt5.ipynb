{
 "cells": [
  {
   "cell_type": "markdown",
   "id": "bff0762c",
   "metadata": {
    "deletable": false
   },
   "source": [
    "# Grundlagen der Programmierung  <br/> Übungsblatt 05 - Schleifen\n",
    "#### Marcel Lüthi, Andreas Morel-Forster <br/> Departement Mathematik und Informatik, Universität Basel"
   ]
  },
  {
   "cell_type": "markdown",
   "id": "537e49d2",
   "metadata": {
    "deletable": false
   },
   "source": [
    "### Aufgabe 1: Mehrfache Ausgabe [1 Punkt]\n",
    "\n",
    "Schreiben Sie eine Methode ```printNTimes```, welche als erstes Argument einen Text und als zweites Argument eine positive Zahl ```n```entgegennimmt. Die Methode soll den übergebenen Text ```n``` mal ausgeben, wobei jede Ausgabe auf eine neue Zeile kommt. "
   ]
  },
  {
   "cell_type": "code",
   "execution_count": null,
   "id": "c0ab5db5",
   "metadata": {
    "deletable": false,
    "exercise_id": 1
   },
   "outputs": [],
   "source": [
    "public class MultiPrinter {\n",
    "    // Ihre Lösung kommt hier hin\n",
    "    \n",
    "    public static void main(String[] args) {\n",
    "    }\n",
    "}"
   ]
  },
  {
   "cell_type": "code",
   "execution_count": null,
   "id": "6a0a3be6",
   "metadata": {
    "deletable": false
   },
   "outputs": [],
   "source": [
    "MultiPrinter.main(new String[0]);"
   ]
  },
  {
   "cell_type": "markdown",
   "id": "b52c2f1a",
   "metadata": {
    "deletable": false
   },
   "source": [
    "### Aufgabe 2: Summe der Quadratzahlen [1 Punkt]\n",
    "\n",
    "Schreiben Sie eine Methode ```sum```, welche als Argumente eine Zahl ```from``` und eine Zahl ```to``` entgegennimmt, und dann die Summe aller Quadratzahlen im Interval ```[from, to]``` (inklusive ```from``` und ```to```) berechnet und das Resultat zurückgibt. "
   ]
  },
  {
   "cell_type": "code",
   "execution_count": null,
   "id": "8ede1b67",
   "metadata": {
    "deletable": false,
    "exercise_id": 2
   },
   "outputs": [],
   "source": [
    "public class SumOfSquare {\n",
    "    // Ihre Lösung kommt hier hin\n",
    "}"
   ]
  },
  {
   "cell_type": "code",
   "execution_count": null,
   "id": "4f855351",
   "metadata": {
    "deletable": false
   },
   "outputs": [],
   "source": [
    "//SumOfSquare.main(new String[0]);"
   ]
  },
  {
   "cell_type": "markdown",
   "id": "4298c701",
   "metadata": {
    "deletable": false
   },
   "source": [
    "### Aufgabe 3: Summiere Fitze Fatze [1 Punkt]\n",
    "\n",
    "Schreiben Sie eine Methode ```sum```, welche als Argument eine Zahl ```n``` entgegennimmt. Es soll dann die Summe aller Zahlen von 0 bis und mit ```n``` berechnet werden, welche durch 3 oder 5 teilbar sind, aber nicht durch beide teilbar."
   ]
  },
  {
   "cell_type": "code",
   "execution_count": null,
   "id": "94736624",
   "metadata": {
    "deletable": false,
    "exercise_id": 3
   },
   "outputs": [],
   "source": [
    "public class SumOfFitzeFatze {\n",
    "    // Ihre Lösung kommt hier hin\n",
    "}"
   ]
  },
  {
   "cell_type": "markdown",
   "id": "e5992d78",
   "metadata": {
    "deletable": false
   },
   "source": [
    "### Aufgabe 4: Benötigte Summanden [1 Punkt]\n",
    "\n",
    "Schreiben Sie eine Methode ```count```, welche als Argumente eine Zahl ```start``` und eine Zahl ```total``` entgegennimmt. Es soll dann gezählt werden, wieviele Zahlen aufsteigend von `start` summiert werden müssen, so dass die Summe grösser oder gleich `total` ist. Die Anzahl Summanden soll dann zurück gegeben werden."
   ]
  },
  {
   "cell_type": "code",
   "execution_count": null,
   "id": "98240133",
   "metadata": {
    "deletable": false,
    "exercise_id": 4
   },
   "outputs": [],
   "source": [
    "public class FindNeededNumbers {\n",
    "    // Ihre Lösung kommt hier hin\n",
    "}"
   ]
  },
  {
   "cell_type": "markdown",
   "id": "47c98ca1",
   "metadata": {
    "deletable": false
   },
   "source": [
    "### Aufgabe 5: Primzahlen [1 Punkt]\n",
    "\n",
    "Schreiben Sie eine Methode ```isPrime```, welche überprüft ob die übergebene Zahl eine Primzahl ist oder nicht. Eine Zahl ist eine Primzahl, wenn die Zahl nur durch 1 und sich selbst ohne Rest teilbar ist. Überprüfen Sie dies mit Hilfe einer Schleife. "
   ]
  },
  {
   "cell_type": "code",
   "execution_count": null,
   "id": "5e0dd31e",
   "metadata": {
    "deletable": false,
    "exercise_id": 5
   },
   "outputs": [],
   "source": [
    "public class PrimeNumber {\n",
    "    // Ihre Lösung kommt hier hin\n",
    "}"
   ]
  },
  {
   "cell_type": "markdown",
   "id": "b52800eb",
   "metadata": {
    "deletable": false
   },
   "source": [
    "### Aufgabe 6: Schachbrett [1 Punkt]\n",
    "\n",
    "Schreiben Sie eine Methode `print`, welche ein Schachbrett entsprechend der übergebenen Länge ausgibt. Dabei soll für Schwarz `#` ausgegeben werden und für weiss `_`. Oben links soll es immer mit Schwarz beginnen.\n",
    "\n",
    "Beispiel für die Länge 3\n",
    "```java\n",
    "#_#\n",
    "_#_\n",
    "#_#\n",
    "```"
   ]
  },
  {
   "cell_type": "code",
   "execution_count": null,
   "id": "dd36a18e",
   "metadata": {
    "deletable": false,
    "exercise_id": 6
   },
   "outputs": [],
   "source": [
    "public class Chessboard {\n",
    "    // Ihre Lösung kommt hier hin\n",
    "}"
   ]
  },
  {
   "cell_type": "markdown",
   "id": "8e649f7f",
   "metadata": {
    "deletable": false
   },
   "source": [
    "### Aufgabe 7: Ein-Mal-Eins [1 Punkt]\n",
    "\n",
    "Schreiben Sie eine Methode ```print```, welche als Argument eine Zahl ```n``` entgegennimmt. Es sollen dann für die ersten `n` Zahlen die ersten `n` Elemente der Multiplikationstabelle ausgegeben werden. Geben Sie nach jeder Zahl ein Leerzeichen aus, auch am Ende der Zeile.\n",
    "\n",
    "Beispiel mit `n = 4`\n",
    "```java\n",
    "1 2 3 4 \n",
    "2 4 6 8 \n",
    "3 6 9 12 \n",
    "4 8 12 16 \n",
    "```"
   ]
  },
  {
   "cell_type": "code",
   "execution_count": null,
   "id": "a8e243c9",
   "metadata": {
    "deletable": false,
    "exercise_id": 7
   },
   "outputs": [],
   "source": [
    "public class MultiplicationTable {\n",
    "    // Ihre Lösung kommt hier hin\n",
    "}"
   ]
  },
  {
   "cell_type": "markdown",
   "id": "a3ce573a",
   "metadata": {
    "deletable": false
   },
   "source": [
    "### Aufgabe 8: Vollkommene Zahlen [4 Punkte]\n",
    "In dieser Aufgabe geht es um vollkommene Zahlen. Eine Zahl heisst vollkommen, falls die Summe der positiven Teiler gleich der Zahl selbst ist.\n",
    "\n",
    "1. Schreiben Sie eine Methode ```isDivisor```, die zwei Zahlen ```a``` und ```b``` entgegennimmt und zurückgibt, ob ```b``` ein Teiler von ```a``` ist, also die Division ohne Rest möglich ist.\n",
    "2. Schreiben Sie eine Methode ```sumOfDivisors``` welche die Summe aller positiven Teiler, ohne die Zahl selbst, einer übergebenen positiven Zahl zurückgibt. Diese soll die obige Funktion ```isDivisor``` nutzen. \n",
    "3. Schreiben Sie eine Prozedur ```isPerfectNumber``` zurück gibt, ob eine Zahl, die als Argument übergeben wird, eine vollkommene Zahl ist. Eine Zahl heisst vollkommen, falls die Summe der positiven Teiler gleich der Zahl selbst ist.\n",
    "4. Schreiben Sie eine Prozedur ```printPerfectNumbers``` welche alle Zahlen zwischen 1 und einer übergebenen Zahl ausgibt, die vollkommene Zahlen sind. Dabei soll jede Zahl auf eine eigene Zeile geschrieben werden.\n",
    "\n",
    "\n",
    "*Hinweis:  Testen Sie jede Funktion separat und stellen sie sicher, dass diese Funktioniert, bevor sie diese in der nächsten Funktion nutzen.*"
   ]
  },
  {
   "cell_type": "code",
   "execution_count": null,
   "id": "901c319b",
   "metadata": {
    "deletable": false,
    "exercise_id": 8
   },
   "outputs": [],
   "source": [
    "public class PerfectNumbers {\n",
    "    // Ihre Lösung kommt hier hin\n",
    "    \n",
    "    public static void main(String[] args) {\n",
    "        //printPerfectNumbers(100);\n",
    "    }\n",
    "}"
   ]
  },
  {
   "cell_type": "code",
   "execution_count": null,
   "id": "61db8f56",
   "metadata": {
    "deletable": false
   },
   "outputs": [],
   "source": [
    "PerfectNumbers.main(new String[0]);"
   ]
  },
  {
   "cell_type": "markdown",
   "id": "250acc7a",
   "metadata": {
    "deletable": false
   },
   "source": [
    "### Aufgabe 9: Guess My Number [nicht autom. korrigiert]\n",
    "\n",
    "Wir gehen ins Casino und spielen dort ein Spiel. Sie können Teile Ihrer Lösung vom letzten Aufgabenblatt verwenden, ersetzen Sie jedoch die Rekursionen durch Schleifen. Schauen Sie sich die Kommentare der Funktionen an und implementieren Sie diese anhand der Vorgaben in dem Sie die anderen Funktionen verwenden."
   ]
  },
  {
   "cell_type": "code",
   "execution_count": null,
   "id": "54e6ad5a",
   "metadata": {
    "deletable": false,
    "exercise_id": 9
   },
   "outputs": [],
   "source": [
    "import java.util.Scanner;\n",
    "\n",
    "public class Casino {\n",
    "    \n",
    "    /**\n",
    "     * Asks the user the provided question and returns the entered number.\n",
    "     *\n",
    "     * If the provided input is not an int\n",
    "     * - ... the entire line is read,\n",
    "     * - ... the user is informed about his mistake\n",
    "     * - ... and is asked again for a number until he enters a number.\n",
    "     */\n",
    "    public static int askForNumber(String question) {\n",
    "        //Ihre Lösung kommt hier hin\n",
    "        return 0;\n",
    "    }\n",
    "    \n",
    "    \n",
    "    /**\n",
    "     * Generates a number from 1 to max, including the limits.\n",
    "     */\n",
    "    public static int generateNumber(int max) {\n",
    "        //Ihre Lösung kommt hier hin\n",
    "        return 1;\n",
    "    }\n",
    "    \n",
    "    /**\n",
    "     * The user should guess the number provided as target.\n",
    "     *\n",
    "     * The number is between 1 and max.\n",
    "     * Everytime the number is wrong the coins are halfed.\n",
    "     * Half coins are neglected, i.e. coins are always rounded off.\n",
    "     */\n",
    "    public static int guessMyNumber(int target, int max, int coins) {\n",
    "        //Ihre Lösung kommt hier hin\n",
    "        return 0;\n",
    "    }\n",
    "    \n",
    "\n",
    "    /**\n",
    "     * Starts a new game with a target number and doubling the coins.\n",
    "     */\n",
    "    public static int playGuessMyNumber(int coins) {\n",
    "        //Ihre Lösung kommt hier hin\n",
    "        return 0;\n",
    "    }\n",
    "    \n",
    "    /**\n",
    "     * Let the player play guess-my-number as long as he has money.\n",
    "     *\n",
    "     * It asks the user how many coins he wants to bet.\n",
    "     * Players who either bet 0 coins, have no more coins, or want to bet\n",
    "     * more coins than they have, have to leave the casino.\n",
    "     */\n",
    "    public static int goToTheCasino(int money) {\n",
    "        System.out.println(\"Welcome to the casino!!!\");\n",
    "        System.out.println(\"You start with \" + money + \" coins.\");\n",
    "        \n",
    "        //Ihre Lösung kommt hier hin\n",
    "        \n",
    "        \n",
    "        System.out.println(\"Bitte gehen Sie.\");\n",
    "        return money;\n",
    "    }\n",
    "\n",
    "    /**\n",
    "     * Provides coins to the user and let him go to the casino.\n",
    "     */\n",
    "    public static void main(String[] args) {\n",
    "        int money = 100;\n",
    "        money = goToTheCasino(money);\n",
    "        System.out.println(\"Hmmm .... jetzt habe ich \" + money + \" Coins.\");\n",
    "        System.out.println(\"War ich das letzte mal da?\");\n",
    "    }\n",
    "}"
   ]
  },
  {
   "cell_type": "code",
   "execution_count": null,
   "id": "d9607d78",
   "metadata": {
    "deletable": false
   },
   "outputs": [],
   "source": [
    "Casino.main(new String[0]);"
   ]
  }
 ],
 "metadata": {
  "celltoolbar": "Edit Metadata",
  "exercise_series": "gdp",
  "kernelspec": {
   "display_name": "Java",
   "language": "java",
   "name": "java"
  },
  "language_info": {
   "codemirror_mode": "java",
   "file_extension": ".jshell",
   "mimetype": "text/x-java-source",
   "name": "Java",
   "pygments_lexer": "java",
   "version": "11.0.10+9-LTS"
  },
  "notebook_id": 105
 },
 "nbformat": 4,
 "nbformat_minor": 5
}
