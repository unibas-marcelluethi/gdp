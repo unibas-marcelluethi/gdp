{
 "cells": [
  {
   "cell_type": "markdown",
   "id": "059ea94f",
   "metadata": {},
   "source": [
    "# Schleifen\n",
    "#### Marcel Lüthi, Andreas Morel-Forster<br/>Departement Mathematik und Informatik, Universität Basel"
   ]
  },
  {
   "cell_type": "markdown",
   "id": "8befb597",
   "metadata": {},
   "source": [
    "### Schleifen wiederholen"
   ]
  },
  {
   "cell_type": "markdown",
   "id": "d2b86e33",
   "metadata": {},
   "source": [
    "Im folgenden die Lösung zur Aufgabe\n",
    "\n",
    "*Schreiben Sie eine Schleife, welche alle Zahlen von 1 bis und mit 9 aus gibt.*"
   ]
  },
  {
   "cell_type": "code",
   "execution_count": 52,
   "id": "581d925b",
   "metadata": {},
   "outputs": [],
   "source": [
    "public class PrintNumbers {\n",
    "    public static void main(String[] args) {\n",
    "        for(int i = 1; i < 10; i = i + 1) {\n",
    "            System.out.println(i);\n",
    "        }\n",
    "    }\n",
    "}"
   ]
  },
  {
   "cell_type": "code",
   "execution_count": 53,
   "id": "affa62b6",
   "metadata": {},
   "outputs": [
    {
     "name": "stdout",
     "output_type": "stream",
     "text": [
      "1\n",
      "2\n",
      "3\n",
      "4\n",
      "5\n",
      "6\n",
      "7\n",
      "8\n",
      "9\n"
     ]
    }
   ],
   "source": [
    "PrintNumbers.main(new String[0]);"
   ]
  },
  {
   "cell_type": "markdown",
   "id": "b00ef106",
   "metadata": {},
   "source": [
    "Schaue Sie sich an wo die Schleifenvariable benutzt wird."
   ]
  },
  {
   "cell_type": "markdown",
   "id": "8a15f791",
   "metadata": {},
   "source": [
    "#### Miniübung\n",
    "\n",
    "- Summieren Sie alle Zahlen von 1 bis und mit 9 und geben Sie die Summe aus.\n",
    "\n",
    "*Überlegen Sie zuerst was anders ist, im Bezug darauf wo Sie eine Variable für die Summe verwenden.*"
   ]
  },
  {
   "cell_type": "code",
   "execution_count": 8,
   "id": "863bc0d2",
   "metadata": {},
   "outputs": [],
   "source": [
    "public class SumNumbers {\n",
    "    public static void main(String[] args) {\n",
    "        int sum = 0;\n",
    "        for(int i = 1; i < 10; i = i + 1) {\n",
    "            sum += i;\n",
    "        }\n",
    "        System.out.println(sum);\n",
    "    }\n",
    "}"
   ]
  },
  {
   "cell_type": "code",
   "execution_count": 9,
   "id": "cf2ca17b",
   "metadata": {},
   "outputs": [
    {
     "name": "stdout",
     "output_type": "stream",
     "text": [
      "45\n"
     ]
    }
   ],
   "source": [
    "SumNumbers.main(new String[0]);"
   ]
  },
  {
   "cell_type": "markdown",
   "id": "6772dc7b",
   "metadata": {},
   "source": [
    "#### Miniübung\n",
    "\n",
    "- Summieren Sie alle geraden Zahlen von 1 bis und mit 9.\n",
    "- Überlegen Sie sich eine zweite Lösungsstrategie."
   ]
  },
  {
   "cell_type": "code",
   "execution_count": 12,
   "id": "530a47b4",
   "metadata": {},
   "outputs": [],
   "source": [
    "public class SumEvenNumbers {\n",
    "    public static void main(String[] args) {\n",
    "        int sum = 0;\n",
    "        for(int i = 2; i < 10; i = i + 2) {\n",
    "            sum = sum + i;\n",
    "        }\n",
    "        System.out.println(sum);\n",
    "    }\n",
    "}"
   ]
  },
  {
   "cell_type": "code",
   "execution_count": 13,
   "id": "2d939add",
   "metadata": {},
   "outputs": [
    {
     "name": "stdout",
     "output_type": "stream",
     "text": [
      "20\n"
     ]
    }
   ],
   "source": [
    "SumEvenNumbers.main(new String[0]);"
   ]
  },
  {
   "cell_type": "markdown",
   "id": "714b79e1",
   "metadata": {},
   "source": [
    "#### Miniübung\n",
    "- Summieren Sie die Zahlen von 1 bis und mit 9, lassen Sie jedoch jede dritte Zahl weg."
   ]
  },
  {
   "cell_type": "code",
   "execution_count": 20,
   "id": "9c11b10a",
   "metadata": {},
   "outputs": [],
   "source": [
    "public class SumSelectedNumbers {\n",
    "    public static void main(String[] args) {\n",
    "        int sum = 0;\n",
    "        for(int i = 1; i < 10; i = i + 1) {\n",
    "            if ( i % 3 != 0 ) {\n",
    "                sum = sum + i;\n",
    "            }\n",
    "        }\n",
    "        System.out.println(sum);\n",
    "    }\n",
    "}"
   ]
  },
  {
   "cell_type": "code",
   "execution_count": 21,
   "id": "0a6cebb8",
   "metadata": {},
   "outputs": [
    {
     "name": "stdout",
     "output_type": "stream",
     "text": [
      "27\n"
     ]
    }
   ],
   "source": [
    "SumSelectedNumbers.main(new String[0]);"
   ]
  },
  {
   "cell_type": "markdown",
   "id": "03f6bcd6",
   "metadata": {},
   "source": [
    "#### Miniübung\n",
    "\n",
    "- Summieren Sie die Zahlen von 4444 absteigend bis 1234, lassen Sie jedoch jede dritte Zahl aus."
   ]
  },
  {
   "cell_type": "code",
   "execution_count": 18,
   "id": "8c0d5786",
   "metadata": {},
   "outputs": [],
   "source": [
    "public class SumSelectedDecreasing {\n",
    "    public static void main(String[] args) {\n",
    "        int sum = 0;\n",
    "        int start = 4444;\n",
    "        for(int i = start; i >= 4442 ; i = i - 1) {\n",
    "            if ( (start - i + 1) % 3 != 0 ) {\n",
    "                sum = sum + i;\n",
    "            }\n",
    "        }\n",
    "        System.out.println(sum);\n",
    "    }\n",
    "}"
   ]
  },
  {
   "cell_type": "code",
   "execution_count": 19,
   "id": "ed3f179d",
   "metadata": {},
   "outputs": [
    {
     "name": "stdout",
     "output_type": "stream",
     "text": [
      "8887\n"
     ]
    }
   ],
   "source": [
    "SumSelectedDecreasing.main(new String[0]);"
   ]
  },
  {
   "cell_type": "markdown",
   "id": "377b3498",
   "metadata": {},
   "source": [
    "### Clean Code\n",
    "\n",
    "Mit clean code bezeichnet man Code welcher einfach zu lesen ist, und somit auch einfach verständlich und einfach wartbar. Dies erfordert meist mehrere Iterationen bei der Entwicklung. Zuerst schreibt man die Funktionalität, danach wird der Code noch einmal überarbeitet, *refactored*, um diesen Lesbarkeit zu verbessern.\n",
    "\n",
    "Was tut das folgende Programm?\n",
    "\n",
    "```java\n",
    "public class Print {\n",
    "    public static void main(String[] args) {\n",
    "        for(int i = 1; i < 10; i = i + 1) {\n",
    "            for(int j = 1; j <= i; j = j + 1) {\n",
    "                System.out.print(j + \" \");\n",
    "            }\n",
    "            System.out.println();\n",
    "        }\n",
    "    }\n",
    "}\n",
    "```"
   ]
  },
  {
   "cell_type": "code",
   "execution_count": 63,
   "id": "712ea5b0",
   "metadata": {},
   "outputs": [],
   "source": [
    "// Copy paste von oben\n",
    "public class NumberPyramid {\n",
    "    public static void main(String[] args) {\n",
    "        for(int row = 0; row < 10; row = row + 1) {\n",
    "            for(int col = 1; col <= row; col = col + 1) {\n",
    "                System.out.print(col + \" \");\n",
    "            }\n",
    "            System.out.println();\n",
    "        }\n",
    "    }\n",
    "}"
   ]
  },
  {
   "cell_type": "code",
   "execution_count": 64,
   "id": "b35cee03",
   "metadata": {},
   "outputs": [
    {
     "name": "stdout",
     "output_type": "stream",
     "text": [
      "\n",
      "1 \n",
      "1 2 \n",
      "1 2 3 \n",
      "1 2 3 4 \n",
      "1 2 3 4 5 \n",
      "1 2 3 4 5 6 \n",
      "1 2 3 4 5 6 7 \n",
      "1 2 3 4 5 6 7 8 \n",
      "1 2 3 4 5 6 7 8 9 \n"
     ]
    }
   ],
   "source": [
    "NumberPyramid.main(new String[0]);"
   ]
  },
  {
   "cell_type": "markdown",
   "id": "5b06430e",
   "metadata": {},
   "source": [
    "### Single Responsibility Prinziple (SRP)\n",
    "\n",
    "Jeder Teil des Programms, hier Methoden, sollen genau eine Aufgabe erledigen. Man schreibt so meist mehr Methoden, welche jedoch kürzer und deshalb auch einfacher zu lesen und verstehen sind. Zudem, wenn diese wirklich nur eine Aufgabe erledigen, findet man meist auch einen aussagekräftigen Namen."
   ]
  },
  {
   "cell_type": "markdown",
   "id": "f4c0ab44",
   "metadata": {},
   "source": [
    "#### Miniübung\n",
    "\n",
    "Schreiben Sie ein Programm, welches alle Koordinatene eines Schachbretts als `(<ZEILE>,<SPALTE>)` ausgibt.\n",
    "\n",
    "Beispiel:\n",
    "```java\n",
    "(0,0) (0,1) .... (0,7)\n",
    "(1,0) (1,1) .... (1,7)\n",
    " ...   ...        ...\n",
    "(7,0) (7,1) .... (7,7)\n",
    "```"
   ]
  },
  {
   "cell_type": "code",
   "execution_count": 55,
   "id": "19aa503c",
   "metadata": {},
   "outputs": [],
   "source": [
    "public class ChessCoordinates {\n",
    "    \n",
    "    public static void printCoordinate(int row, int col) {\n",
    "        String coordinate = String.format(\"(%d,%d)\",row, col);\n",
    "        System.out.print(coordinate);\n",
    "    }\n",
    "    \n",
    "    public static void printBoardCoordinates(final int SIZE) {\n",
    "        for(int row = 0; row < SIZE; row = row + 1) {\n",
    "            for(int col = 0; col < SIZE; col = col + 1) {\n",
    "                printCoordinate(row,col);\n",
    "            }\n",
    "            System.out.println();\n",
    "        }\n",
    "    }\n",
    "    \n",
    "    public static void main(String[] args) {\n",
    "        final int SIZE = 8;\n",
    "        printBoardCoordinates(SIZE);\n",
    "    }\n",
    "}"
   ]
  },
  {
   "cell_type": "code",
   "execution_count": 56,
   "id": "75bc6268",
   "metadata": {},
   "outputs": [
    {
     "name": "stdout",
     "output_type": "stream",
     "text": [
      "(0,0)(0,1)(0,2)(0,3)(0,4)(0,5)(0,6)(0,7)\n",
      "(1,0)(1,1)(1,2)(1,3)(1,4)(1,5)(1,6)(1,7)\n",
      "(2,0)(2,1)(2,2)(2,3)(2,4)(2,5)(2,6)(2,7)\n",
      "(3,0)(3,1)(3,2)(3,3)(3,4)(3,5)(3,6)(3,7)\n",
      "(4,0)(4,1)(4,2)(4,3)(4,4)(4,5)(4,6)(4,7)\n",
      "(5,0)(5,1)(5,2)(5,3)(5,4)(5,5)(5,6)(5,7)\n",
      "(6,0)(6,1)(6,2)(6,3)(6,4)(6,5)(6,6)(6,7)\n",
      "(7,0)(7,1)(7,2)(7,3)(7,4)(7,5)(7,6)(7,7)\n"
     ]
    }
   ],
   "source": [
    "ChessCoordinates.main(new String[0]);"
   ]
  }
 ],
 "metadata": {
  "kernelspec": {
   "display_name": "Java",
   "language": "java",
   "name": "java"
  },
  "language_info": {
   "codemirror_mode": "java",
   "file_extension": ".jshell",
   "mimetype": "text/x-java-source",
   "name": "Java",
   "pygments_lexer": "java",
   "version": "17.0.4+8-jvmci-22.2-b06"
  }
 },
 "nbformat": 4,
 "nbformat_minor": 5
}
