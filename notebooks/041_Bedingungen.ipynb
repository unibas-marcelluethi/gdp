{
 "cells": [
  {
   "cell_type": "markdown",
   "id": "8efd29b6",
   "metadata": {},
   "source": [
    "# Bedingungen und Rekursion\n",
    "#### Marcel Lüthi, Andreas Morel-Forster<br/>Departement Mathematik und Informatik, Universität Basel"
   ]
  },
  {
   "cell_type": "markdown",
   "id": "a5997727",
   "metadata": {},
   "source": [
    "### Warm-up"
   ]
  },
  {
   "cell_type": "markdown",
   "id": "69e32aa4",
   "metadata": {},
   "source": [
    "- Geben Sie die ersten 100 ganzen Zahlen mit Hilfe von Rekursion aus.\n",
    "- Wie können Sie die Zahlen aufsteigend oder absteigend ausgeben?"
   ]
  },
  {
   "cell_type": "code",
   "execution_count": null,
   "id": "f402710e",
   "metadata": {},
   "outputs": [],
   "source": [
    "public class Numbers {\n",
    "    public static void print(int n) {\n",
    "        if ( n == 0 ) {\n",
    "            // do nothing\n",
    "        } else {\n",
    "            System.out.println(n);\n",
    "            print(n-1);\n",
    "        }\n",
    "    }\n",
    "\n",
    "    public static void main(String[] args) {\n",
    "        print(100);\n",
    "    }\n",
    "}"
   ]
  },
  {
   "cell_type": "code",
   "execution_count": null,
   "id": "0fea1eae",
   "metadata": {},
   "outputs": [],
   "source": [
    "Numbers.main(new String[0]);"
   ]
  },
  {
   "cell_type": "markdown",
   "id": "01c16915",
   "metadata": {},
   "source": [
    "Wir können den `else` weglassen wenn wir ein \"early-`return`\" nutzen um im `if`-Zweig die Methode direkt zu verlassen."
   ]
  },
  {
   "cell_type": "code",
   "execution_count": null,
   "id": "e27fa944",
   "metadata": {},
   "outputs": [],
   "source": [
    "public class Numbers {\n",
    "    public static void print(int n) {\n",
    "        if ( n == 0 ) {\n",
    "            return; // return bei void ohne Wert\n",
    "        }\n",
    "        \n",
    "        print(n-1);\n",
    "        System.out.println(n);\n",
    "    }\n",
    "\n",
    "    public static void main(String[] args) {\n",
    "        print(100);\n",
    "    }\n",
    "}"
   ]
  },
  {
   "cell_type": "code",
   "execution_count": null,
   "id": "88031ddd",
   "metadata": {},
   "outputs": [],
   "source": [
    "Numbers.main(new String[0]);"
   ]
  },
  {
   "cell_type": "markdown",
   "id": "d3698b7a",
   "metadata": {},
   "source": [
    "Dies können wir auch nutzen, um die Sign-Methode aus dem Trinket nocheinmal kompakter zu schreiben."
   ]
  },
  {
   "cell_type": "code",
   "execution_count": null,
   "id": "49413fa9",
   "metadata": {},
   "outputs": [],
   "source": [
    "class IfElse {\n",
    "  \n",
    "  public static int sign(int z) {\n",
    "    if (z > 0) {\n",
    "      return 1;\n",
    "    } else if (z == 0) {\n",
    "      return 0;\n",
    "    } else {\n",
    "      return -1;\n",
    "    }\n",
    "  }\n",
    "  \n",
    "  public static void main(String[] args) {\n",
    "    int signum = sign(5);\n",
    "    System.out.println(\"sign is: \" + signum);\n",
    "  }\n",
    "}"
   ]
  },
  {
   "cell_type": "code",
   "execution_count": null,
   "id": "185daf29",
   "metadata": {},
   "outputs": [],
   "source": [
    "IfElse.main(new String[0]);"
   ]
  },
  {
   "cell_type": "markdown",
   "id": "6c28fc29",
   "metadata": {},
   "source": [
    "Überlegen Sie, welche Schreibweise Sie bevorzugen."
   ]
  },
  {
   "cell_type": "markdown",
   "id": "de5e5e80",
   "metadata": {},
   "source": [
    "### Variablen, Methoden und if-Anweisungen"
   ]
  },
  {
   "cell_type": "markdown",
   "id": "4a4ac350",
   "metadata": {},
   "source": [
    "Wir kennen nun if-Anweisungen, Methode und Variablen. Wir wollen nun einige Fragen klären, welche vorkommen können wenn man beginnt zu Programmieren. Im foglenden sollen Sie immer beurteilen ob der Code richtig ist oder nicht.\n",
    "\n",
    ">*Hinweis: Im Jupyter-Notebook kann es sein, dass Sie die Klasse definieren können (Zelle mit der Klasse ausführen), so lange Sie diese nicht aufrufen. Manchmal kommt dann erst bei der Ausführung ein Fehler. Dass Sie dies nicht vergessen, sind in diesem Notebook die Klassenaufrufe mit in der Zelle."
   ]
  },
  {
   "cell_type": "code",
   "execution_count": null,
   "id": "3d8732f5",
   "metadata": {},
   "outputs": [],
   "source": [
    "public class Scope {\n",
    "\n",
    "    public static void main(String[] args) {\n",
    "        int i = 0;\n",
    "        if (Math.random() > 0.5) {\n",
    "            int i = 2;\n",
    "        } else {\n",
    "            int i = 4;\n",
    "        }\n",
    "    }\n",
    "}\n",
    "\n",
    "Scope.main(new String[0]);"
   ]
  },
  {
   "cell_type": "code",
   "execution_count": null,
   "id": "59774a66",
   "metadata": {},
   "outputs": [],
   "source": [
    "public class Scope {\n",
    "\n",
    "    public static void main(String[] args) {\n",
    "        if (Math.random() > 0.5) {\n",
    "            int i = 2;\n",
    "        } else {\n",
    "            int i = 4;\n",
    "        }\n",
    "    }\n",
    "}\n",
    "\n",
    "Scope.main(new String[0]);"
   ]
  },
  {
   "cell_type": "code",
   "execution_count": null,
   "id": "c6fccb87",
   "metadata": {},
   "outputs": [],
   "source": [
    "public class Scope {\n",
    "\n",
    "    public static void main(String[] args) {\n",
    "        if (Math.random() > 0.5) {\n",
    "            int i = 2;\n",
    "        } else {\n",
    "            int i = 4;\n",
    "        }\n",
    "        System.out.println(\"i hat den Wert \" + i);\n",
    "    }\n",
    "}\n",
    "\n",
    "Scope.main(new String[0]);"
   ]
  },
  {
   "cell_type": "code",
   "execution_count": null,
   "id": "bface88a",
   "metadata": {},
   "outputs": [],
   "source": [
    "public class Scope {\n",
    "\n",
    "    public static void main(String[] args) {\n",
    "        int i;\n",
    "        if (Math.random() > 0.5) {\n",
    "            i = 2;\n",
    "        } else {\n",
    "            i = 4;\n",
    "        }\n",
    "        System.out.println(\"i hat den Wert \" + i);\n",
    "    }\n",
    "}\n",
    "\n",
    "Scope.main(new String[0]);"
   ]
  },
  {
   "cell_type": "code",
   "execution_count": null,
   "id": "a4c01c46",
   "metadata": {},
   "outputs": [],
   "source": [
    "public class Scope {\n",
    "\n",
    "    public static void print() {\n",
    "        int i = 7;\n",
    "        System.out.println(\"i hat den Wert \" + i);\n",
    "    }\n",
    "\n",
    "    public static void main(String[] args) {\n",
    "        int i = 4;\n",
    "        print();\n",
    "    }\n",
    "}\n",
    "\n",
    "Scope.main(new String[0]);"
   ]
  },
  {
   "cell_type": "code",
   "execution_count": null,
   "id": "fee4a7c2",
   "metadata": {},
   "outputs": [],
   "source": [
    "public class Scope {\n",
    "\n",
    "    public static void print() {\n",
    "        System.out.println(\"i hat den Wert \" + i);\n",
    "    }\n",
    "\n",
    "    public static void main(String[] args) {\n",
    "        int i = 4;\n",
    "        print();\n",
    "    }\n",
    "}\n",
    "\n",
    "Scope.main(new String[0]);"
   ]
  },
  {
   "cell_type": "code",
   "execution_count": null,
   "id": "226a4e17",
   "metadata": {},
   "outputs": [],
   "source": [
    "public class Scope {\n",
    "\n",
    "    public static void print(int value) {\n",
    "        System.out.println(\"i hat den Wert \" + i);\n",
    "    }\n",
    "\n",
    "    public static void main(String[] args) {\n",
    "        int i = 4;\n",
    "        print(i);\n",
    "    }\n",
    "}\n",
    "\n",
    "Scope.main(new String[0]);"
   ]
  },
  {
   "cell_type": "code",
   "execution_count": null,
   "id": "9f9f799a",
   "metadata": {},
   "outputs": [],
   "source": [
    "public class Scope {\n",
    "\n",
    "    public static void print2() {\n",
    "        int i = 2;\n",
    "    }\n",
    "\n",
    "    public static void print1() {\n",
    "        int i = 4;\n",
    "    }\n",
    "\n",
    "    public static void main(String[] args) {\n",
    "        if (Math.random() > 0.5) {\n",
    "            print1();\n",
    "        } else {\n",
    "            print2();\n",
    "        }\n",
    "    }\n",
    "}\n",
    "\n",
    "Scope.main(new String[0]);"
   ]
  },
  {
   "cell_type": "code",
   "execution_count": null,
   "id": "4d2baada",
   "metadata": {},
   "outputs": [],
   "source": [
    "public class Scope {\n",
    "\n",
    "    public static void print2() {\n",
    "        int i = 2;\n",
    "    }\n",
    "\n",
    "    public static void print1() {\n",
    "        int i = 4;\n",
    "    }\n",
    "\n",
    "    public static void main(String[] args) {\n",
    "        print1();\n",
    "        print2();\n",
    "    }\n",
    "}\n",
    "\n",
    "Scope.main(new String[0]);"
   ]
  },
  {
   "cell_type": "code",
   "execution_count": null,
   "id": "f95b3b84",
   "metadata": {},
   "outputs": [],
   "source": [
    "public class Scope {\n",
    "\n",
    "    public static void define() {\n",
    "        int i = 4;\n",
    "    }\n",
    "\n",
    "    public static void main(String[] args) {\n",
    "        define();\n",
    "        System.out.println(\"i hat den Wert \" + i);\n",
    "    }\n",
    "}\n",
    "\n",
    "Scope.main(new String[0]);"
   ]
  },
  {
   "cell_type": "code",
   "execution_count": null,
   "id": "76a1c6f5",
   "metadata": {},
   "outputs": [],
   "source": [
    "// Ihre eigenen Tests\n",
    "public class Scope {\n",
    "    \n",
    "    public static void main(String[] args) {\n",
    "    }\n",
    "}\n",
    "\n",
    "Scope.main(new String[0]);"
   ]
  },
  {
   "cell_type": "markdown",
   "id": "b729d7aa",
   "metadata": {},
   "source": [
    "### Robustere Programme"
   ]
  },
  {
   "cell_type": "markdown",
   "id": "94d90748",
   "metadata": {},
   "source": [
    "Wir haben den Scanner benutzt um Zahlen vom Benutzer zu erfragen. Wenn keine Zahl eingegeben wurde, ist der Scanner abgestürzte. Wir wollen nun schauen wie wir unsere Programme besser schreiben können und auf solche Probleme reagieren."
   ]
  },
  {
   "cell_type": "markdown",
   "id": "82fdef81",
   "metadata": {},
   "source": [
    "Wenn wir eine Zahl einlesen möchten, dann können wir eine Methode des Scanners benutzen um zu testen ob auch wirklich eine Zahl eingegeben wurde. Es gibt zum Beispiel die Methode `hasNextInt()`."
   ]
  },
  {
   "cell_type": "code",
   "execution_count": null,
   "id": "61d70dac",
   "metadata": {},
   "outputs": [],
   "source": [
    "public class AskTheUser {\n",
    "    public static int askForNumber() {\n",
    "        System.out.println(\"Bitte geben Sie eine Zahl zwischen 1 und 10 ein:\");\n",
    "        \n",
    "        Scanner userInput = new Scanner(System.in);\n",
    "        if (userInput.hasNextInt()) {\n",
    "            // Benutzer hat etwas eingegeben\n",
    "            return userInput.nextInt();\n",
    "        }\n",
    "        return 0;\n",
    "    }\n",
    "    \n",
    "    public static void main(String[] args) {\n",
    "        int input = askForNumber();\n",
    "        if (input != 0) {\n",
    "            System.out.println(\"The user entered the number \" + input);\n",
    "        } else {\n",
    "            System.out.println(\"The user tried to fool the programm and has not entered a number.\");\n",
    "        }\n",
    "    }\n",
    "}"
   ]
  },
  {
   "cell_type": "code",
   "execution_count": null,
   "id": "f6eeab79",
   "metadata": {},
   "outputs": [],
   "source": [
    "AskTheUser.main(new String[0]);"
   ]
  },
  {
   "cell_type": "markdown",
   "id": "0a16c765",
   "metadata": {},
   "source": [
    "### Escape Sequenzen"
   ]
  },
  {
   "cell_type": "markdown",
   "id": "64090553",
   "metadata": {},
   "source": [
    "Wir haben beim Scanner letztes mal gesehen, dass es spezielle Zeichen gibt, welche zum Beispiel die `<Enter>`-Taste repräsentieren. Diese werden in Java als Escape-Sequenzen dargestellt.\n",
    "\n",
    "Die Escape-Sequenz hat ihren Namen davon, dass ein Zeichen, der Backslash `\\` verwendet wird um zu signalisieren, dass jetzt etwas kommt, was speziell interpretiert werden soll. Der \"normale\" Interpretationsmodus wird also verlassen."
   ]
  },
  {
   "cell_type": "markdown",
   "id": "59b26465",
   "metadata": {},
   "source": [
    "Als Beispiel haben wir schon `\\n` gesehen. Dies stellt den Zeilenumbruch dar, welchen Sie in einem Schreibprogramm mit der `<Enter>`-Taste einfügen."
   ]
  },
  {
   "cell_type": "markdown",
   "id": "61e7e684",
   "metadata": {},
   "source": [
    "#### Miniübung"
   ]
  },
  {
   "cell_type": "markdown",
   "id": "a8c9467f",
   "metadata": {},
   "source": [
    "Versuchen Sie durch experimentieren mit den folgenden Escapesequenzen herauszufinden, was diese bedeuten:\n",
    "- `\\n` haben wir als Zeilenumbruch kennen gelernt.\n",
    "- `\\r`\n",
    "- `\\t`\n",
    "- `\\\\`\n",
    "- `\\\"`"
   ]
  },
  {
   "cell_type": "code",
   "execution_count": null,
   "id": "56720bb7",
   "metadata": {},
   "outputs": [],
   "source": [
    "public class Escape {\n",
    "    public static void main(String[] args) {\n",
    "        System.out.println(\"Wir schreiben zwei Zeilen\\nin einer Zeile.\");\n",
    "        System.out.println(\"zurück für in verkehrter Reihenfolgen.\\rEine Zeile\");\n",
    "        System.out.println(\"Mit\\tTabulatoren\\terzeugen\\twir\\tviel\\tAbstand.\");\n",
    "        System.out.println(\"Der Backslash \\\\ ist auch ein Zeichen.\");\n",
    "        System.out.println(\"Nicht jedes \\\" beendet einen String.\");\n",
    "    }\n",
    "}"
   ]
  },
  {
   "cell_type": "code",
   "execution_count": null,
   "id": "0a329572",
   "metadata": {},
   "outputs": [],
   "source": [
    "Escape.main(new String[0]);"
   ]
  },
  {
   "cell_type": "markdown",
   "id": "6dfc9d52",
   "metadata": {},
   "source": [
    "### Programme Analysieren"
   ]
  },
  {
   "cell_type": "markdown",
   "id": "06efe2f3",
   "metadata": {},
   "source": [
    "Manchmal ist es schwierig ein Programm zu lesen und genau zu sehen, was passiert. Für das folgende Programm wäre es wohl mit einigem Aufwand möglich. Oft ist es jedoch einfacher Fragen über das Programm zu beantworten, indem man durch gezielte eingefügte Ausgaben im Programm den Ablauf gezielt sichtbar macht."
   ]
  },
  {
   "cell_type": "markdown",
   "id": "7ed286e0",
   "metadata": {},
   "source": [
    "#### Miniübung"
   ]
  },
  {
   "cell_type": "markdown",
   "id": "6755d940",
   "metadata": {},
   "source": [
    "Versuchen Sie folgende Fragen zu beantowrten, in dem Sie gezielte Text ausgeben lassen.\n",
    "\n",
    "- Wie oft wird die Methode `body` aufgerufen?\n",
    "- Was ist der Inhalt des Parameters `content` wenn die Methode `head` aufgerufen wird?\n",
    "- Wird die Methode `start` oder die Methode `end` öfters aufgerufen?"
   ]
  },
  {
   "cell_type": "code",
   "execution_count": null,
   "id": "4ae8660b",
   "metadata": {},
   "outputs": [],
   "source": [
    "class Website {\n",
    "\n",
    "    static String start(String tag) {\n",
    "        return \"<\" + tag + \">\";\n",
    "    }\n",
    "    \n",
    "    static String end(String tag) {\n",
    "        return \"</\" + tag + \">\";\n",
    "    }\n",
    "    \n",
    "    static String group(String tag, String content) {\n",
    "        return start(tag) + content + end(tag);\n",
    "    }\n",
    "    \n",
    "    static String html(String content) {\n",
    "        String tag = \"html\";\n",
    "        return group(tag, content);\n",
    "    }\n",
    "    \n",
    "    static String head(String content) {\n",
    "        String tag = \"head\";\n",
    "        return group(tag, content);\n",
    "    }\n",
    "    \n",
    "    static String title(String title) {\n",
    "        String tag = \"title\";\n",
    "        return group(tag, title);\n",
    "    }\n",
    "    \n",
    "    static String body(String content) {\n",
    "        String tag = \"body\";\n",
    "        return group(tag, content);\n",
    "    }\n",
    "    \n",
    "    static String h1(String title) {\n",
    "        String tag = \"h1\";\n",
    "        return group(tag, title);\n",
    "    }\n",
    "    \n",
    "    static String document() {\n",
    "        String webpage = html(\n",
    "            head(title(\"Meine erste eigene Homepage\")) +\n",
    "            body(\n",
    "                h1(\"Ein Titel\") + \"\\n\" +\n",
    "                \"Dies ist ein bischen Text\"\n",
    "            )\n",
    "        );\n",
    "        return webpage;\n",
    "    }\n",
    "    \n",
    "    public static void main(String[] args) {\n",
    "        System.out.println(document());\n",
    "    }\n",
    "}"
   ]
  },
  {
   "cell_type": "code",
   "execution_count": null,
   "id": "ee178b48",
   "metadata": {},
   "outputs": [],
   "source": [
    "Website.main(new String[0]);"
   ]
  },
  {
   "cell_type": "markdown",
   "id": "397c5b18",
   "metadata": {},
   "source": [
    "### Test Driven Development"
   ]
  },
  {
   "cell_type": "markdown",
   "id": "dadb8b25",
   "metadata": {},
   "source": [
    "Wenn wir programmieren, machen wir Fehler. Deshalb ist das Testen von Programmen sehr wichtig. Wir wollen uns nun anschauen, was Test Driven Development (TDD) ist.\n",
    "\n",
    "Die Philosophie hinter TDD ist, dass man zuerst den Test schreibt und erst dann das Programm dazu schreibt. Dabei schreibt man nur so viel vom Programm um den Test zu erfüllen.\n",
    "\n",
    "Nehmen wir zum Beispiel die Aufgabe arabische in römische Zahlen umzuwandeln. Dazu soll eine Methode `toRoman` geschrieben werden. Diese soll dem Wert des übergebenen Parameter entsprechende Zahl als Text zurück gegeben. Wir schreiben als erstes nich diese Methode sondern wir schreiben zuerst die Methode `testOne`."
   ]
  },
  {
   "cell_type": "code",
   "execution_count": 40,
   "id": "8627edc0",
   "metadata": {},
   "outputs": [],
   "source": [
    "public class RomanNumbers {\n",
    "    public static void testOne() {\n",
    "        System.out.println(\"The test failed: 1 is not I\");\n",
    "    }\n",
    "    \n",
    "    public static void main(String[] args) {\n",
    "        testOne();\n",
    "    }\n",
    "}"
   ]
  },
  {
   "cell_type": "markdown",
   "id": "33799e9f",
   "metadata": {},
   "source": [
    "Extend the example to do something useful."
   ]
  },
  {
   "cell_type": "code",
   "execution_count": 54,
   "id": "1e6f7b01",
   "metadata": {},
   "outputs": [],
   "source": [
    "public class RomanNumbers {\n",
    "    \n",
    "    public static String toRoman(int value) {\n",
    "        return \"I\";\n",
    "    }\n",
    "    \n",
    "    public static void testOne() {\n",
    "        String result = toRoman(1);\n",
    "        if ( result == \"I\") {\n",
    "            System.out.println(\"The test passed: 1 is I\");\n",
    "        } else {\n",
    "            System.out.println(\"The test failed: 1 is not I\");\n",
    "        }\n",
    "    }\n",
    "    \n",
    "    public static void main(String[] args) {\n",
    "        testOne();\n",
    "    }\n",
    "}"
   ]
  },
  {
   "cell_type": "markdown",
   "id": "ba7aebbd",
   "metadata": {},
   "source": [
    "Add test case for the value 2, not changing the function yet."
   ]
  },
  {
   "cell_type": "code",
   "execution_count": 56,
   "id": "8b39724a",
   "metadata": {},
   "outputs": [],
   "source": [
    "public class RomanNumbers {\n",
    "    \n",
    "    public static String toRoman(int value) {\n",
    "        return \"I\";\n",
    "    }\n",
    "    \n",
    "    public static void testOne() {\n",
    "        String result = toRoman(1);\n",
    "        if ( result == \"I\") {\n",
    "            System.out.println(\"The test passed: 1 is I\");\n",
    "        } else {\n",
    "            System.out.println(\"The test failed: 1 is not I\");\n",
    "        }\n",
    "    }\n",
    "    \n",
    "    public static void testTwo() {\n",
    "        String result = toRoman(2);\n",
    "        if ( result == \"II\") {\n",
    "            System.out.println(\"The test passed: 2 is II\");\n",
    "        } else {\n",
    "            System.out.println(\"The test failed: 2 is not II\");\n",
    "        }\n",
    "    }\n",
    "    \n",
    "    public static void main(String[] args) {\n",
    "        testOne();\n",
    "        testTwo();\n",
    "    }\n",
    "}"
   ]
  },
  {
   "cell_type": "markdown",
   "id": "3afa78cc",
   "metadata": {},
   "source": [
    "Fix the function to pass the test."
   ]
  },
  {
   "cell_type": "code",
   "execution_count": 71,
   "id": "f3256200",
   "metadata": {},
   "outputs": [],
   "source": [
    "public class RomanNumbers {\n",
    "    \n",
    "    public static String toRoman(int value) {\n",
    "        if (value == 2) {\n",
    "            return \"II\";\n",
    "        }\n",
    "        return \"I\";\n",
    "    }\n",
    "    \n",
    "    public static void testOne() {\n",
    "        String result = toRoman(1);\n",
    "        if ( result == \"I\") {\n",
    "            System.out.println(\"The test passed: 1 is I\");\n",
    "        } else {\n",
    "            System.out.println(\"The test failed: 1 is not I\");\n",
    "        }\n",
    "    }\n",
    "    \n",
    "    public static void testTwo() {\n",
    "        String result = toRoman(2);\n",
    "        if ( result == \"II\") {\n",
    "            System.out.println(\"The test passed: 2 is II\");\n",
    "        } else {\n",
    "            System.out.println(\"The test failed: 2 is not II\");\n",
    "        }\n",
    "    }\n",
    "    \n",
    "    public static void main(String[] args) {\n",
    "        testOne();\n",
    "        testTwo();\n",
    "    }\n",
    "}"
   ]
  },
  {
   "cell_type": "markdown",
   "id": "3a5b236d",
   "metadata": {},
   "source": [
    "Add test for the value 3."
   ]
  },
  {
   "cell_type": "code",
   "execution_count": 61,
   "id": "2df7e5b2",
   "metadata": {},
   "outputs": [],
   "source": [
    "public class RomanNumbers {\n",
    "    \n",
    "    public static String toRoman(int value) {\n",
    "        if (value == 2) {\n",
    "            return \"II\";\n",
    "        }\n",
    "        return \"I\";\n",
    "    }\n",
    "    \n",
    "    public static void testOne() {\n",
    "        String result = toRoman(1);\n",
    "        if ( result == \"I\") {\n",
    "            System.out.println(\"The test passed: 1 is I\");\n",
    "        } else {\n",
    "            System.out.println(\"The test failed: 1 is not I\");\n",
    "        }\n",
    "    }\n",
    "    \n",
    "    public static void testTwo() {\n",
    "        String result = toRoman(2);\n",
    "        if ( result == \"II\") {\n",
    "            System.out.println(\"The test passed: 2 is II\");\n",
    "        } else {\n",
    "            System.out.println(\"The test failed: 2 is not II\");\n",
    "        }\n",
    "    }\n",
    "    \n",
    "    public static void testThree() {\n",
    "        String result = toRoman(3);\n",
    "        if ( result == \"III\") {\n",
    "            System.out.println(\"The test passed: 3 is III\");\n",
    "        } else {\n",
    "            System.out.println(\"The test failed: 3 is not III\");\n",
    "        }\n",
    "    }\n",
    "    \n",
    "    public static void main(String[] args) {\n",
    "        testOne();\n",
    "        testTwo();\n",
    "        testThree();\n",
    "    }\n",
    "}"
   ]
  },
  {
   "cell_type": "markdown",
   "id": "c3a9d213",
   "metadata": {},
   "source": [
    "DRY - Funktion umschreiben"
   ]
  },
  {
   "cell_type": "code",
   "execution_count": 67,
   "id": "e347e81e",
   "metadata": {},
   "outputs": [],
   "source": [
    "public class RomanNumbers {\n",
    "    \n",
    "    public static String toRoman(int value) {\n",
    "        if (value == 2) {\n",
    "            return \"II\";\n",
    "        }\n",
    "        return \"I\";\n",
    "    }\n",
    "    \n",
    "    public static void test(int value, String expected) {\n",
    "        String result = toRoman(value);\n",
    "        if ( result == expected) {\n",
    "            System.out.println(\"The test passed: \" + value + \" is \" + expected);\n",
    "        } else {\n",
    "            System.out.println(\"The test failed: \" + value + \" is not \" + expected);\n",
    "        }\n",
    "    }\n",
    "    \n",
    "    public static void main(String[] args) {\n",
    "        test(1, \"I\");\n",
    "        test(2, \"II\");\n",
    "        test(3, \"III\");\n",
    "    }\n",
    "}"
   ]
  },
  {
   "cell_type": "markdown",
   "id": "20351d60",
   "metadata": {},
   "source": [
    "Methode für Wert 3 verbessern."
   ]
  },
  {
   "cell_type": "code",
   "execution_count": 78,
   "id": "011fcb4d",
   "metadata": {},
   "outputs": [],
   "source": [
    "public class RomanNumbers {\n",
    "    \n",
    "    public static String toRoman(int value) {\n",
    "        if (value == 3) {\n",
    "            return \"III\";\n",
    "        }\n",
    "        if (value == 2) {\n",
    "            return \"II\";\n",
    "        }\n",
    "        return \"I\";\n",
    "    }\n",
    "    \n",
    "    public static void test(int value, String expected) {\n",
    "        String result = toRoman(value);\n",
    "        if ( result == expected) {\n",
    "            System.out.println(\"The test passed: \" + value + \" is \" + expected);\n",
    "        } else {\n",
    "            System.out.println(\"The test failed: \" + value + \" is not \" + expected);\n",
    "        }\n",
    "    }\n",
    "    \n",
    "    public static void main(String[] args) {\n",
    "        test(1, \"I\");\n",
    "        test(2, \"II\");\n",
    "        test(3, \"III\");\n",
    "    }\n",
    "}"
   ]
  },
  {
   "cell_type": "markdown",
   "id": "9080ae51",
   "metadata": {},
   "source": [
    "Umschreiben der Methode, römische Zahlen lassen sich rekursiv aufbauen."
   ]
  },
  {
   "cell_type": "code",
   "execution_count": 80,
   "id": "a3b81fb0",
   "metadata": {},
   "outputs": [],
   "source": [
    "public class RomanNumbers {\n",
    "    \n",
    "    public static String toRoman(int value) {\n",
    "        if (value > 0) {\n",
    "            return \"I\" + toRoman(value - 1);\n",
    "        }\n",
    "        return \"\";\n",
    "    }\n",
    "    \n",
    "    public static void test(int value, String expected) {\n",
    "        String result = toRoman(value);\n",
    "        if ( result.equals(expected)) {\n",
    "            System.out.println(\"The test passed: \" + value + \" is \" + expected);\n",
    "        } else {\n",
    "            System.out.println(\"The test failed: \" + value + \" is not \" + expected + \" we got \" + result);\n",
    "        }\n",
    "    }\n",
    "    \n",
    "    public static void main(String[] args) {\n",
    "        test(1, \"I\");\n",
    "        test(2, \"II\");\n",
    "        test(3, \"III\");\n",
    "    }\n",
    "}"
   ]
  },
  {
   "cell_type": "code",
   "execution_count": 81,
   "id": "7a1477c2",
   "metadata": {},
   "outputs": [
    {
     "name": "stdout",
     "output_type": "stream",
     "text": [
      "The test passed: 1 is I\n",
      "The test passed: 2 is II\n",
      "The test passed: 3 is III\n"
     ]
    }
   ],
   "source": [
    "RomanNumbers.main(new String[0]);"
   ]
  },
  {
   "cell_type": "code",
   "execution_count": null,
   "id": "593f1edb",
   "metadata": {},
   "outputs": [],
   "source": [
    "public class RomanNumbers {\n",
    "\n",
    "    public static void testNumber(int value, String expectedValue) {\n",
    "        String convertedValue = toRoman(value);\n",
    "        \n",
    "        System.out.print(String.format(\"%d is converted to \\\"%s\\\"\", value, convertedValue));\n",
    "        System.out.println(String.format(\" <-> \\\"%s\\\" expected\", expectedValue));\n",
    "        if (convertedValue.equals(expectedValue)) {\n",
    "            System.out.println(\"Test passed!\");\n",
    "        } else {\n",
    "            System.out.println(\"Test failed!\");\n",
    "        }\n",
    "    }\n",
    "    \n",
    "    public static String toRoman(int i) {\n",
    "        if (i >= 1000) {\n",
    "            return \"M\" + toRoman(i - 1000);\n",
    "        }\n",
    "        if (i >= 900) {\n",
    "            return \"CM\" + toRoman(i - 900);\n",
    "        }\n",
    "        if (i >= 500) {\n",
    "            return \"D\" + toRoman(i - 500);\n",
    "        }\n",
    "        if (i >= 400) {\n",
    "            return \"CD\" + toRoman(i - 400);\n",
    "        }\n",
    "        if (i >= 100) {\n",
    "            return \"C\" + toRoman(i - 100);\n",
    "        }\n",
    "        if (i >= 90) {\n",
    "            return \"XC\" + toRoman(i - 90);\n",
    "        }\n",
    "        if (i >= 50) {\n",
    "            return \"L\" + toRoman(i - 50);\n",
    "        }\n",
    "        if (i >= 40) {\n",
    "            return \"XL\" + toRoman(i - 40);\n",
    "        }\n",
    "        if (i >= 10) {\n",
    "            return \"X\" + toRoman(i - 10);\n",
    "        }\n",
    "        if (i >= 9) {\n",
    "            return \"IX\" + toRoman(i - 9);\n",
    "        }\n",
    "        if (i >= 5) {\n",
    "            return \"V\" + toRoman(i - 5);\n",
    "        }\n",
    "        if (i >= 4) {\n",
    "            return \"IV\" + toRoman(i - 4);\n",
    "        }\n",
    "        if (i >= 1) {\n",
    "            return toRoman(i-1) + \"I\";\n",
    "        }\n",
    "        return \"\";\n",
    "    }\n",
    "    \n",
    "    public static void main(String[] args) {\n",
    "        testNumber(0, \"\");\n",
    "        testNumber(1, \"I\");\n",
    "        testNumber(2, \"II\");\n",
    "        testNumber(3, \"III\");\n",
    "        testNumber(323, \"CCCXXIII\");\n",
    "        testNumber(1989, \"MCMLXXXIX\");\n",
    "        testNumber(1998, \"MCMXCVIII\");\n",
    "    }\n",
    "}"
   ]
  },
  {
   "cell_type": "code",
   "execution_count": null,
   "id": "473b8b0d",
   "metadata": {},
   "outputs": [],
   "source": [
    "RomanNumbers.main(new String[0]);"
   ]
  }
 ],
 "metadata": {
  "kernelspec": {
   "display_name": "Java",
   "language": "java",
   "name": "java"
  },
  "language_info": {
   "codemirror_mode": "java",
   "file_extension": ".jshell",
   "mimetype": "text/x-java-source",
   "name": "Java",
   "pygments_lexer": "java",
   "version": "17.0.4+8-jvmci-22.2-b06"
  }
 },
 "nbformat": 4,
 "nbformat_minor": 5
}
