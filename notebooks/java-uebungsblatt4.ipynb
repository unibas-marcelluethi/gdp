{
 "cells": [
  {
   "cell_type": "markdown",
   "metadata": {
    "deletable": false
   },
   "source": [
    "# Grundlagen der Programmierung  <br/> Übungsblatt 04 - Bedingungen und Rekursion\n",
    "#### Marcel Lüthi, Andreas Morel-Forster <br/> Departement Mathematik und Informatik, Universität Basel"
   ]
  },
  {
   "cell_type": "markdown",
   "metadata": {
    "deletable": false
   },
   "source": [
    "In diesem Notebook üben Sie\n",
    "- wie man testet ob der Safe Exam Broser richtig installiert ist.\n",
    "- Bedingungen zu schreiben.\n",
    "- Bedingungen in Methoden auszulagern.\n",
    "- Rekursive Methoden zu schreiben."
   ]
  },
  {
   "cell_type": "markdown",
   "metadata": {
    "deletable": false
   },
   "source": [
    "### Safe Exam Browser (SEB)"
   ]
  },
  {
   "cell_type": "markdown",
   "metadata": {
    "deletable": false
   },
   "source": [
    "Der folgende Link zeigt auf eine Datei, welche mit Ihren SEB geöffnet wird und diesen konfiguriert. Nach dem Klick auf den Link sollte gefragt werden ob Sie die Aktion mit dem SEB durchführen wollen. Sobald Sie bestätigen sollte sich der SEB öffnen. Klicken Sie nun bitte auf den folgenden Link.\n",
    "\n",
    "[Link zum öffnen des SEB](todo)\n",
    "\n",
    "Wenn dies klappt, dann haben Sie diese Übung erfolgreich bestanden. Andernfalls versuchen Sie dem Fehler nachzugehen und fragen Sie allenfalls bei Ihren Mitstudierenden, im Tutorat oder im Forum um Hilfe."
   ]
  },
  {
   "cell_type": "markdown",
   "metadata": {
    "deletable": false
   },
   "source": [
    "### Aufgabe 1 - Gerade [3 Punkte]"
   ]
  },
  {
   "cell_type": "markdown",
   "metadata": {
    "deletable": false
   },
   "source": [
    "Schreiben Sie eine Methode `isEven` welche überprüft ob die übergebene Zahl gerade ist. Dabei soll für gerade Zahlen `\"X ist gerade.\"` ausgegeben werden und für alle ungeraden Zahlen `\"X is ungerade.\"`.\n",
    "\n",
    "Mögliche Ausgaben sind:\n",
    "- `1 ist ungerade.`\n",
    "- `2 ist gerade.`\n",
    "- `7 ist ungerade.`"
   ]
  },
  {
   "cell_type": "code",
   "execution_count": null,
   "metadata": {
    "deletable": false,
    "exercise_id": 1
   },
   "outputs": [],
   "source": [
    "public class Even {\n",
    "    // Hier kommt Ihre Lösung hin\n",
    "    \n",
    "    public static void main(String[] args) {\n",
    "        isEven(1);\n",
    "        isEven(2);\n",
    "        isEven(7);\n",
    "        isEven(42);\n",
    "    }\n",
    "}"
   ]
  },
  {
   "cell_type": "code",
   "execution_count": null,
   "metadata": {
    "deletable": false
   },
   "outputs": [],
   "source": [
    "Even.main(new String[0]);"
   ]
  },
  {
   "cell_type": "markdown",
   "metadata": {
    "deletable": false
   },
   "source": [
    "### Aufgabe 2 - Maximum [3 Punkte]"
   ]
  },
  {
   "cell_type": "markdown",
   "metadata": {
    "deletable": false
   },
   "source": [
    "Schreiben Sie eine Methode `max3` welche das Maximum von drei Zahlen zurück gibt. Diese soll für Gleitkommazahlen funktionieren."
   ]
  },
  {
   "cell_type": "code",
   "execution_count": null,
   "metadata": {
    "deletable": false,
    "exercise_id": 2
   },
   "outputs": [],
   "source": [
    "public class MaximumOfThree {\n",
    "    // Hier kommt Ihre Lösung hin\n",
    "\n",
    "    public static void main(String[] args) {\n",
    "    }\n",
    "}"
   ]
  },
  {
   "cell_type": "code",
   "execution_count": null,
   "metadata": {
    "deletable": false
   },
   "outputs": [],
   "source": [
    "MaximumOfThree.main(new String[0]);"
   ]
  },
  {
   "cell_type": "markdown",
   "metadata": {
    "deletable": false
   },
   "source": [
    "### Aufgabe 3 - Fitze Fatze [4 Punkte]"
   ]
  },
  {
   "cell_type": "markdown",
   "metadata": {
    "deletable": false
   },
   "source": [
    "Schreiben Sie eine Methode `fitzeFatze`, welche als Parameter eine ganze Zahl entgegennimmt. \n",
    "* Falls die Zahl durch 3 teilbar ist soll `\"fitze\"` zurück gegeben werden.\n",
    "* Falls die Zahl durch 5 teilbar ist, soll `\"fatze\"` zurück gegeben werden.\n",
    "* Falls die Zahl durch 3 und 5 teilbar ist, soll `\"fitzefatze\"` zurück gegeben werden.\n",
    "* In jedem anderen Fall soll die übergebene Zahl als Text zurück gegeben werden. \n",
    "\n",
    "*Hinweis: Falls Sie beim lösen dieses Übungsblatt etwas Frustration aufkommen sollte, empfehlen wir Ihnen das zur [Übung passende Lied](https://www.youtube.com/watch?v=neilsnaMI1U) zu hören.*"
   ]
  },
  {
   "cell_type": "code",
   "execution_count": null,
   "metadata": {
    "deletable": false,
    "exercise_id": 3
   },
   "outputs": [],
   "source": [
    "public class FitzeFatze {\n",
    "    // Hier kommt Ihre Lösung hin\n",
    "}"
   ]
  },
  {
   "cell_type": "markdown",
   "metadata": {
    "deletable": false
   },
   "source": [
    "### Aufgabe 4 - Form [3 Punkte]"
   ]
  },
  {
   "cell_type": "markdown",
   "metadata": {
    "deletable": false
   },
   "source": [
    "![Kreuz](images/cross.png)\n",
    "\n",
    "Schreiben Sie eine Methode `isInside` welche für die Koordinate (`x`, `y`) prüft, ob diese innerhalb oder ausserhalb der im Bild gegebenen Form liegt. Innerhalb der Form soll der Wahrheitswert `true` zurück gegeben werden, sonst soll `false` zurück gegeben werden.\n",
    "\n",
    "- Die Koordinate können Sie als zwei Gleitkommazahlen repräsentieren.\n",
    "- Der Rand der Form ist immer auf einer ganzen Zahl.\n",
    "- Sie können wählen ob der Rand zur Form gehört oder nicht."
   ]
  },
  {
   "cell_type": "code",
   "execution_count": null,
   "metadata": {
    "deletable": false,
    "exercise_id": 4
   },
   "outputs": [],
   "source": [
    "public class Shape {\n",
    "    // Hier kommt Ihre Lösung hin\n",
    "}"
   ]
  },
  {
   "cell_type": "markdown",
   "metadata": {
    "deletable": false
   },
   "source": [
    "### Aufgabe 5 - Dreieck [2 Punkte]"
   ]
  },
  {
   "cell_type": "markdown",
   "metadata": {
    "deletable": false
   },
   "source": [
    "Für jedes nicht entartetes Dreieck gilt: Die Summe zweier beliebiger Seitenlängen muss grösser sein als die dritte Seitenlänge.\n",
    "\n",
    "Schreiben Sie eine Funktion `isTriangle`. Die Funktion soll drei Längen übergeben bekommen und zurück geben, ob diese die Seitenlängen eines Dreiecks sein können oder nicht. "
   ]
  },
  {
   "cell_type": "code",
   "execution_count": null,
   "metadata": {
    "deletable": false,
    "exercise_id": 5
   },
   "outputs": [],
   "source": [
    "public class Triangle {\n",
    "    // Hier kommt Ihre Lösung hin\n",
    "}"
   ]
  },
  {
   "cell_type": "markdown",
   "metadata": {
    "deletable": false
   },
   "source": [
    "### Aufgabe 6 - Rekursive Summe [3 Punkte]"
   ]
  },
  {
   "cell_type": "markdown",
   "metadata": {
    "deletable": false
   },
   "source": [
    "Schreiben Sie eine Methode `sumFromZeroTo` welche eine ganze Zahl übergeben bekommt. Die Funktion soll alle ganzen Zahlen von 0 bis zur übergebenen Zahl summieren.\n",
    "\n",
    "Verwenden Sie nicht die Formel $\\sum\\limits_{n = 0}^Nn = \\frac{N \\dot (N+1)}{2}$."
   ]
  },
  {
   "cell_type": "code",
   "execution_count": null,
   "metadata": {
    "deletable": false,
    "exercise_id": 6
   },
   "outputs": [],
   "source": [
    "public class RecursiveSum {\n",
    "    // Hier kommt Ihre Lösung hin\n",
    "}"
   ]
  },
  {
   "cell_type": "markdown",
   "metadata": {
    "deletable": false
   },
   "source": [
    "### Aufgabe 7 -  Kochkurve [nicht autm. korrigiert]\n",
    "\n",
    "In dieser Aufgabe wollen wir etwas schönes Zeichnen, jedoch mit Rekursion. Die Kurve heisst Kochkurve. Die Idee ist, wie tiefer die Rekursion geht, desto mehr Details werden gezeichnet. Sie sehen im folgenden Bild die Ergebnisse der Aufrufe mit 0 bis 4 Levels.\n",
    "\n",
    "![Kochkurve](images/koch.png)\n",
    "\n",
    "Wenn wir Level 0 betrachten, dann sehen wir was im Fall des Rekursionsabbruchs passiert. Mit dem Wissen was bei Level 0 rauskommt und wenn wir Level 1 betrachten, kann man raus finden wie oft sich die Funktion selber aufruft und was zwischen den Aufrufen passieren soll.\n",
    "\n",
    "Schreiben Sie eine Methode `koch` welche Sie mit dem gewünschten Level und einer Gesamtlänge (z.B. 100) aufrufen können."
   ]
  },
  {
   "cell_type": "code",
   "execution_count": null,
   "metadata": {
    "deletable": false
   },
   "outputs": [],
   "source": [
    "%mavenRepo shapemodelling-repo https://shapemodelling.cs.unibas.ch/repo/\n",
    "%maven ch.unibas.informatik:jturtle:0.7"
   ]
  },
  {
   "cell_type": "code",
   "execution_count": null,
   "metadata": {
    "deletable": false
   },
   "outputs": [],
   "source": [
    "import static ch.unibas.informatik.jturtle.TurtleCommands.*;\n",
    "import java.awt.Color;"
   ]
  },
  {
   "cell_type": "code",
   "execution_count": null,
   "metadata": {
    "deletable": false,
    "exercise_id": 7
   },
   "outputs": [],
   "source": [
    "public class Curve {\n",
    "    // Hier kommt Ihre Lösung hin\n",
    "}"
   ]
  },
  {
   "cell_type": "markdown",
   "metadata": {
    "deletable": false
   },
   "source": [
    "### Aufgabe 8 - Guess my Number"
   ]
  },
  {
   "cell_type": "markdown",
   "metadata": {
    "deletable": false
   },
   "source": [
    "Wir wollen das Spiel `GuessTheNumber` erweitern, welches Sie auf Blatt 3 in der Aufgabe Scanner geschrieben haben. Versuchen Sie folgende 3 Punkte umzusetzten:\n",
    "\n",
    "- Vergleichen Sie die Zahl welche der Benutzer eingibt mit der gesuchten Zahl und geben Sie als Antwort ob die Zahl gefunden wurde oder nicht.\n",
    "- Verwenden Sie Rekursion um so lange den Benutzer nach einer neuen Zahl zu fragen, bis die Zahl erraten ist.\n",
    "- Verwenden Sie Rekursion um den Benutzer so lange nach einer Zahl zu fragen, bis er auch eine Zahl eingegeben hat. Als Test ob eine Zahl eingegeben wurde, können Sie die Methode `hasNextInt()` wie `nextInt()` aufrufen. Diese Methode gibt `true` zurück, sobald eine Zahl gelesen werden kann. Die Zahl können Sie dann wie gehabt mit `nextInt()` abfragen.\n",
    "\n",
    "Als Startpunkt eine mögliche Lösung für die Aufgabe vom letzten mal."
   ]
  },
  {
   "cell_type": "code",
   "execution_count": null,
   "metadata": {
    "deletable": false,
    "exercise_id": 8
   },
   "outputs": [],
   "source": [
    "import java.util.Scanner;\n",
    "\n",
    "public class GuessMyNumber {\n",
    "    \n",
    "    public static int askForNumber() {\n",
    "        System.out.println(\"Please guess my number between 1 to 10:\");\n",
    "        Scanner userInput = new Scanner(System.in);\n",
    "        \n",
    "        int value = userInput.nextInt();\n",
    "        \n",
    "        return value;\n",
    "    }\n",
    "    \n",
    "    public static int generateNumber() {\n",
    "        double value = Math.random() * 10;\n",
    "        return ((int) Math.floor(value)) + 1;\n",
    "    }\n",
    "    \n",
    "    public static void guessMyNumber() {\n",
    "        int goal = generateNumber();\n",
    "        int guess = askForNumber();\n",
    "        String output = String.format(\"Sie haben die Zahl %d gewählt.\\nIch habe an %d gedacht.\", guess, goal);\n",
    "        System.out.println(output);\n",
    "    }\n",
    "    \n",
    "    public static void main(String[] args) {\n",
    "        guessMyNumber();\n",
    "    }\n",
    "}"
   ]
  },
  {
   "cell_type": "code",
   "execution_count": null,
   "metadata": {
    "deletable": false
   },
   "outputs": [],
   "source": [
    "GuessMyNumber.main(new String[0]);"
   ]
  }
 ],
 "metadata": {
  "celltoolbar": "Edit Metadata",
  "exercise_series": "gdp",
  "kernelspec": {
   "display_name": "Java",
   "language": "java",
   "name": "java"
  },
  "language_info": {
   "codemirror_mode": "java",
   "file_extension": ".jshell",
   "mimetype": "text/x-java-source",
   "name": "Java",
   "pygments_lexer": "java",
   "version": "11.0.10+9-LTS"
  },
  "notebook_id": 104,
  "toc": {
   "base_numbering": 1,
   "nav_menu": {},
   "number_sections": false,
   "sideBar": false,
   "skip_h1_title": false,
   "title_cell": "Table of Contents",
   "title_sidebar": "Contents",
   "toc_cell": false,
   "toc_position": {},
   "toc_section_display": false,
   "toc_window_display": false
  }
 },
 "nbformat": 4,
 "nbformat_minor": 4
}
