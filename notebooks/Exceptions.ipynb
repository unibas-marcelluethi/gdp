{
 "cells": [
  {
   "cell_type": "markdown",
   "metadata": {},
   "source": [
    "# Exceptions\n",
    "\n",
    "#### Marcel Lüthi, Departement Mathematik und Informatik, Universität Basel"
   ]
  },
  {
   "cell_type": "markdown",
   "metadata": {},
   "source": [
    "In diesem Notebook schauen wir uns Exceptions an. Wir werden sehen, am Beispiel der Datenstruktur Stack veranschaulichen, weshalb wir Exceptions brauchen. Danach zeigen wir, wie wir Exceptions behandeln können. Ausserdem werden wir den Unterschied zwischen ```RuntimeException``` und ```Exception``` veranschaulichen."
   ]
  },
  {
   "cell_type": "markdown",
   "metadata": {},
   "source": [
    "#### Motivation: Die Stack Klasse\n",
    "\n",
    "Wir haben in einem früheren Notebook bereits eine Implementation der Klasse Stack kennengelernt. Ein Manko dieser Klasse war, dass wir keine gute Möglichkeit hatten, dem Benutzer einen Fehler anzuzeigen, wenn ein Element mit ```pop```aus einem leeren Stack entfernt wurde, oder wenn der Stack voll war. Wir haben in solchen Fällen einfach eine Meldung auf die Konsole ausgegeben. Zur Erinnerung: Der Code sah wie folgt aus: "
   ]
  },
  {
   "cell_type": "code",
   "execution_count": 10,
   "metadata": {},
   "outputs": [],
   "source": [
    "class Stack { \n",
    "\n",
    "    int[] data;\n",
    "    int top;\n",
    "\n",
    "    Stack(int size) {\n",
    "        data = new int[size];\n",
    "        top = -1;\n",
    "    }\n",
    "    \n",
    "    void push(int element) {\n",
    "        if (top >= data.length - 1) {\n",
    "            System.out.println(\"-- overflow\");\n",
    "        } else {\n",
    "            top += 1;\n",
    "            data[top] = element;\n",
    "        }\n",
    "    }\n",
    "    \n",
    "    int pop() { \n",
    "        if (top <= -1) {\n",
    "            System.out.println(\" -- underflow\");\n",
    "            return Integer.MAX_VALUE;\n",
    "        }\n",
    "        \n",
    "        int value = data[top];\n",
    "        top -= 1;\n",
    "        return value;        \n",
    "    }   \n",
    "}"
   ]
  },
  {
   "cell_type": "code",
   "execution_count": 11,
   "metadata": {},
   "outputs": [
    {
     "name": "stdout",
     "output_type": "stream",
     "text": [
      "-- overflow\n",
      "-- overflow\n",
      "-- overflow\n",
      "-- overflow\n",
      "-- overflow\n"
     ]
    }
   ],
   "source": [
    "Stack s = new Stack(5);\n",
    "for (int i = 0 ; i < 10; i++) {\n",
    "    s.push(i);\n",
    "}"
   ]
  },
  {
   "cell_type": "markdown",
   "metadata": {},
   "source": [
    "Exceptions geben uns nun die Möglichkeit diesen Fehlersituationen richtig zu behandeln, indem wir eine Exception Klasse definieren und diese \"werfen\" wenn ein Fehler auftritt. "
   ]
  },
  {
   "cell_type": "markdown",
   "metadata": {},
   "source": [
    "### Definieren von Exceptions"
   ]
  },
  {
   "cell_type": "markdown",
   "metadata": {},
   "source": [
    "Als erstes definieren wir uns unsere eigene Exceptionklasse. Diese soll von der Java Klasse ```Exception``` erben. Beim kreieren des Objekts wollen wir die Fehlermeldung angeben können. "
   ]
  },
  {
   "cell_type": "code",
   "execution_count": 12,
   "metadata": {},
   "outputs": [],
   "source": [
    "class StackException extends Exception {\n",
    "    StackException(String message) {\n",
    "        super(message);\n",
    "    }\n",
    "}"
   ]
  },
  {
   "cell_type": "markdown",
   "metadata": {},
   "source": [
    "#### Miniübung\n",
    "\n",
    "* Erzeugen Sie ein Objekt mit dem Namen ```exception``` der Klasse ```StackException```\n",
    "* Schauen Sie in der [API Dokumentation](https://docs.oracle.com/en/java/javase/11/docs/api/java.base/java/lang/Exception.html) nach, welche Methoden Sie zur Verfügung haben:\n",
    "    * Was macht die Methode ```getMessage()```. Was macht ```printStackTrace()```?\n",
    "    *Tip: beachten Sie die Vererbungshierarchie*!"
   ]
  },
  {
   "cell_type": "code",
   "execution_count": null,
   "metadata": {},
   "outputs": [],
   "source": []
  },
  {
   "cell_type": "markdown",
   "metadata": {},
   "source": [
    "### Anzeigen von Fehlersituationen mit Exceptions"
   ]
  },
  {
   "cell_type": "markdown",
   "metadata": {},
   "source": [
    "Als nächstes passen wir die Klasse Stack so an, dass diese Fehler durch Exceptions anzeigt. Dazu ändern wir die Signatur der Methoden ```push``` und ```pop```. Wenn ein Fehler auftritt, erzeugen wir ein neues Exception Objekt und werfen diese Exception mit ```throw```. "
   ]
  },
  {
   "cell_type": "code",
   "execution_count": 22,
   "metadata": {},
   "outputs": [],
   "source": [
    "class Stack { \n",
    "\n",
    "    int[] data;\n",
    "    int top;\n",
    "\n",
    "    Stack(int size) {\n",
    "        data = new int[size];\n",
    "        top = -1;\n",
    "    }\n",
    "    \n",
    "    void push(int element) throws StackException {\n",
    "        if (top >= data.length - 1) {\n",
    "           throw new StackException(\"capacity of stack exceeded\");\n",
    "        } else {\n",
    "            top += 1;\n",
    "            data[top] = element;\n",
    "        }\n",
    "    }\n",
    "    \n",
    "    int pop() throws StackException { \n",
    "        if (top <= -1) {\n",
    "            throw new StackException(\"pop from empty stack\");\n",
    "        }\n",
    "        \n",
    "        int value = data[top];\n",
    "        top -= 1;\n",
    "        return value;        \n",
    "    }   \n",
    "}"
   ]
  },
  {
   "cell_type": "markdown",
   "metadata": {},
   "source": [
    "### Nutzen von Methoden die Exceptions werfen können"
   ]
  },
  {
   "cell_type": "markdown",
   "metadata": {},
   "source": [
    "Wenn wir die Klasse jetzt innerhalb einer Methode nutzen, dürfen wir die Fehlersituation nicht ignorieren. Der Compiler sagt uns, dass hier ein Fehler auftreten könnte, den wir behandeln müssen. Dies ist in folgendem Code illustriert. "
   ]
  },
  {
   "cell_type": "code",
   "execution_count": 30,
   "metadata": {},
   "outputs": [
    {
     "ename": "CompilationException",
     "evalue": "",
     "output_type": "error",
     "traceback": [
      "\u001b[1m\u001b[30m|   \u001b[1m\u001b[30m        int element = \u001b[0m\u001b[1m\u001b[30m\u001b[41mstack.pop()\u001b[0m\u001b[1m\u001b[30m;\u001b[0m",
      "\u001b[1m\u001b[31munreported exception StackException; must be caught or declared to be thrown\u001b[0m",
      "",
      "\u001b[1m\u001b[30m|   \u001b[1m\u001b[30m        \u001b[0m\u001b[1m\u001b[30m\u001b[41mstack.push(element)\u001b[0m\u001b[1m\u001b[30m;\u001b[0m",
      "\u001b[1m\u001b[31munreported exception StackException; must be caught or declared to be thrown\u001b[0m",
      ""
     ]
    }
   ],
   "source": [
    "class StackTest {\n",
    "\n",
    "    static void popAndPush(Stack stack) {\n",
    "        int element = stack.pop();\n",
    "        stack.push(element);\n",
    "    }\n",
    "}"
   ]
  },
  {
   "cell_type": "markdown",
   "metadata": {},
   "source": [
    "#### Miniübung\n",
    "\n",
    "* Schreiben Sie eine Methode ```popAndPush2```, die die gleiche Funktionalität wie```popAndPush``` hat, aber den Fehler mit einem try-catch Block behandelt. \n",
    "    * Geben Sie die in der Exception enthaltene Fehlermeldung aus\n",
    "    * Können Sie den Stacktrace (die Methodenaufrufkette) ausgeben?\n",
    "    * Angenommen Sie wollen am Ende der Methode ```popAndPush2```immer (d.h. unabhängig davon, ob ein Fehler auftritt) die Meldung ```ending popPush``` ausgeben. Wie müssen Sie die Methode abändern?\n",
    "* Experiment: Was ändert sich, wenn Sie ```StackException``` nicht von ```Exception``` sondern von ```RuntimeException``` ableiten?\n",
    "* Schreiben Sie eine Methode ```popAndPush3```, welche den Stack auf gleiche Weise nutzt, die Exception aber nicht behandelt sondern weiterpropagiert."
   ]
  },
  {
   "cell_type": "code",
   "execution_count": null,
   "metadata": {},
   "outputs": [],
   "source": []
  }
 ],
 "metadata": {
  "kernelspec": {
   "display_name": "Java",
   "language": "java",
   "name": "java"
  },
  "language_info": {
   "codemirror_mode": "java",
   "file_extension": ".jshell",
   "mimetype": "text/x-java-source",
   "name": "Java",
   "pygments_lexer": "java",
   "version": "11.0.12+7-LTS"
  },
  "toc": {
   "base_numbering": 1,
   "nav_menu": {},
   "number_sections": false,
   "sideBar": false,
   "skip_h1_title": false,
   "title_cell": "Table of Contents",
   "title_sidebar": "Contents",
   "toc_cell": false,
   "toc_position": {},
   "toc_section_display": false,
   "toc_window_display": false
  }
 },
 "nbformat": 4,
 "nbformat_minor": 2
}
