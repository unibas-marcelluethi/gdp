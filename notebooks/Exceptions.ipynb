{
 "cells": [
  {
   "cell_type": "markdown",
   "metadata": {},
   "source": [
    "# Exceptions\n",
    "\n",
    "#### Marcel Lüthi, Departement Mathematik und Informatik, Universität Basel"
   ]
  },
  {
   "cell_type": "markdown",
   "metadata": {},
   "source": [
    "In diesem Notebook schauen wir uns Exceptions an. Wir werden sehen, am Beispiel der Datenstruktur Stack veranschaulichen, weshalb wir Exceptions brauchen. Danach zeigen wir, wie wir Exceptions behandeln können. Ausserdem werden wir den Unterschied zwischen ```RuntimeException``` und ```Exception``` veranschaulichen."
   ]
  },
  {
   "cell_type": "markdown",
   "metadata": {},
   "source": [
    "#### Motivation: Die Stack Klasse\n",
    "\n",
    "Wir haben in einem früheren Notebook bereits eine Implementation der Klasse Stack kennengelernt. Ein Manko dieser Klasse war, dass wir keine gute Möglichkeit hatten, dem Benutzer einen Fehler anzuzeigen, wenn ein Element mit ```pop```aus einem leeren Stack entfernt wurde, oder wenn der Stack voll war. Wir haben in solchen Fällen einfach eine Meldung auf die Konsole ausgegeben. Zur Erinnerung: Der Code sah wie folgt aus: "
   ]
  },
  {
   "cell_type": "code",
   "execution_count": 1,
   "metadata": {},
   "outputs": [
    {
     "data": {
      "text/plain": [
       "com.twosigma.beaker.javash.bkr63f2f2ca.Stack"
      ]
     },
     "execution_count": 1,
     "metadata": {},
     "output_type": "execute_result"
    }
   ],
   "source": [
    "class Stack { \n",
    "\n",
    "    int[] data;\n",
    "    int top;\n",
    "\n",
    "    Stack(int size) {\n",
    "        data = new int[size];\n",
    "        top = -1;\n",
    "    }\n",
    "    \n",
    "    void push(int element) {\n",
    "        if (top >= data.length - 1) {\n",
    "            System.out.println(\"-- overflow\");\n",
    "        } else {\n",
    "            top += 1;\n",
    "            data[top] = element;\n",
    "        }\n",
    "    }\n",
    "    \n",
    "    int pop() { \n",
    "        if (top <= -1) {\n",
    "            System.out.println(\" -- underflow\");\n",
    "            return Integer.MAX_VALUE;\n",
    "        }\n",
    "        \n",
    "        int value = data[top];\n",
    "        top -= 1;\n",
    "        return value;        \n",
    "    }   \n",
    "}"
   ]
  },
  {
   "cell_type": "code",
   "execution_count": 3,
   "metadata": {},
   "outputs": [
    {
     "name": "stdout",
     "output_type": "stream",
     "text": [
      "-- overflow\n",
      "-- overflow\n",
      "-- overflow\n",
      "-- overflow\n",
      "-- overflow\n"
     ]
    },
    {
     "data": {
      "text/plain": [
       "null"
      ]
     },
     "execution_count": 3,
     "metadata": {},
     "output_type": "execute_result"
    }
   ],
   "source": [
    "Stack s = new Stack(5);\n",
    "for (int i = 0 ; i < 10; i++) {\n",
    "    s.push(i);\n",
    "}"
   ]
  },
  {
   "cell_type": "markdown",
   "metadata": {},
   "source": [
    "Exceptions geben uns nun die Möglichkeit diesen Fehlersituationen richtig zu behandeln, indem wir eine Exception Klasse definieren und diese \"werfen\" wenn ein Fehler auftritt. "
   ]
  },
  {
   "cell_type": "markdown",
   "metadata": {},
   "source": [
    "### Definieren von Exceptions"
   ]
  },
  {
   "cell_type": "markdown",
   "metadata": {},
   "source": [
    "Als erstes definieren wir uns unsere eigene Exceptionklasse. Diese soll von der Java Klasse ```Exception``` erben. Beim kreieren des Objekts wollen wir die Fehlermeldung angeben können. "
   ]
  },
  {
   "cell_type": "code",
   "execution_count": 29,
   "metadata": {},
   "outputs": [
    {
     "data": {
      "text/plain": [
       "com.twosigma.beaker.javash.bkr63f2f2ca.StackException"
      ]
     },
     "execution_count": 29,
     "metadata": {},
     "output_type": "execute_result"
    }
   ],
   "source": [
    "class StackException extends Exception {\n",
    "    StackException(String message) {\n",
    "        super(message);\n",
    "    }\n",
    "}"
   ]
  },
  {
   "cell_type": "markdown",
   "metadata": {},
   "source": [
    "#### Miniübung\n",
    "\n",
    "* Erzeugen Sie ein Objekt mit dem Namen ```exception``` der Klasse ```StackException```\n",
    "* Schauen Sie in der [API Dokumentation](https://docs.oracle.com/en/java/javase/11/docs/api/java.base/java/lang/Exception.html) nach, welche Methoden Sie zur Verfügung haben:\n",
    "    * Was macht die Methode ```getMessage()```. Was macht ```printStackTrace()```?\n",
    "*Tip: beachten Sie die Vererbungshierarchie*!"
   ]
  },
  {
   "cell_type": "code",
   "execution_count": 30,
   "metadata": {},
   "outputs": [
    {
     "name": "stdout",
     "output_type": "stream",
     "text": [
      "a message\n"
     ]
    },
    {
     "name": "stderr",
     "output_type": "stream",
     "text": [
      "com.twosigma.beaker.javash.bkr63f2f2ca.StackException: a message\n",
      "\tat com.twosigma.beaker.javash.bkr63f2f2ca.BeakerWrapperClass1261714175Id7136c0fd75984ce8a429f207a168a031.beakerRun(BeakerWrapperClass1261714175Id7136c0fd75984ce8a429f207a168a031.java:34)\n",
      "\tat sun.reflect.NativeMethodAccessorImpl.invoke0(Native Method)\n",
      "\tat sun.reflect.NativeMethodAccessorImpl.invoke(NativeMethodAccessorImpl.java:62)\n",
      "\tat sun.reflect.DelegatingMethodAccessorImpl.invoke(DelegatingMethodAccessorImpl.java:43)\n",
      "\tat java.lang.reflect.Method.invoke(Method.java:498)\n",
      "\tat com.twosigma.beakerx.javash.evaluator.JavaCodeRunner.compileAndRunCode(JavaCodeRunner.java:121)\n",
      "\tat com.twosigma.beakerx.javash.evaluator.JavaCodeRunner.compileCode(JavaCodeRunner.java:99)\n",
      "\tat com.twosigma.beakerx.javash.evaluator.JavaCodeRunner.runCode(JavaCodeRunner.java:84)\n",
      "\tat com.twosigma.beakerx.javash.evaluator.JavaCodeRunner.call(JavaCodeRunner.java:58)\n",
      "\tat com.twosigma.beakerx.javash.evaluator.JavaCodeRunner.call(JavaCodeRunner.java:39)\n",
      "\tat java.util.concurrent.FutureTask.run(FutureTask.java:266)\n",
      "\tat java.lang.Thread.run(Thread.java:745)\n"
     ]
    },
    {
     "data": {
      "text/plain": [
       "null"
      ]
     },
     "execution_count": 30,
     "metadata": {},
     "output_type": "execute_result"
    }
   ],
   "source": [
    "StackException exception = new StackException(\"a message\");\n",
    "System.out.println(exception.getMessage());\n",
    "exception.printStackTrace();"
   ]
  },
  {
   "cell_type": "markdown",
   "metadata": {},
   "source": [
    "### Anzeigen von Fehlersituationen mit Exceptions"
   ]
  },
  {
   "cell_type": "markdown",
   "metadata": {},
   "source": [
    "Als nächstes passen wir die Klasse Stack so an, dass diese Fehler durch Exceptions anzeigt. Dazu ändern wir die Signatur der Methoden ```push``` und ```pop```. Wenn ein Fehler auftritt, erzeugen wir ein neues Exception Objekt und werfen diese Exception mit ```throw```. "
   ]
  },
  {
   "cell_type": "code",
   "execution_count": 10,
   "metadata": {},
   "outputs": [
    {
     "data": {
      "text/plain": [
       "com.twosigma.beaker.javash.bkr63f2f2ca.Stack"
      ]
     },
     "execution_count": 10,
     "metadata": {},
     "output_type": "execute_result"
    }
   ],
   "source": [
    "class Stack { \n",
    "\n",
    "    int[] data;\n",
    "    int top;\n",
    "\n",
    "    Stack(int size) {\n",
    "        data = new int[size];\n",
    "        top = -1;\n",
    "    }\n",
    "    \n",
    "    void push(int element) throws StackException {\n",
    "        if (top >= data.length - 1) {\n",
    "           throw new StackException(\"capacity of stack exceeded\");\n",
    "        } else {\n",
    "            top += 1;\n",
    "            data[top] = element;\n",
    "        }\n",
    "    }\n",
    "    \n",
    "    int pop() throws StackException { \n",
    "        if (top <= -1) {\n",
    "            throw new StackException(\"pop from empty stack\");\n",
    "        }\n",
    "        \n",
    "        int value = data[top];\n",
    "        top -= 1;\n",
    "        return value;        \n",
    "    }   \n",
    "}"
   ]
  },
  {
   "cell_type": "markdown",
   "metadata": {},
   "source": [
    "### Nutzen von Methoden die Exceptions werfen können"
   ]
  },
  {
   "cell_type": "markdown",
   "metadata": {},
   "source": [
    "Wenn wir die Klasse jetzt innerhalb einer Methode nutzen, dürfen wir die Fehlersituation nicht ignorieren. Der Compiler sagt uns, dass hier ein Fehler auftreten könnte, den wir behandeln müssen. Dies ist in folgendem Code illustriert. "
   ]
  },
  {
   "cell_type": "code",
   "execution_count": 35,
   "metadata": {},
   "outputs": [
    {
     "data": {
      "text/plain": [
       "com.twosigma.beaker.javash.bkr63f2f2ca.StackTest"
      ]
     },
     "execution_count": 35,
     "metadata": {},
     "output_type": "execute_result"
    }
   ],
   "source": [
    "class StackTest {\n",
    "    \n",
    "    /*\n",
    "    static void popAndPush3(Stack stack) throws StackException {\n",
    "        int element = stack.pop();\n",
    "        stack.push(element);\n",
    "    }*/\n",
    "        \n",
    "    \n",
    "    \n",
    "    static void popAndPush2(Stack stack) {\n",
    "        try {\n",
    "            int element = stack.pop();\n",
    "            stack.push(element);\n",
    "        } catch (StackException e) {\n",
    "            System.out.println(\"Stack Fehler \" + e.getMessage());\n",
    "        } catch (Exception e) {\n",
    "            System.out.println(\"Fehler \" + e.getMessage());\n",
    "        } \n",
    "        finally {\n",
    "            System.out.println(\"in finally\");\n",
    "        }\n",
    "    }\n",
    "    \n",
    "}"
   ]
  },
  {
   "cell_type": "code",
   "execution_count": 33,
   "metadata": {},
   "outputs": [
    {
     "ename": "ERROR",
     "evalue": " com.twosigma.beaker.javash.bkr63f2f2ca.StackException",
     "output_type": "error",
     "traceback": [
      "\u001b[0;31mERROR: com.twosigma.beaker.javash.bkr63f2f2ca.StackException: pop from empty stack\u001b[0;0m"
     ]
    }
   ],
   "source": [
    "Stack stack = new Stack(5);\n",
    "StackTest.popAndPush3(stack);"
   ]
  },
  {
   "cell_type": "markdown",
   "metadata": {},
   "source": [
    "#### Miniübung\n",
    "\n",
    "* Schreiben Sie eine Methode ```popAndPush2```, die die gleiche Funktionalität wie```popAndPush``` hat, aber den Fehler mit einem try-catch Block behandelt. \n",
    "    * Geben Sie die in der Exception enthaltene Fehlermeldung aus\n",
    "    * Können Sie den Stacktrace (die Methodenaufrufkette) ausgeben?\n",
    "    * Angenommen Sie wollen am Ende der Methode ```popAndPush2```immer (d.h. unabhängig davon, ob ein Fehler auftritt) die Meldung ```ending popPush``` ausgeben. Wie müssen Sie die Methode abändern?\n",
    "* Experiment: Was ändert sich, wenn Sie ```StackException``` nicht von ```Exception``` sondern von ```RuntimeException``` ableiten?\n",
    "* Schreiben Sie eine Methode ```popAndPush3```, welche den Stack auf gleiche Weise nutzt, die Exception aber nicht behandelt sonder weiterpropagiert."
   ]
  },
  {
   "cell_type": "code",
   "execution_count": null,
   "metadata": {},
   "outputs": [],
   "source": []
  }
 ],
 "metadata": {
  "kernelspec": {
   "display_name": "Java",
   "language": "java",
   "name": "java"
  },
  "language_info": {
   "codemirror_mode": "text/x-java",
   "file_extension": ".java",
   "mimetype": "",
   "name": "Java",
   "nbconverter_exporter": "",
   "version": "1.8.0_121"
  },
  "toc": {
   "base_numbering": 1,
   "nav_menu": {},
   "number_sections": false,
   "sideBar": false,
   "skip_h1_title": false,
   "title_cell": "Table of Contents",
   "title_sidebar": "Contents",
   "toc_cell": false,
   "toc_position": {},
   "toc_section_display": false,
   "toc_window_display": false
  }
 },
 "nbformat": 4,
 "nbformat_minor": 2
}
