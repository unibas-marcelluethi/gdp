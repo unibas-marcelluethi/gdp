{
 "cells": [
  {
   "cell_type": "markdown",
   "id": "a6876c80",
   "metadata": {},
   "source": [
    "# Fallstudie 1: Java als Taschenrechner\n",
    "\n",
    "#### Marcel Lüthi, Departement Mathematik und Informatik, Universität Basel"
   ]
  },
  {
   "cell_type": "markdown",
   "id": "4f3d4773",
   "metadata": {},
   "source": [
    "In dieser Fallstudie zeigen wir, wie wir Java als Taschenrechner nutzen können. Dabei werden wir sehen, dass Java weit mehr kann als ein herkömmlicher Taschenrechner. Wir können nämlich unsere Berechnungen so schreiben, dass diese übersichtlich und wiederverwendbar werden."
   ]
  },
  {
   "cell_type": "markdown",
   "id": "0a999df0",
   "metadata": {},
   "source": [
    "\n",
    "#### Thema: Der klassische Taschenrechner\n",
    "\n",
    "Ihre Aufgabe ist es, die Fläche eines Kreissektors mit Mittelpunkswinkel 90 Grad für den Radius 5 zu berechnen und das Resultat auszugeben. Die einfachste Variante, ist die bekannte Formel für die Kreisfläche zu nutzen und dann den entsprechenden Anteil zu nehmen. Folgende Berechnung bringt uns auf das richtige Resultat:"
   ]
  },
  {
   "cell_type": "code",
   "execution_count": 4,
   "id": "d16a3c2f",
   "metadata": {},
   "outputs": [
    {
     "name": "stdout",
     "output_type": "stream",
     "text": [
      "19.63125\r\n"
     ]
    }
   ],
   "source": [
    "class Calculator {\n",
    "    public static void main(String[] args) {\n",
    "        double a = 5 * 5 * 3.141 * 90 / 360;\n",
    "        System.out.println(a);\n",
    "    }\n",
    "}\n",
    "Calculator.main(new String[0]);"
   ]
  },
  {
   "cell_type": "markdown",
   "id": "3d399435",
   "metadata": {},
   "source": [
    "##### Miniübung:\n",
    "\n",
    "* Identifizieren Sie alle Ausdrücke und alle Anweisungen\n",
    "* Können Sie das Programm auf nur einer Zeile schreiben?\n",
    "* Was könnten Sie an diesem Programm verbessern?"
   ]
  },
  {
   "cell_type": "markdown",
   "id": "a94f9a0c",
   "metadata": {},
   "source": [
    "### Variation 1: Die Formel\n",
    "\n",
    "In obiger Schreibweise ist die Formel kaum mehr im Programm ersichtlich. Dies macht das Programmm für andere schwer nachvollziehbar. Auch müssen wir sicherstellen, dass wir die Variablen konsistent ändern, wenn wir die Berechnung für einen anderen Mittelpunktswinkel oder Radius berechnen wollen. In Java können wir aber mit Variablen arbeiten. Damit sieht es gleich viel besser aus."
   ]
  },
  {
   "cell_type": "code",
   "execution_count": 4,
   "id": "44449530",
   "metadata": {},
   "outputs": [
    {
     "name": "stdout",
     "output_type": "stream",
     "text": [
      "19.63125\r\n"
     ]
    }
   ],
   "source": [
    "class Calculator {\n",
    "    \n",
    "    public static void main(String[] args) {\n",
    "        double r = 5;\n",
    "        int w = 90;\n",
    "        double pi = 3.141;\n",
    "\n",
    "        System.out.println(r * r * pi * w / 360);\n",
    "    }\n",
    "}\n",
    "Calculator.main(new String[0]);"
   ]
  },
  {
   "cell_type": "markdown",
   "id": "35517c2c",
   "metadata": {},
   "source": [
    "#### Miniübung:\n",
    "\n",
    "* Was ist der Typ der Berechnung `r * r * pi * w / 360`? Wie können Sie das überprüfen?\n",
    "* Was ist das Resultat von der Berechnung `w / 360`?\n",
    "* Gelten in Java die Punkt vor Strich Regeln? Experimentieren Sie."
   ]
  },
  {
   "cell_type": "markdown",
   "id": "e1fff499",
   "metadata": {},
   "source": [
    "\n",
    "### Variation 2: Ein leserliches Programm\n",
    "\n",
    "In Java müssen wir nicht nur unleserliche Variablen mit 1 Buchstaben schreiben, sondern können auch Wörter als Variablennamen benutzen. Dies macht das Programm gleich lesbarer. Zudem können wir Kommentare nutzen um Dinge, die dem Leser noch mitgeteilt werden sollen zu dokumentieren. Es hilft auch, Zwischenresultate zu speichern und explizit zu benennen."
   ]
  },
  {
   "cell_type": "code",
   "execution_count": 1,
   "id": "2d7f6f36",
   "metadata": {},
   "outputs": [
    {
     "name": "stdout",
     "output_type": "stream",
     "text": [
      "Die Fläche des Sektors ist: 0.0\r\n"
     ]
    }
   ],
   "source": [
    "class Calculator {\n",
    "    public static void main(String[] args) {\n",
    "        double radius = 5;\n",
    "        int mittelpunktsWinkel = 90;   // in Grad\n",
    "        double pi = 3.141;\n",
    "        double kreisflaeche = radius * radius * pi;\n",
    "\n",
    "        double sektoranteil = mittelpunktsWinkel / 360;\n",
    "\n",
    "        double sektorflaeche = kreisflaeche * sektoranteil;\n",
    "\n",
    "        System.out.println(\"Die Fläche des Sektors ist: \"+ sektorflaeche);\n",
    "    }\n",
    "}\n",
    "Calculator.main(new String[0]);"
   ]
  },
  {
   "cell_type": "markdown",
   "id": "ca05da1e",
   "metadata": {},
   "source": [
    "#### Miniübungen\n",
    "\n",
    "* Warum wird das Resultat hier 0.0? Finden Sie den Fehler. \n",
    "* Was sind die Vor- und Nachteile der langen schreibweise? Könnten wir dasselbe auch mit Kommentaren erreichen? Was wäre der Nachteil?\n"
   ]
  },
  {
   "cell_type": "markdown",
   "id": "b4655cb9",
   "metadata": {},
   "source": [
    "### Variation 3: Der Modulo-Operator"
   ]
  },
  {
   "cell_type": "markdown",
   "id": "ebd303b3",
   "metadata": {},
   "source": [
    "Grundsätzlich sollten wir auch mit Winkeln die grösser als 360 Grad sind rechnen können. Mit unserer naiven Formel funktioniert dies aber nicht (probieren Sie es auch!). Wir könnten aber das Programm so umschreiben, dass es mit beliebigen Winkeln umgehen kann. Dazu benötigen wir den Modulo-Operator `%`, welcher uns den Rest einer Division berechnet, wie im folgenden Beispiel illustriert ist:"
   ]
  },
  {
   "cell_type": "code",
   "execution_count": 7,
   "id": "d6addbb9",
   "metadata": {},
   "outputs": [
    {
     "name": "stdout",
     "output_type": "stream",
     "text": [
      "2\r\n"
     ]
    }
   ],
   "source": [
    "class Calculator {\n",
    "    public static void main(String[] args) {\n",
    "        System.out.println(5 % 3);        \n",
    "    }\n",
    "}\n",
    "Calculator.main(new String[0]);"
   ]
  },
  {
   "cell_type": "markdown",
   "id": "b59d7de3",
   "metadata": {},
   "source": [
    "#### Miniübungen\n",
    "\n",
    "* Was macht der Modulo-Operator für negative Zahlen?\n",
    "* Passen Sie das Programm so an, dass es auch für Winkel die grösser sind als 360 Grad funktioniert. "
   ]
  },
  {
   "cell_type": "markdown",
   "id": "e57e3ac0",
   "metadata": {},
   "source": [
    "### Variation 4: Nutzen der Mathematikfunktionen von Java"
   ]
  },
  {
   "cell_type": "code",
   "execution_count": 2,
   "id": "74be5583",
   "metadata": {},
   "outputs": [
    {
     "name": "stdout",
     "output_type": "stream",
     "text": [
      "Die Fläche des Segments ist: 19.634954084936208\r\n"
     ]
    }
   ],
   "source": [
    "class Calculator {\n",
    "\n",
    "    public static void main(String[] args) {\n",
    "        double radius = 5;\n",
    "        int mittelpunkts_winkel = 90;   // In Grad\n",
    "        double kreisflaeche = Math.pow(radius, 2) * Math.PI;\n",
    "\n",
    "        double sektoranteil = mittelpunkts_winkel / 360.0;\n",
    "\n",
    "        double sektorflaeche = kreisflaeche * sektoranteil;\n",
    "\n",
    "        System.out.println(\"Die Fläche des Segments ist: \" +sektorflaeche);\n",
    "    }\n",
    "}\n",
    "Calculator.main(new String[0]);"
   ]
  },
  {
   "cell_type": "markdown",
   "id": "7cc3f4ee",
   "metadata": {},
   "source": [
    "#### Miniübungen:\n",
    "\n",
    "* Welche anderen Funktionen finden Sie im Modul `Math`? Sie finden dies heraus indem Sie `Math.` schreiben und dann die `tab`-Taste drücken. \n",
    "* Finden Sie eine Funktion um den Absolutbetrag einer Zahl zu berechnen? Nutzen Sie diesen um das Programm so umzuschreiben, dass es auch für negative Zahlen funktioniert. "
   ]
  },
  {
   "cell_type": "code",
   "execution_count": null,
   "id": "2152495f",
   "metadata": {},
   "outputs": [],
   "source": []
  }
 ],
 "metadata": {
  "kernelspec": {
   "display_name": "Java",
   "language": "java",
   "name": "java"
  },
  "language_info": {
   "codemirror_mode": "java",
   "file_extension": ".jshell",
   "mimetype": "text/x-java-source",
   "name": "Java",
   "pygments_lexer": "java",
   "version": "18.0.1+10"
  }
 },
 "nbformat": 4,
 "nbformat_minor": 5
}
