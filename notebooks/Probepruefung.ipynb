{
 "cells": [
  {
   "cell_type": "markdown",
   "id": "882cb365",
   "metadata": {},
   "source": [
    "# Probeprüfung. Zeit: 45 Minuten"
   ]
  },
  {
   "cell_type": "markdown",
   "id": "4711f064",
   "metadata": {},
   "source": [
    "*Schreiben Sie in dieses Feld Ihren Vornamen, Namen und Matrikelnummer.*"
   ]
  },
  {
   "cell_type": "markdown",
   "id": "c8835b00",
   "metadata": {},
   "source": [
    "## Theorie"
   ]
  },
  {
   "cell_type": "markdown",
   "id": "865dfba8",
   "metadata": {},
   "source": [
    "### Aufgabe 1: Zahlen (2 Punkte)\n",
    "\n",
    "Welche der folgenden Aussgen sind richtig?\n",
    "\n",
    "1. Der Datentyp float kann weniger Zahlen repräsentieren als der Datentyp double.\n",
    "2. Wenn wir möglichst grosse Zahlen speichern wollen, müssen wir den Datentyp ```int``` nutzen. \n",
    "3. Im Datentyp ```char``` können nur Zeichen, aber keine Zahlen gespeichert werden. \n",
    "4. Der Datentyp ```short``` kann nur positive Zahlen repräsentieren. \n",
    "\n",
    "Löschen Sie die Nummern der nicht zutreffenden Behauptungen im folgenden Java Array."
   ]
  },
  {
   "cell_type": "markdown",
   "id": "b98527aa",
   "metadata": {
    "deletable": false,
    "exercise_id": 1
   },
   "source": [
    "{1, 2, 3, 4}"
   ]
  },
  {
   "cell_type": "markdown",
   "id": "87cd4239",
   "metadata": {},
   "source": [
    "### Aufgabe 2: Typen (2 Punkte)\n",
    "\n",
    "Welche der folgenden Aussgen sind richtig?\n",
    "\n",
    "1. Bei der Variablendeklaration muss immer der Datentyp angegeben werden. \n",
    "2. Der Datentyp einer Variable kann zur Laufzeit geändern werden. \n",
    "3. Primitive Datentypen speichern nicht die Daten selbst, sondern nur eine Referenz auf die Daten\n",
    "4. Durch die Definition einer Klasse wird ein neuer Datentyp definiert. \n",
    "\n",
    "Löschen Sie die Nummern der nicht zutreffenden Behauptungen im folgenden Java Array:"
   ]
  },
  {
   "cell_type": "markdown",
   "id": "84994007",
   "metadata": {
    "deletable": false,
    "exercise_id": 2
   },
   "source": [
    "{1, 2, 3, 4}"
   ]
  },
  {
   "cell_type": "markdown",
   "id": "9bc88797",
   "metadata": {},
   "source": [
    "## Programmieraufgaben"
   ]
  },
  {
   "cell_type": "markdown",
   "id": "8b01d7cf",
   "metadata": {},
   "source": [
    "### Aufgabe 3: Funktionen (2 Punkte)\n",
    "\n",
    "Definieren Sie eine Funktion (als statische Methode) mit dem Namen ```isSquare``` welche eine ganze Zahl entgegennimmt und den Wert ```true``` zurückgibt falls es sich bei der Zahl um eine Quadratzahl handelt. Ansonsten soll ```false``` zurückgegeben werden. "
   ]
  },
  {
   "cell_type": "code",
   "execution_count": 8,
   "id": "192144c5",
   "metadata": {
    "deletable": false,
    "exercise_id": 3
   },
   "outputs": [],
   "source": [
    "class Solution {\n",
    "    // Ihe Lösung\n",
    "}"
   ]
  },
  {
   "cell_type": "markdown",
   "id": "ac73402a",
   "metadata": {},
   "source": [
    "### Aufgabe 4: Boolsche Ausdrücke (2 Punkte)"
   ]
  },
  {
   "cell_type": "markdown",
   "id": "9e7a7f5e",
   "metadata": {},
   "source": [
    "Schreiben Sie eine Funktion mit dem Namen ```isInGreyBox``` welche eine x und y Koordinate entgegennimmt und ```True``` zurückgibt, wenn der Punkt $(x, y)$ in der im folgenden Bild gezeigten grauen Region liegt. Ansonsten soll ```False``` zurückgegeben werden. \n",
    "\n",
    "<img src=\"./images/grey-box.png\" width=400/>"
   ]
  },
  {
   "cell_type": "code",
   "execution_count": 5,
   "id": "7f2537a1",
   "metadata": {
    "deletable": false,
    "exercise_id": 4
   },
   "outputs": [],
   "source": [
    "class Solution {\n",
    "    // Ihre Lösung    \n",
    "}"
   ]
  },
  {
   "cell_type": "markdown",
   "id": "415e9981",
   "metadata": {},
   "source": [
    "### Aufgabe 5: Arrays (3 Punkte)\n",
    "\n",
    "Schreiben Sie eine Funktion mit dem Namen ```partialSums```. Diese soll ein Array mit Zahlen als Argument entgegennehmen und ein neues Array zurückgeben. Im neuen Array stehen jeweils die Teilsummen, d.h. im $i$-ten Element des Arrays steht die Summe der Elemente an den Positionen $0$ - $i$. \n",
    "Zum Beispiel würde der Aufruf ```partialSums({1,2,3,4})``` das Array ```{1, 3, 6, 10}``` zurückgeben. "
   ]
  },
  {
   "cell_type": "code",
   "execution_count": 6,
   "id": "a7a83fa4",
   "metadata": {
    "deletable": false,
    "exercise_id": 5
   },
   "outputs": [],
   "source": [
    "class Solution {\n",
    "    // Ihre Lösung\n",
    "}"
   ]
  },
  {
   "cell_type": "markdown",
   "id": "7602c5a9",
   "metadata": {},
   "source": [
    "### Aufgabe 6: Klassen (6 Punkte)\n",
    "\n",
    "Definieren Sie eine Klasse ```ShoppingCart``` sowie eine Klasse ```Article```. Die Klasse ```Article``` soll zwei Attribute aufweisen: ```name```, und ```price```. Sie sollen einen neuen Artikel mit folgendem Aufruf erzeugen können: ```Article(\"cheese\", 1.70)```. Ein Objekt der Klasse ```ShoppingCart``` soll ohne Argumente ereugt werden können. \n",
    "\n",
    "Die Klasse ```ShoppingCart``` soll eine Methode ```addArticle``` und eine Methode ```totalPrice``` aufweisen. Die Methode ```addArticle``` fügt einen neuen Artikel hinzu. Die Methode ```totalPrice``` gibt den Preis aller in der Klasse gespeicherten Artikel zurück. \n"
   ]
  },
  {
   "cell_type": "code",
   "execution_count": 7,
   "id": "f845a403",
   "metadata": {
    "deletable": false,
    "exercise_id": 6
   },
   "outputs": [],
   "source": [
    "// Ihre Lösung"
   ]
  }
 ],
 "metadata": {
  "celltoolbar": "Edit Metadata",
  "kernelspec": {
   "display_name": "Java",
   "language": "java",
   "name": "java"
  },
  "language_info": {
   "codemirror_mode": "java",
   "file_extension": ".jshell",
   "mimetype": "text/x-java-source",
   "name": "Java",
   "pygments_lexer": "java",
   "version": "11.0.13+8-LTS"
  },
  "notebook_id": 20,
  "toc": {
   "base_numbering": 1,
   "nav_menu": {},
   "number_sections": false,
   "sideBar": false,
   "skip_h1_title": false,
   "title_cell": "Table of Contents",
   "title_sidebar": "Contents",
   "toc_cell": false,
   "toc_position": {},
   "toc_section_display": false,
   "toc_window_display": false
  }
 },
 "nbformat": 4,
 "nbformat_minor": 5
}
