{
 "cells": [
  {
   "cell_type": "markdown",
   "metadata": {},
   "source": [
    "# Rekursion"
   ]
  },
  {
   "cell_type": "markdown",
   "metadata": {},
   "source": [
    "#### Setup der Bibliotheken in Jupyter\n",
    "\n",
    "Turtle Grafik gehört nicht zum Standardumfang der Java Programmiersprache. Die Funktionalität die wir hier nutzen wird von einer externen *Bibliothek* zur Verfügung gestellt. Java und die Jupyter-Notebook Umgebung wissen zunächst mal nichts von dieser Bibliothek. Damit wir die Befehle in dieser Bibliothek verwenden können, müssen wir Sie zuerst im Jupyter-Notebook zur Verfügung stellen. Dies geschieht mit den folgenden Befehlen:"
   ]
  },
  {
   "cell_type": "code",
   "execution_count": null,
   "metadata": {},
   "outputs": [],
   "source": [
    "%classpath config resolver bintray https://dl.bintray.com/egp/maven\n",
    "%classpath add mvn ch.unibas.informatik:jturtle:0.6\n",
    "\n",
    "%import static ch.unibas.informatik.jturtle.TurtleCommands.*"
   ]
  },
  {
   "cell_type": "markdown",
   "metadata": {},
   "source": [
    "## Rekursion"
   ]
  },
  {
   "cell_type": "markdown",
   "metadata": {},
   "source": [
    "Wir haben bereits gesehen, dass wir innerhalb einer Methode eine andere Methode aufgerufen können. In diesem Notebook wollen wir den Fall betrachten, wo eine Methode sich selbst wieder aufruft. Dies nennt man dann Rekursion. Rekursion kennt man bereits aus der Mathematik. So ist zum Beispiel die Fakultätsfunktion rekursiv definiert als:\n",
    "\n",
    "$\n",
    "0! = 1 \\\\\n",
    "n! = n \\cdot (n - 1)!\n",
    "$\n",
    "\n",
    "\n",
    "Wir können dies genau analog der mathematischen Definition in Java umsetzen:\n"
   ]
  },
  {
   "cell_type": "code",
   "execution_count": null,
   "metadata": {},
   "outputs": [],
   "source": [
    "class RecComputations {\n",
    "    static int factorial(int n) {\n",
    "        if (n == 0) {\n",
    "            return 1;\n",
    "        } else { \n",
    "            return n * factorial(n - 1);\n",
    "        }\n",
    "    }\n",
    "}"
   ]
  },
  {
   "cell_type": "code",
   "execution_count": null,
   "metadata": {},
   "outputs": [],
   "source": [
    "System.out.println(RecComputations.factorial(5));"
   ]
  },
  {
   "cell_type": "markdown",
   "metadata": {},
   "source": [
    "#### Miniübung:\n",
    "\n",
    "* Fügen Sie mit ```System.out.println``` Ausgaben hinzu um zu verstehen was diese Methode genau macht\n"
   ]
  },
  {
   "cell_type": "markdown",
   "metadata": {},
   "source": [
    "Ein weiteres Beispiel von rekursiv definierten Folgen ist die Fibonaccifolge:\n",
    "\n",
    "$\n",
    "f_0 = 0 \\\\\n",
    "f_1 = 1 \\\\\n",
    "f_n = f_{n -1} + f_{n - 2}\n",
    "$\n",
    "\n",
    "Auch die Implementation dieser Funktion folgt genau der Struktur der mathematischen Definition. Der Unterschied ist in diesem Fall nur, dass \n",
    "wir hier zwei Fälle haben, in den wir die Rekursion abbrechen.\n",
    "\n",
    "#### Miniübung:\n",
    "\n",
    "* Implementieren Sie die Finbonaccifolge\n",
    "* Geben Sie die ersten 20 Elemente der Fibonaccifolge aus.\n"
   ]
  },
  {
   "cell_type": "code",
   "execution_count": null,
   "metadata": {},
   "outputs": [],
   "source": []
  },
  {
   "cell_type": "markdown",
   "metadata": {},
   "source": [
    "Rekursion lässt sich auch bestens mit Turtlegrafik veranschaulichen. Ein berühmtes Beispiel einer Rekursiven Funktion ist das Sierpinski Dreieck. Dabei werden in jedem Dreieck wieder 3 kleinere Dreiecke gezeichnet. Wir brechen ab, wenn wir eine bestimmte Rekursionstiefe erreicht haben. \n",
    "\n",
    "Beachten Sie dass wir hier zusätzlich auch das turtle als Parameter mitübergeben müssen. Wir werden später sehen, wie wir mit solchen Komplexeren Argumenten arbeiten. Im Moment reicht für Sie zu wissen, dass das turtle durch den Parameter ```turtle``` welcher vom Typ ```Turtle``` ist übergeben wird. "
   ]
  },
  {
   "cell_type": "code",
   "execution_count": null,
   "metadata": {},
   "outputs": [],
   "source": [
    "class Drawing {\n",
    "    static void drawSierpinski(double length, int depth) {\n",
    "        if (depth==0){\n",
    "            for (int i = 0; i < 3; i++) {\n",
    "                forward(length);\n",
    "                turnLeft(120);\n",
    "            }\n",
    "        }\n",
    "        else {\n",
    "            drawSierpinski(length/2.0 , depth-1);\n",
    "            forward(length/2);\n",
    "            drawSierpinski(length/2.0,depth-1);\n",
    "            backward(length/2);\n",
    "            turnLeft(60);\n",
    "            forward(length/2);\n",
    "            turnRight(60);\n",
    "            drawSierpinski(length/2.0,depth-1);\n",
    "            turnLeft(60);\n",
    "            backward(length/2);\n",
    "            turnRight(60);\n",
    "        }\n",
    "    }\n",
    "}"
   ]
  },
  {
   "cell_type": "code",
   "execution_count": null,
   "metadata": {},
   "outputs": [],
   "source": [
    "home();\n",
    "clear();\n",
    "penUp();\n",
    "goTo(-30, -75);\n",
    "turnRight(90);\n",
    "penDown();\n",
    "Drawing.drawSierpinski(130, 10);\n",
    "display(drawing());"
   ]
  },
  {
   "cell_type": "markdown",
   "metadata": {},
   "source": [
    "#### Miniübung:\n",
    "\n",
    "* Schauen Sie wie die Zeichnung aufgebaut ist indem Sie die Methode für depth 0, 1, 2, ... ausführen."
   ]
  },
  {
   "cell_type": "markdown",
   "metadata": {},
   "source": [
    "### Drachenkurve"
   ]
  },
  {
   "cell_type": "markdown",
   "metadata": {},
   "source": [
    "Methoden können nicht nur sich selbst, sondern auch andere Methoden aufrufen, die wiederum die erste Funktion aufruft. Ein Beispiel von einem solchen Rekurssionsschema wird beim Zeichnen einer Drachenkurve benutzt. Hier ruft die Methode ```f1``` die Methode ```f2``` auf, die wiederum die Methode ```f1``` aufruft. "
   ]
  },
  {
   "cell_type": "code",
   "execution_count": null,
   "metadata": {},
   "outputs": [],
   "source": [
    "class DragonCurve {\n",
    "  \n",
    "    static void f1(int depth, double length) {\n",
    "        if (depth <= 0) {\n",
    "            forward(length);\n",
    "            return;\n",
    "        } else {\n",
    "            f1(depth - 1, length * Math.sqrt(0.5));\n",
    "            turnRight(90);  \n",
    "            f2(depth - 1, length * Math.sqrt(0.5));\n",
    "        }\n",
    "    }\n",
    "    static void f2(int depth, double length) {\n",
    "        if (depth <= 0) {\n",
    "            forward(length);\n",
    "            return;\n",
    "        } else {\n",
    "            f1(depth - 1, length * Math.sqrt(0.5));\n",
    "            turnLeft(90);  \n",
    "            f2(depth -1, length * Math.sqrt(0.5));\n",
    "        }\n",
    "    }\n",
    "}"
   ]
  },
  {
   "cell_type": "code",
   "execution_count": null,
   "metadata": {},
   "outputs": [],
   "source": [
    "home();\n",
    "clear();\n",
    "penUp();\n",
    "goTo(0, 0);\n",
    "turnRight(90);\n",
    "penDown();\n",
    "DragonCurve.f1(15, 100);\n",
    "display(drawing());"
   ]
  },
  {
   "cell_type": "markdown",
   "metadata": {},
   "source": [
    "### Miniübung\n",
    "\n",
    "* Setzen Sie die Stiftfarbe unterschiedlich in beiden Methoden um herauszufinden, was von welcher Methode gezeichnet wird. \n",
    "    * Erkennen Sie ein Muster?"
   ]
  },
  {
   "cell_type": "code",
   "execution_count": null,
   "metadata": {},
   "outputs": [],
   "source": []
  }
 ],
 "metadata": {
  "kernelspec": {
   "display_name": "Java",
   "language": "java",
   "name": "java"
  },
  "language_info": {
   "codemirror_mode": "text/x-java",
   "file_extension": ".java",
   "mimetype": "",
   "name": "Java",
   "nbconverter_exporter": "",
   "version": "1.8.0_121"
  },
  "toc": {
   "base_numbering": 1,
   "nav_menu": {},
   "number_sections": false,
   "sideBar": false,
   "skip_h1_title": false,
   "title_cell": "Table of Contents",
   "title_sidebar": "Contents",
   "toc_cell": false,
   "toc_position": {},
   "toc_section_display": false,
   "toc_window_display": false
  }
 },
 "nbformat": 4,
 "nbformat_minor": 2
}
