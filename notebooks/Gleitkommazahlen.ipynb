{
 "cells": [
  {
   "cell_type": "markdown",
   "metadata": {
    "slideshow": {
     "slide_type": "slide"
    }
   },
   "source": [
    "# Gleitkommazahlen\n",
    "\n",
    "#### Marcel Lüthi, Departement Mathematik und Informatik, Universität Basel"
   ]
  },
  {
   "cell_type": "markdown",
   "metadata": {},
   "source": [
    "Wir haben gesehen, dass wir neben Ganzzahlen auch Gleitkommazahlen definieren können. In Java stehen uns dafür die Datentypen ```float``` und ```double``` zur Verfügung. \n",
    "\n",
    "```java\n",
    "float x;   // 32 Bit gross\n",
    "double z;  // 64 Bit gross\n",
    "``` \n",
    "\n",
    "Um Werte vom Typ ```double``` und ```float``` zu definieren existiert in Java eine sehr flexible Syntax. Sie finden hier einige Beispiele von Gleitkommakonstanten in Java:\n",
    "\n",
    "```java\n",
    "3.14  \n",
    "3.14f \n",
    "3.14e0  \n",
    "0.314e1 \n",
    "31.4e-1 \n",
    ".23      \n",
    "1.e2f    \n",
    "```"
   ]
  },
  {
   "cell_type": "markdown",
   "metadata": {
    "slideshow": {
     "slide_type": "slide"
    }
   },
   "source": [
    "#### Miniübung\n",
    "\n",
    "* Probieren Sie die verschiedenen Schreibweisen aus. Weisen Sie diese jeweils einer ```double``` und einer ```float``` Variablen zu.\n",
    "* Welche Ausdrücke ergeben einen Wert vom Typ double, welche vom Typ float?\n",
    "    * Was ist die Regel?\n",
    "* Können Sie einen Wert vom Typ ```double``` einer Variable vom Typ ```float``` zuweisen? Und umgekehrt?\n",
    "    * Wie ist es mit Ganzzahlen (also ```int```, ```long```, etc.)?"
   ]
  },
  {
   "cell_type": "code",
   "execution_count": 18,
   "metadata": {},
   "outputs": [
    {
     "data": {
      "text/plain": [
       "null"
      ]
     },
     "execution_count": 18,
     "metadata": {},
     "output_type": "execute_result"
    }
   ],
   "source": [
    "// Ihre Lösung"
   ]
  },
  {
   "cell_type": "markdown",
   "metadata": {
    "slideshow": {
     "slide_type": "slide"
    }
   },
   "source": [
    "#### Erlaubte Operationen\n",
    "\n",
    "Natürlich können Sie einer Variablen in Java nicht nur als Gleitkommakonstanten zuweisen, sondern Sie können damit auch rechnen. Dazu stehen uns folgende arithmetische Operationen zur Verfügen:\n",
    "\n",
    "* Arithmetische Operationen (``+``, ``-``, ``*``, ``/``)\n",
    "\n",
    "Weiter können Sie Gleitkommazahlen auch vergleichen. Dafür stehen in Java die folgenden Operationen zur Verfügung:\n",
    "\n",
    "* Vergleiche (``==``, ``!=``, ``<``, ``<=``, ``>``, ``>=``)"
   ]
  },
  {
   "cell_type": "markdown",
   "metadata": {
    "slideshow": {
     "slide_type": "notes"
    }
   },
   "source": [
    "#### Miniübung\n",
    "\n",
    "* Definieren Sie Variablen ```a``` und ```b``` vom Typ ```double```. Definieren Sie die Variable ```cSquared``` die den Wert $a^2 + b^2$ erhalten soll. \n",
    "    * Berechnen Sie ```cSquared``` für verschiedene Werte von ```a``` und ```b```.\n",
    "    * Was ist der Vorteil wenn Sie die Berechnung über die Variablen ```a``` und ```b```machen, statt dass sie die Zahlen direkt in die Berechnung einsetzen?\n",
    "* Was passiert wenn Sie eine Zahl durch 0.0 dividieren?\n",
    "* Was passiert wenn Sie eine Zahl durch 1e-10 dividieren?\n",
    "* Welches Resultat erhalten Sie, wenn Sie (0.1 + 0.1 + 0.1) / 3 berechnen?\n",
    "* Erklären Sie, weshalb man Gleitkommazahlen nie auf Gleichheit vergleichen sollte.\n",
    "    \n",
    "*Hinweis: Sie können den Wert einer Variable ```v``` ausgeben indem Sie Folgendes schreiben:*\n",
    "```java\n",
    "System.out.println(v);\n",
    "```"
   ]
  },
  {
   "cell_type": "code",
   "execution_count": 17,
   "metadata": {},
   "outputs": [
    {
     "data": {
      "text/plain": [
       "null"
      ]
     },
     "execution_count": 17,
     "metadata": {},
     "output_type": "execute_result"
    }
   ],
   "source": [
    "// Ihre Lösung"
   ]
  }
 ],
 "metadata": {
  "kernelspec": {
   "display_name": "Java",
   "language": "java",
   "name": "java"
  },
  "language_info": {
   "codemirror_mode": "text/x-java",
   "file_extension": ".java",
   "mimetype": "",
   "name": "Java",
   "nbconverter_exporter": "",
   "version": "1.8.0_121"
  },
  "rise": {},
  "toc": {
   "base_numbering": 1,
   "nav_menu": {},
   "number_sections": false,
   "sideBar": false,
   "skip_h1_title": false,
   "title_cell": "Table of Contents",
   "title_sidebar": "Contents",
   "toc_cell": false,
   "toc_position": {},
   "toc_section_display": false,
   "toc_window_display": false
  }
 },
 "nbformat": 4,
 "nbformat_minor": 2
}
