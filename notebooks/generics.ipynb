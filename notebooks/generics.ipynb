{
 "cells": [
  {
   "cell_type": "markdown",
   "metadata": {
    "slideshow": {
     "slide_type": "slide"
    }
   },
   "source": [
    "# Generische Programmierung mit Generics\n",
    "\n",
    "#### Marcel Lüthi <br/> Departement Mathematik und Informatik"
   ]
  },
  {
   "cell_type": "markdown",
   "metadata": {
    "slideshow": {
     "slide_type": "slide"
    }
   },
   "source": [
    "### Motivation für Generische Programmierung\n",
    "\n",
    "<div>\n",
    "\n",
    "<div style=\"display: inline-block;\">\n",
    "    <h4>Stack für Ints</h4>\n",
    "    <pre><code class=\"language-java\">        \n",
    "class IntStack {\n",
    "  int[] data = new int[1000]; \n",
    "  private int nElements = 0;\n",
    " \n",
    "  public void push(int element) {\n",
    "    data[nElements] = element;     \n",
    "    nElements += 1;\n",
    "  }\n",
    "    \n",
    "  public int pop() { \n",
    "    if (nElements <= 0) {\n",
    "       return null;\n",
    "    } else {\n",
    "       nElements -= 1;\n",
    "       return data[nElements];\n",
    "    }\n",
    "  } \n",
    "}\n",
    "</code></pre>\n",
    "</div>\n",
    "    <div style=\"display: inline-block;\">\n",
    "        <h4>Stack für Strings</h4>\n",
    "        <pre><code class=\"language-java\">\n",
    " class StringStack {\n",
    "  String[] data = new String[1000]; \n",
    "  private int nElements = 0;\n",
    " \n",
    "  public void push(String element) {\n",
    "    data[nElements] = element;     \n",
    "    nElements += 1;\n",
    "  }\n",
    "    \n",
    "  public String pop() { \n",
    "    if (nElements <= 0) {\n",
    "       return null;\n",
    "    } else {\n",
    "       nElements -= 1;\n",
    "       return data[nElements];\n",
    "    }\n",
    "  }\n",
    "}</code></pre>\n",
    "    </div>\n",
    "\n",
    "</div>"
   ]
  },
  {
   "cell_type": "markdown",
   "metadata": {
    "slideshow": {
     "slide_type": "slide"
    }
   },
   "source": [
    "### Generisches Programmieren mit Objekten\n",
    "\n",
    "Lösungsansatz: Nutzung von gemeinsamen Supertyp ```Object```\n",
    "\n",
    "```java\n",
    "class Stack { \n",
    "    \n",
    "    private Object[] data = new Object[1000]; \n",
    "    private int nElements = 0;\n",
    " \n",
    "    public void push(Object element) {\n",
    "        data[nElements] = element;     \n",
    "        nElements += 1;\n",
    "    }\n",
    "```\n",
    "```java\n",
    "    public Object pop() { \n",
    "        if (nElements <= 0) {\n",
    "            return null;\n",
    "        }\n",
    "        else {\n",
    "            nElements -= 1;\n",
    "            return data[nElements];\n",
    "       }\n",
    "    }\n",
    "}\n",
    "```"
   ]
  },
  {
   "cell_type": "markdown",
   "metadata": {
    "slideshow": {
     "slide_type": "slide"
    }
   },
   "source": [
    "### Probleme\n",
    "\n",
    "* Wir verlieren Typinformation\n",
    "\n",
    "    * Intention nicht klar\n",
    "        * Speichern wir Listen, Zahlen oder Strings?\n",
    "\n",
    "    * Wir brauchen explizite downcasts <br/> \n",
    "       ```Integer i = (Integer) stack.pop()```\n",
    "\n",
    "    * Fehlende Typsicherheit\n",
    "        * Fehler zur Laufzeit - Keine Hilfe von Compiler\n",
    "   \n",
    "* Klassen müssen in Hierarchie angeordnet sein."
   ]
  },
  {
   "cell_type": "markdown",
   "metadata": {
    "slideshow": {
     "slide_type": "slide"
    }
   },
   "source": [
    "### Beispiel\n",
    "\n",
    "Folgendes gibt zur Laufzeit einen Fehler"
   ]
  },
  {
   "cell_type": "code",
   "execution_count": 2,
   "metadata": {
    "slideshow": {
     "slide_type": "-"
    }
   },
   "outputs": [
    {
     "ename": "EvalException",
     "evalue": "class java.lang.Integer cannot be cast to class java.lang.String (java.lang.Integer and java.lang.String are in module java.base of loader 'bootstrap')",
     "output_type": "error",
     "traceback": [
      "\u001b[1m\u001b[31m---------------------------------------------------------------------------\u001b[0m",
      "\u001b[1m\u001b[31mjava.lang.ClassCastException: class java.lang.Integer cannot be cast to class java.lang.String (java.lang.Integer and java.lang.String are in module java.base of loader 'bootstrap')\u001b[0m",
      "\u001b[1m\u001b[31m\tat .(#15:1)\u001b[0m"
     ]
    }
   ],
   "source": [
    "Stack stack = new Stack();\n",
    "stack.push(\"abc\");\n",
    "stack.push(5);\n",
    "\n",
    "String s = (String) stack.pop();"
   ]
  },
  {
   "cell_type": "markdown",
   "metadata": {
    "slideshow": {
     "slide_type": "slide"
    }
   },
   "source": [
    "# Generische Klassen"
   ]
  },
  {
   "cell_type": "markdown",
   "metadata": {
    "slideshow": {
     "slide_type": "slide"
    }
   },
   "source": [
    "### Lösung: Java Generics"
   ]
  },
  {
   "cell_type": "markdown",
   "metadata": {},
   "source": [
    "> Typ wird als Parameter der Klasse angegeben "
   ]
  },
  {
   "cell_type": "code",
   "execution_count": null,
   "metadata": {},
   "outputs": [],
   "source": [
    "class Stack<E> { \n",
    "    \n",
    "    private E[] data = (E[])new Object[1000];\n",
    "    private int nElements = 0; // Anzahl Elemente im Stack\n",
    " \n",
    " \n",
    "    public void push(E element) {\n",
    "        data[nElements] = element;     \n",
    "        nElements += 1;\n",
    "    }\n",
    "    \n",
    "    public E pop() { \n",
    "        if (nElements <= 0) {\n",
    "            return null;\n",
    "        }\n",
    "        else {\n",
    "            nElements -= 1;\n",
    "            return data[nElements];\n",
    "       }\n",
    "    }\n",
    "    public int size() { return this.nElements; }\n",
    "}"
   ]
  },
  {
   "cell_type": "markdown",
   "metadata": {
    "slideshow": {
     "slide_type": "slide"
    }
   },
   "source": [
    "### Nutzung des Generischen Stacks\n",
    "\n",
    "\n",
    "* Beim Benutzen der Stack Klasse wird Typ angegeben.\n",
    "* Beim Entfernen des Elements ist kein Cast nötig\n",
    "\n",
    "```java\n",
    "Stack<String> stringStack = new Stack<String>();\n",
    "\n",
    "stringStack.push(\"abc\");\n",
    "String s = stringStack.pop();\n",
    "```"
   ]
  },
  {
   "cell_type": "markdown",
   "metadata": {
    "slideshow": {
     "slide_type": "slide"
    }
   },
   "source": [
    "#### Miniübung\n",
    "\n",
    "* Erzeugen Sie einen Stack von Integern\n",
    "* Versuchen Sie ein Objekt vom falschen Typen auf den Stack zu legen\n",
    "* Können Sie einen Stack von ```int``` erzeugen?"
   ]
  },
  {
   "cell_type": "code",
   "execution_count": null,
   "metadata": {
    "scrolled": true,
    "slideshow": {
     "slide_type": "-"
    }
   },
   "outputs": [],
   "source": []
  },
  {
   "cell_type": "markdown",
   "metadata": {
    "slideshow": {
     "slide_type": "slide"
    }
   },
   "source": [
    "### Big Picture\n",
    "\n",
    "![typsystem](images/typesystem-1.png)\n",
    "\n",
    "(Unerreichbares) Ideal: Korrekt typisierte Programme = Korrekte Programme"
   ]
  },
  {
   "cell_type": "markdown",
   "metadata": {
    "slideshow": {
     "slide_type": "slide"
    }
   },
   "source": [
    "### Klassen der Java Standardbibliothek\n",
    "\n",
    "Viele Klassen der Java Standardbibliothek sind via Generics implementiert\n",
    "\n",
    "* Wir können diese nun nutzen\n",
    "\n",
    "#### Beispiel: LinkedList\n",
    "\n",
    "![linkedlist](images/linkedlist-api.png)"
   ]
  },
  {
   "cell_type": "markdown",
   "metadata": {
    "slideshow": {
     "slide_type": "slide"
    }
   },
   "source": [
    "### Beispiel: LinkedList"
   ]
  },
  {
   "cell_type": "code",
   "execution_count": null,
   "metadata": {
    "slideshow": {
     "slide_type": "-"
    }
   },
   "outputs": [],
   "source": [
    "import java.util.LinkedList;\n",
    "\n",
    "LinkedList<String> ll = new LinkedList<>();\n",
    "ll.add(\"first Element\");\n",
    "ll.add(\"second Element\" );\n",
    "\n",
    "for (String s : ll) {\n",
    "    System.out.println(s);\n",
    "}"
   ]
  },
  {
   "cell_type": "markdown",
   "metadata": {
    "slideshow": {
     "slide_type": "slide"
    }
   },
   "source": [
    "# Typeinschränkungen "
   ]
  },
  {
   "cell_type": "markdown",
   "metadata": {
    "slideshow": {
     "slide_type": "slide"
    }
   },
   "source": [
    "### Comparable in Java\n",
    "\n",
    "\n",
    "* In Java implementieren Typen die vergleichbar sind das ```Comparable``` Interface.\n",
    "\n",
    "```java\n",
    "interface Comparable<T> {\n",
    "    public int compareTo(T o);\n",
    "}\n",
    "```"
   ]
  },
  {
   "cell_type": "markdown",
   "metadata": {
    "slideshow": {
     "slide_type": "slide"
    }
   },
   "source": [
    "#### Typeinschränkung (Bounded type parameters)\n",
    "\n",
    "\n",
    "* Wir können Typeinschränkung auf generische Parameters mittels der ``` extends``` Klausel definieren   \n",
    "\n",
    "#### Beispiel:\n",
    "\n",
    "* Generischer Typ sollte vergleichbar sein: \n",
    "\n",
    "```class A<E extends Comparable<E> >```\n",
    "\n",
    "* Konsequenz: Nur Subtypen von Comparable können als generische Typen benutzt werden.     \n",
    "\n",
    "\n",
    "    \n"
   ]
  },
  {
   "cell_type": "markdown",
   "metadata": {
    "slideshow": {
     "slide_type": "slide"
    }
   },
   "source": [
    "### Anwendungsbeispiel\n",
    "\n",
    "* Sortierte Liste, die für alle vergleichbaren Typen funktionieren sollte:"
   ]
  },
  {
   "cell_type": "code",
   "execution_count": null,
   "metadata": {
    "slideshow": {
     "slide_type": "-"
    }
   },
   "outputs": [],
   "source": [
    "class SortedList <E extends Comparable<E> > {\n",
    "      E[] data = (E[]) new Comparable[1000];\n",
    "      int nElements = 0;\n",
    "\n",
    "      void add(E elem) {\n",
    "          int i = nElements - 1;\n",
    "          \n",
    "          // Methode compareTo ist definiert für Typ E !!\n",
    "          while (i >= 0 && elem.compareTo(data[i]) < 0) {  \n",
    "              data[i+1] = data[i];\n",
    "              i -= 1;  \n",
    "          }\n",
    "          data [i+1] = elem; \n",
    "          nElements++;          \n",
    "     }\n",
    "    \n",
    "    \n",
    "    void print() {\n",
    "        for (int i = 0; i < nElements; i++) {\n",
    "            System.out.println(data[i] + \" \");\n",
    "        }\n",
    "    }\n",
    "}"
   ]
  },
  {
   "cell_type": "markdown",
   "metadata": {
    "slideshow": {
     "slide_type": "slide"
    }
   },
   "source": [
    "### Anwendung\n",
    "\n",
    "Folgendes funktioniert:"
   ]
  },
  {
   "cell_type": "code",
   "execution_count": null,
   "metadata": {
    "slideshow": {
     "slide_type": "-"
    }
   },
   "outputs": [],
   "source": [
    "SortedList<Integer> intList = new SortedList<Integer>();\n",
    "intList.add(5);\n",
    "intList.add(1);\n",
    "intList.add(9);\n",
    "intList.print();"
   ]
  },
  {
   "cell_type": "markdown",
   "metadata": {
    "slideshow": {
     "slide_type": "fragment"
    }
   },
   "source": [
    "Folgendes funktioniert nicht:"
   ]
  },
  {
   "cell_type": "code",
   "execution_count": null,
   "metadata": {
    "slideshow": {
     "slide_type": "-"
    }
   },
   "outputs": [],
   "source": [
    "\n",
    "new SortedList<Object>();"
   ]
  },
  {
   "cell_type": "markdown",
   "metadata": {},
   "source": [
    "Grund: ```Stack``` und  ```Object``` sind nicht ```Comparable```"
   ]
  },
  {
   "cell_type": "markdown",
   "metadata": {
    "slideshow": {
     "slide_type": "slide"
    }
   },
   "source": [
    "# Generische Methoden"
   ]
  },
  {
   "cell_type": "markdown",
   "metadata": {
    "slideshow": {
     "slide_type": "slide"
    }
   },
   "source": [
    "# Generische Methoden \n",
    "\n",
    "* Methoden, die mit unterschiedlichen Parametertypen arbeiten können\n",
    "    * Syntax ```<T> void methodeName(T t) {}```\n",
    "* Besprochene Regeln gelten auch für Methoden\n",
    "\n",
    "#### Beispiel"
   ]
  },
  {
   "cell_type": "code",
   "execution_count": null,
   "metadata": {},
   "outputs": [],
   "source": [
    "static <T>  void copyElements(LinkedList<T> source, LinkedList<T> destination) {\n",
    "    \n",
    "    for (T element : source) {\n",
    "        destination.add(element);\n",
    "    }    \n",
    "}"
   ]
  },
  {
   "cell_type": "markdown",
   "metadata": {
    "slideshow": {
     "slide_type": "fragment"
    }
   },
   "source": [
    "#### Anwendung:"
   ]
  },
  {
   "cell_type": "code",
   "execution_count": null,
   "metadata": {
    "slideshow": {
     "slide_type": "-"
    }
   },
   "outputs": [],
   "source": [
    "LinkedList<Integer> list = new LinkedList<>();\n",
    "list.add(5);\n",
    "list.add(7);\n",
    "list.add(12);\n",
    "System.out.println(\"Liste: \" + list);\n",
    "\n",
    "LinkedList<Integer> listCopy = new LinkedList<>();\n",
    "copyElements(list, listCopy);\n",
    "System.out.println(\"Kopie: \" +listCopy);"
   ]
  },
  {
   "cell_type": "markdown",
   "metadata": {
    "slideshow": {
     "slide_type": "slide"
    }
   },
   "source": [
    "### Übung\n",
    "\n",
    "* Implementieren Sie eine generische Methode ```max``` welche für zwei übergebene Elemente vom Typ ```T``` das grössere Element zurückgibt."
   ]
  },
  {
   "cell_type": "code",
   "execution_count": null,
   "metadata": {},
   "outputs": [],
   "source": []
  },
  {
   "cell_type": "markdown",
   "metadata": {
    "slideshow": {
     "slide_type": "slide"
    }
   },
   "source": [
    "### Generische Methoden: Typsicherheit\n",
    "\n",
    "#### Nicht Typsicher\n",
    "\n",
    "* Deklaration von Methode mit gemeinsamen Supertyp.<br/>\n",
    "```  Comparable max(Comparable a, Comparable b)```\n",
    "* ```a``` muss nicht von demselben Typ wie b sein\n",
    "* Drückt nicht aus was wir wollen\n",
    "\n",
    "\n",
    "#### Typesicher\n",
    "* Deklaration mit Generics <br/>\n",
    "``` <T extends Comparable> max(T a, T b) ```\n",
    "* ```a``` und ```b``` haben denselben Typ\n",
    "* Drückt genau aus was wir wollen\n",
    "\n",
    "\n"
   ]
  },
  {
   "cell_type": "markdown",
   "metadata": {
    "slideshow": {
     "slide_type": "slide"
    }
   },
   "source": [
    "### Zusammenfassung\n",
    "\n",
    "Generics lösen die Probleme der generischen Programmieren über Objektehierarchien\n",
    "\n",
    "* Kein Verlust von Typinformation\n",
    "\n",
    "    * Intention wird klar ausgedrückt\n",
    "\n",
    "    * Keine expliziten downcasts mehr, da Typ bekannt ist \n",
    "\n",
    "    * Typfehler werden zur Kompilation und nicht Laufzeit erkannt.\n",
    "   \n",
    "* Funktioniert für beliebige Klassen"
   ]
  },
  {
   "cell_type": "markdown",
   "metadata": {
    "slideshow": {
     "slide_type": "slide"
    }
   },
   "source": [
    "# Anhang: Type erasure (Java spezifische Limitierung)"
   ]
  },
  {
   "cell_type": "markdown",
   "metadata": {
    "slideshow": {
     "slide_type": "slide"
    }
   },
   "source": [
    "### Type erasure\n",
    "\n",
    "* Zur Kompilationszeit werden alle Typparameter ersetzt\n",
    "    * Typinformation ist zur Laufzeit nicht vorhanden\n",
    "\n",
    "![erasure](images./generics-erasure.png)"
   ]
  },
  {
   "cell_type": "markdown",
   "metadata": {
    "slideshow": {
     "slide_type": "slide"
    }
   },
   "source": [
    "### Erzeugen von Objekten von Generischem Typ\n",
    "\n",
    "> Nicht möglich!"
   ]
  },
  {
   "cell_type": "code",
   "execution_count": null,
   "metadata": {},
   "outputs": [],
   "source": [
    "class Foo<T> {\n",
    "    T t = new T();\n",
    "}"
   ]
  },
  {
   "cell_type": "markdown",
   "metadata": {},
   "source": [
    "\n",
    "* Keine Typinformation zur Laufzeit verfügbar.\n",
    "    * Wie viel Speicher soll reserviert werden?\n",
    "    * Welcher Konstruktor soll verwendet werden?"
   ]
  },
  {
   "cell_type": "markdown",
   "metadata": {
    "slideshow": {
     "slide_type": "slide"
    }
   },
   "source": [
    "### Erzeugen von generischen Arrays\n",
    "\n",
    "* Folgendes funktioniert nicht:"
   ]
  },
  {
   "cell_type": "code",
   "execution_count": null,
   "metadata": {},
   "outputs": [],
   "source": [
    "class Foo<T> {\n",
    "   T[] t = new T[100];\n",
    "}"
   ]
  },
  {
   "cell_type": "markdown",
   "metadata": {
    "slideshow": {
     "slide_type": "-"
    }
   },
   "source": [
    "* Funktionierender Hack!"
   ]
  },
  {
   "cell_type": "code",
   "execution_count": null,
   "metadata": {},
   "outputs": [],
   "source": [
    "class Foo<T> {\n",
    "   T[] arrayOfTs = (T[]) new Object[100];\n",
    "}"
   ]
  }
 ],
 "metadata": {
  "celltoolbar": "Slideshow",
  "kernelspec": {
   "display_name": "Java",
   "language": "java",
   "name": "java"
  },
  "language_info": {
   "codemirror_mode": "java",
   "file_extension": ".jshell",
   "mimetype": "text/x-java-source",
   "name": "Java",
   "pygments_lexer": "java",
   "version": "11.0.13+8"
  },
  "rise": {
   "scroll": false,
   "transition": "none"
  }
 },
 "nbformat": 4,
 "nbformat_minor": 2
}
