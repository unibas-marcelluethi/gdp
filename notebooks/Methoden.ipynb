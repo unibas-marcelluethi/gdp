{
 "cells": [
  {
   "cell_type": "markdown",
   "metadata": {},
   "source": [
    "# Methoden"
   ]
  },
  {
   "cell_type": "markdown",
   "metadata": {},
   "source": [
    "#### Setup der Bibliotheken in Jupyter\n",
    "\n",
    "Turtle Grafik gehört nicht zum Standardumfang der Java Programmiersprache. Die Funktionalität die wir hier nutzen wird von einer externen *Bibliothek* zur Verfügung gestellt. Java und die Jupyter-Notebook Umgebung wissen zunächst mal nichts von dieser Bibliothek. Damit wir die Befehle in dieser Bibliothek verwenden können, müssen wir Sie zuerst im Jupyter-Notebook zur Verfügung stellen. Dies geschieht mit den folgenden Befehlen:"
   ]
  },
  {
   "cell_type": "code",
   "execution_count": 1,
   "metadata": {},
   "outputs": [
    {
     "name": "stderr",
     "output_type": "stream",
     "text": [
      "Inline magic %mavenRepo shapemodelling-repo https://shapemodelling.cs.unibas.ch/repo/ not found\n",
      "Inline magic %maven ch.unibas.informatik:jturtle:0.7 not found\n"
     ]
    }
   ],
   "source": [
    "%mavenRepo shapemodelling-repo https://shapemodelling.cs.unibas.ch/repo/\n",
    "%maven ch.unibas.informatik:jturtle:0.7"
   ]
  },
  {
   "cell_type": "code",
   "execution_count": 2,
   "metadata": {},
   "outputs": [
    {
     "name": "stderr",
     "output_type": "stream",
     "text": [
      "Could not import static ch.unibas.informatik.jturtle.TurtleCommands.*\n"
     ]
    }
   ],
   "source": [
    "%import static ch.unibas.informatik.jturtle.TurtleCommands.*"
   ]
  },
  {
   "cell_type": "markdown",
   "metadata": {},
   "source": [
    "## Parameterlose Methoden"
   ]
  },
  {
   "cell_type": "markdown",
   "metadata": {},
   "source": [
    "Beim programmieren müssen wir häufig fast immer mehrere Befehle hintereinander ausführen um ein bestimmtes Verhalten zu erreichen. Als Beispiel nehmen wir wieder unsere Turtle Grafik. "
   ]
  },
  {
   "cell_type": "markdown",
   "metadata": {},
   "source": [
    "Um ein rechtwinkliges Dreick zu zeichnen, brauchen wir die folgenden Befehle:"
   ]
  },
  {
   "cell_type": "code",
   "execution_count": 3,
   "metadata": {},
   "outputs": [
    {
     "ename": "cannot find symbol",
     "evalue": "cannot find symbol",
     "output_type": "error",
     "traceback": [
      "\u001b[1;31mcannot find symbol\u001b[0;0m",
      "\u001b[1;31m  symbol:   method clear()\u001b[0;0m",
      "\u001b[0;31m  location: class com.twosigma.beaker.javash.bkr94f08aed.BeakerWrapperClass1261714175Id0188c3fe06494811ab2cf1caad347cb5\u001b[0;0m",
      "\u001b[0;31m clear()\u001b[0;0m",
      "\u001b[0;31m ^    ^   \u001b[0;0m",
      "\u001b[0;31m\u001b[0;0m",
      "\u001b[0;31mcannot find symbol\u001b[0;0m",
      "\u001b[0;31m  symbol:   method home()\u001b[0;0m",
      "\u001b[0;31m  location: class com.twosigma.beaker.javash.bkr94f08aed.BeakerWrapperClass1261714175Id0188c3fe06494811ab2cf1caad347cb5\u001b[0;0m",
      "\u001b[0;31m home()\u001b[0;0m",
      "\u001b[0;31m ^   ^   \u001b[0;0m",
      "\u001b[0;31m\u001b[0;0m",
      "\u001b[0;31mcannot find symbol\u001b[0;0m",
      "\u001b[0;31m  symbol:   method penDown()\u001b[0;0m",
      "\u001b[0;31m  location: class com.twosigma.beaker.javash.bkr94f08aed.BeakerWrapperClass1261714175Id0188c3fe06494811ab2cf1caad347cb5\u001b[0;0m",
      "\u001b[0;31m penDown()\u001b[0;0m",
      "\u001b[0;31m ^      ^   \u001b[0;0m",
      "\u001b[0;31m\u001b[0;0m",
      "\u001b[0;31mcannot find symbol\u001b[0;0m",
      "\u001b[0;31m  symbol:   method forward(int)\u001b[0;0m",
      "\u001b[0;31m  location: class com.twosigma.beaker.javash.bkr94f08aed.BeakerWrapperClass1261714175Id0188c3fe06494811ab2cf1caad347cb5\u001b[0;0m",
      "\u001b[0;31m forward(100)\u001b[0;0m",
      "\u001b[0;31m ^      ^      \u001b[0;0m",
      "\u001b[0;31m\u001b[0;0m",
      "\u001b[0;31mcannot find symbol\u001b[0;0m",
      "\u001b[0;31m  symbol:   method turnRight(int)\u001b[0;0m",
      "\u001b[0;31m  location: class com.twosigma.beaker.javash.bkr94f08aed.BeakerWrapperClass1261714175Id0188c3fe06494811ab2cf1caad347cb5\u001b[0;0m",
      "\u001b[0;31m turnRight(90)\u001b[0;0m",
      "\u001b[0;31m ^        ^     \u001b[0;0m",
      "\u001b[0;31m\u001b[0;0m",
      "\u001b[0;31mcannot find symbol\u001b[0;0m",
      "\u001b[0;31m  symbol:   method forward(int)\u001b[0;0m",
      "\u001b[0;31m  location: class com.twosigma.beaker.javash.bkr94f08aed.BeakerWrapperClass1261714175Id0188c3fe06494811ab2cf1caad347cb5\u001b[0;0m",
      "\u001b[0;31m forward(100)\u001b[0;0m",
      "\u001b[0;31m ^      ^      \u001b[0;0m",
      "\u001b[0;31m\u001b[0;0m",
      "\u001b[0;31mcannot find symbol\u001b[0;0m",
      "\u001b[0;31m  symbol:   method turnRight(int)\u001b[0;0m",
      "\u001b[0;31m  location: class com.twosigma.beaker.javash.bkr94f08aed.BeakerWrapperClass1261714175Id0188c3fe06494811ab2cf1caad347cb5\u001b[0;0m",
      "\u001b[0;31m turnRight(135)\u001b[0;0m",
      "\u001b[0;31m ^        ^      \u001b[0;0m",
      "\u001b[0;31m\u001b[0;0m",
      "\u001b[0;31mcannot find symbol\u001b[0;0m",
      "\u001b[0;31m  symbol:   method forward(double)\u001b[0;0m",
      "\u001b[0;31m  location: class com.twosigma.beaker.javash.bkr94f08aed.BeakerWrapperClass1261714175Id0188c3fe06494811ab2cf1caad347cb5\u001b[0;0m",
      "\u001b[0;31m forward(Math.sqrt(100 * 100  + 100 * \u001b[0;0m",
      "\u001b[0;31m ^      ^                               \u001b[0;0m",
      "\u001b[0;31m\u001b[0;0m",
      "\u001b[0;31mcannot find symbol\u001b[0;0m",
      "\u001b[0;31m  symbol:   method turnRight(int)\u001b[0;0m",
      "\u001b[0;31m  location: class com.twosigma.beaker.javash.bkr94f08aed.BeakerWrapperClass1261714175Id0188c3fe06494811ab2cf1caad347cb5\u001b[0;0m",
      "\u001b[0;31m turnRight(90)\u001b[0;0m",
      "\u001b[0;31m ^        ^     \u001b[0;0m",
      "\u001b[0;31m\u001b[0;0m",
      "\u001b[0;31mcannot find symbol\u001b[0;0m",
      "\u001b[0;31m  symbol:   method drawing()\u001b[0;0m",
      "\u001b[0;31m  location: class com.twosigma.beaker.javash.bkr94f08aed.BeakerWrapperClass1261714175Id0188c3fe06494811ab2cf1caad347cb5\u001b[0;0m",
      "\u001b[0;31m display(drawing())\u001b[0;0m",
      "\u001b[0;31m         ^      ^    \u001b[0;0m"
     ]
    }
   ],
   "source": [
    "clear();\n",
    "home();\n",
    "penDown();\n",
    "\n",
    "\n",
    "forward(100);\n",
    "turnRight(90);\n",
    "forward(100);\n",
    "turnRight(135);\n",
    "forward(Math.sqrt(100 * 100  + 100 * 100)) ;\n",
    "turnRight(90);\n",
    "display(drawing());"
   ]
  },
  {
   "cell_type": "markdown",
   "metadata": {},
   "source": [
    "Jedesmal wenn wir dieses Dreick wieder zeichnen wollen, müssen wir die Sequenz wiederholen. Dies ist nicht nur mühsam zum schreiben, sondern ist für den Leser des Programms auch schwierig zu verstehen. Besser ist es, wenn wir eine parameterlose Methode einführen. \n",
    "\n",
    "*Anmerkung:* Eine Methode muss immer in einer Klasse stehen. Wir müssen deshalb hier zusätzlich eine Klasse, die wir ```Shapes``` nennen, einführen."
   ]
  },
  {
   "cell_type": "code",
   "execution_count": 4,
   "metadata": {},
   "outputs": [
    {
     "ename": "ERROR",
     "evalue": " java.lang.IllegalStateException",
     "output_type": "error",
     "traceback": [
      "\u001b[1;31mERROR: java.lang.IllegalStateException: cannot find symbol\u001b[0;0m",
      "\u001b[1;31m  symbol:   method clear()\u001b[0;0m",
      "\u001b[0;31m  location: class com.twosigma.beaker.javash.bkr94f08aed.Shapes\u001b[0;0m",
      "\u001b[0;31m clear()\u001b[0;0m",
      "\u001b[0;31m ^    ^   \u001b[0;0m",
      "\u001b[0;31m\u001b[0;0m",
      "\u001b[0;31mcannot find symbol\u001b[0;0m",
      "\u001b[0;31m  symbol:   method home()\u001b[0;0m",
      "\u001b[0;31m  location: class com.twosigma.beaker.javash.bkr94f08aed.Shapes\u001b[0;0m",
      "\u001b[0;31m home()\u001b[0;0m",
      "\u001b[0;31m ^   ^   \u001b[0;0m",
      "\u001b[0;31m\u001b[0;0m",
      "\u001b[0;31mcannot find symbol\u001b[0;0m",
      "\u001b[0;31m  symbol:   method forward(int)\u001b[0;0m",
      "\u001b[0;31m  location: class com.twosigma.beaker.javash.bkr94f08aed.Shapes\u001b[0;0m",
      "\u001b[0;31m forward(100)\u001b[0;0m",
      "\u001b[0;31m ^      ^      \u001b[0;0m",
      "\u001b[0;31m\u001b[0;0m",
      "\u001b[0;31mcannot find symbol\u001b[0;0m",
      "\u001b[0;31m  symbol:   method turnRight(int)\u001b[0;0m",
      "\u001b[0;31m  location: class com.twosigma.beaker.javash.bkr94f08aed.Shapes\u001b[0;0m",
      "\u001b[0;31m turnRight(90)\u001b[0;0m",
      "\u001b[0;31m ^        ^     \u001b[0;0m",
      "\u001b[0;31m\u001b[0;0m",
      "\u001b[0;31mcannot find symbol\u001b[0;0m",
      "\u001b[0;31m  symbol:   method forward(int)\u001b[0;0m",
      "\u001b[0;31m  location: class com.twosigma.beaker.javash.bkr94f08aed.Shapes\u001b[0;0m",
      "\u001b[0;31m forward(100)\u001b[0;0m",
      "\u001b[0;31m ^      ^      \u001b[0;0m",
      "\u001b[0;31m\u001b[0;0m",
      "\u001b[0;31mcannot find symbol\u001b[0;0m",
      "\u001b[0;31m  symbol:   method turnRight(int)\u001b[0;0m",
      "\u001b[0;31m  location: class com.twosigma.beaker.javash.bkr94f08aed.Shapes\u001b[0;0m",
      "\u001b[0;31m turnRight(135)\u001b[0;0m",
      "\u001b[0;31m ^        ^      \u001b[0;0m",
      "\u001b[0;31m\u001b[0;0m",
      "\u001b[0;31mcannot find symbol\u001b[0;0m",
      "\u001b[0;31m  symbol:   method forward(double)\u001b[0;0m",
      "\u001b[0;31m  location: class com.twosigma.beaker.javash.bkr94f08aed.Shapes\u001b[0;0m",
      "\u001b[0;31m forward(Math.sqrt(100 * 100 + 100 * 1\u001b[0;0m",
      "\u001b[0;31m ^      ^                               \u001b[0;0m",
      "\u001b[0;31m\u001b[0;0m",
      "\u001b[0;31mcannot find symbol\u001b[0;0m",
      "\u001b[0;31m  symbol:   method turnRight(int)\u001b[0;0m",
      "\u001b[0;31m  location: class com.twosigma.beaker.javash.bkr94f08aed.Shapes\u001b[0;0m",
      "\u001b[0;31m turnRight(90)\u001b[0;0m",
      "\u001b[0;31m ^        ^     \u001b[0;0m",
      "\u001b[0;31m\u001b[0;0m",
      "\u001b[0;31mcannot find symbol\u001b[0;0m",
      "\u001b[0;31m  symbol:   method drawing()\u001b[0;0m",
      "\u001b[0;31m  location: class com.twosigma.beaker.javash.bkr94f08aed.Shapes\u001b[0;0m",
      "\u001b[0;31m display(drawing())\u001b[0;0m",
      "\u001b[0;31m         ^      ^    \u001b[0;0m"
     ]
    }
   ],
   "source": [
    "class Shapes {\n",
    "    static void drawRightAngledTriangle() {\n",
    "        clear();\n",
    "        home();\n",
    "        forward(100);\n",
    "        turnRight(90);\n",
    "        forward(100);\n",
    "        turnRight(135);\n",
    "        forward(Math.sqrt(100 * 100 + 100 * 100)) ;\n",
    "        turnRight(90);\n",
    "        display(drawing());\n",
    "    }\n",
    "}"
   ]
  },
  {
   "cell_type": "markdown",
   "metadata": {},
   "source": [
    "Diese können wir nun beliebig oft aufrufen:"
   ]
  },
  {
   "cell_type": "code",
   "execution_count": 5,
   "metadata": {},
   "outputs": [
    {
     "ename": "cannot find symbol",
     "evalue": "cannot find symbol",
     "output_type": "error",
     "traceback": [
      "\u001b[1;31mcannot find symbol\u001b[0;0m",
      "\u001b[1;31m  symbol:   variable Shapes\u001b[0;0m",
      "\u001b[0;31m  location: class com.twosigma.beaker.javash.bkr94f08aed.BeakerWrapperClass1261714175Id784138365ef84a74a967e797ba7f93bb\u001b[0;0m",
      "\u001b[0;31m Shapes.drawRightAngledTriangle()\u001b[0;0m",
      "\u001b[0;31m ^     ^                           \u001b[0;0m",
      "\u001b[0;31m\u001b[0;0m",
      "\u001b[0;31mcannot find symbol\u001b[0;0m",
      "\u001b[0;31m  symbol:   variable Shapes\u001b[0;0m",
      "\u001b[0;31m  location: class com.twosigma.beaker.javash.bkr94f08aed.BeakerWrapperClass1261714175Id784138365ef84a74a967e797ba7f93bb\u001b[0;0m",
      "\u001b[0;31m Shapes.drawRightAngledTriangle()\u001b[0;0m",
      "\u001b[0;31m ^     ^                           \u001b[0;0m"
     ]
    }
   ],
   "source": [
    "Shapes.drawRightAngledTriangle();\n",
    "Shapes.drawRightAngledTriangle();"
   ]
  },
  {
   "cell_type": "markdown",
   "metadata": {},
   "source": [
    "Das Programm ist jetzt kürzer und viel einfacher zu verstehen. Ausserdem können wir dieselben Befehle jetzt an beliebigen Stellen in unserem Programm ausführen. "
   ]
  },
  {
   "cell_type": "markdown",
   "metadata": {},
   "source": [
    "## Methoden mit Parametern"
   ]
  },
  {
   "cell_type": "markdown",
   "metadata": {},
   "source": [
    "Unsere Methode ist jedoch noch nicht so nützlich wie sie sein könnte. Das Dreieck wird immer genau gleich gross und an die selbe Stelle im Bild gezeichnet. Die Methode wird viel flexibler, wenn wir sie parametrisieren. In unserem Fall heisst das, dass wir zum Beispiel die Seitengrösse (also die Länge der Ankatheten) als Parameter übergeben. "
   ]
  },
  {
   "cell_type": "code",
   "execution_count": 6,
   "metadata": {},
   "outputs": [
    {
     "ename": "ERROR",
     "evalue": " java.lang.IllegalStateException",
     "output_type": "error",
     "traceback": [
      "\u001b[1;31mERROR: java.lang.IllegalStateException: cannot find symbol\u001b[0;0m",
      "\u001b[1;31m  symbol:   method clear()\u001b[0;0m",
      "\u001b[0;31m  location: class com.twosigma.beaker.javash.bkr94f08aed.Shapes\u001b[0;0m",
      "\u001b[0;31m clear()\u001b[0;0m",
      "\u001b[0;31m ^    ^   \u001b[0;0m",
      "\u001b[0;31m\u001b[0;0m",
      "\u001b[0;31mcannot find symbol\u001b[0;0m",
      "\u001b[0;31m  symbol:   method home()\u001b[0;0m",
      "\u001b[0;31m  location: class com.twosigma.beaker.javash.bkr94f08aed.Shapes\u001b[0;0m",
      "\u001b[0;31m home()\u001b[0;0m",
      "\u001b[0;31m ^   ^   \u001b[0;0m",
      "\u001b[0;31m\u001b[0;0m",
      "\u001b[0;31mcannot find symbol\u001b[0;0m",
      "\u001b[0;31m  symbol:   method forward(int)\u001b[0;0m",
      "\u001b[0;31m  location: class com.twosigma.beaker.javash.bkr94f08aed.Shapes\u001b[0;0m",
      "\u001b[0;31m forward(lengthLegs)\u001b[0;0m",
      "\u001b[0;31m ^      ^             \u001b[0;0m",
      "\u001b[0;31m\u001b[0;0m",
      "\u001b[0;31mcannot find symbol\u001b[0;0m",
      "\u001b[0;31m  symbol:   method turnRight(int)\u001b[0;0m",
      "\u001b[0;31m  location: class com.twosigma.beaker.javash.bkr94f08aed.Shapes\u001b[0;0m",
      "\u001b[0;31m turnRight(90)\u001b[0;0m",
      "\u001b[0;31m ^        ^     \u001b[0;0m",
      "\u001b[0;31m\u001b[0;0m",
      "\u001b[0;31mcannot find symbol\u001b[0;0m",
      "\u001b[0;31m  symbol:   method forward(int)\u001b[0;0m",
      "\u001b[0;31m  location: class com.twosigma.beaker.javash.bkr94f08aed.Shapes\u001b[0;0m",
      "\u001b[0;31m forward(lengthLegs)\u001b[0;0m",
      "\u001b[0;31m ^      ^             \u001b[0;0m",
      "\u001b[0;31m\u001b[0;0m",
      "\u001b[0;31mcannot find symbol\u001b[0;0m",
      "\u001b[0;31m  symbol:   method turnRight(int)\u001b[0;0m",
      "\u001b[0;31m  location: class com.twosigma.beaker.javash.bkr94f08aed.Shapes\u001b[0;0m",
      "\u001b[0;31m turnRight(135)\u001b[0;0m",
      "\u001b[0;31m ^        ^      \u001b[0;0m",
      "\u001b[0;31m\u001b[0;0m",
      "\u001b[0;31mcannot find symbol\u001b[0;0m",
      "\u001b[0;31m  symbol:   method forward(double)\u001b[0;0m",
      "\u001b[0;31m  location: class com.twosigma.beaker.javash.bkr94f08aed.Shapes\u001b[0;0m",
      "\u001b[0;31m forward(Math.sqrt(lengthLegs * length\u001b[0;0m",
      "\u001b[0;31m ^      ^                               \u001b[0;0m",
      "\u001b[0;31m\u001b[0;0m",
      "\u001b[0;31mcannot find symbol\u001b[0;0m",
      "\u001b[0;31m  symbol:   method turnRight(int)\u001b[0;0m",
      "\u001b[0;31m  location: class com.twosigma.beaker.javash.bkr94f08aed.Shapes\u001b[0;0m",
      "\u001b[0;31m turnRight(90)\u001b[0;0m",
      "\u001b[0;31m ^        ^     \u001b[0;0m",
      "\u001b[0;31m\u001b[0;0m",
      "\u001b[0;31mcannot find symbol\u001b[0;0m",
      "\u001b[0;31m  symbol:   method drawing()\u001b[0;0m",
      "\u001b[0;31m  location: class com.twosigma.beaker.javash.bkr94f08aed.Shapes\u001b[0;0m",
      "\u001b[0;31m display(drawing())\u001b[0;0m",
      "\u001b[0;31m         ^      ^    \u001b[0;0m"
     ]
    }
   ],
   "source": [
    "class Shapes {\n",
    "    static void drawRightAngledTriangle(int lengthLegs) {\n",
    "        clear();\n",
    "        home();\n",
    "        forward(lengthLegs);\n",
    "        turnRight(90);\n",
    "        forward(lengthLegs);\n",
    "        turnRight(135);\n",
    "        forward(Math.sqrt(lengthLegs * lengthLegs + lengthLegs * lengthLegs)) ;\n",
    "        turnRight(90);\n",
    "        display(drawing());\n",
    "    }\n",
    "}"
   ]
  },
  {
   "cell_type": "markdown",
   "metadata": {},
   "source": [
    "Wir können nun Dreicke mit verschiedenen grössen Zeichnen:"
   ]
  },
  {
   "cell_type": "code",
   "execution_count": 7,
   "metadata": {},
   "outputs": [
    {
     "ename": "cannot find symbol",
     "evalue": "cannot find symbol",
     "output_type": "error",
     "traceback": [
      "\u001b[1;31mcannot find symbol\u001b[0;0m",
      "\u001b[1;31m  symbol:   variable Shapes\u001b[0;0m",
      "\u001b[0;31m  location: class com.twosigma.beaker.javash.bkr94f08aed.BeakerWrapperClass1261714175Id1cee3aaa82484f61978d273c60bc4fa2\u001b[0;0m",
      "\u001b[0;31m Shapes.drawRightAngledTriangle(90)\u001b[0;0m",
      "\u001b[0;31m ^     ^                             \u001b[0;0m",
      "\u001b[0;31m\u001b[0;0m",
      "\u001b[0;31mcannot find symbol\u001b[0;0m",
      "\u001b[0;31m  symbol:   variable Shapes\u001b[0;0m",
      "\u001b[0;31m  location: class com.twosigma.beaker.javash.bkr94f08aed.BeakerWrapperClass1261714175Id1cee3aaa82484f61978d273c60bc4fa2\u001b[0;0m",
      "\u001b[0;31m Shapes.drawRightAngledTriangle(60)\u001b[0;0m",
      "\u001b[0;31m ^     ^                             \u001b[0;0m",
      "\u001b[0;31m\u001b[0;0m",
      "\u001b[0;31mcannot find symbol\u001b[0;0m",
      "\u001b[0;31m  symbol:   variable Shapes\u001b[0;0m",
      "\u001b[0;31m  location: class com.twosigma.beaker.javash.bkr94f08aed.BeakerWrapperClass1261714175Id1cee3aaa82484f61978d273c60bc4fa2\u001b[0;0m",
      "\u001b[0;31m Shapes.drawRightAngledTriangle(30)\u001b[0;0m",
      "\u001b[0;31m ^     ^                             \u001b[0;0m"
     ]
    }
   ],
   "source": [
    "Shapes.drawRightAngledTriangle(90);\n",
    "Shapes.drawRightAngledTriangle(60);\n",
    "Shapes.drawRightAngledTriangle(30);\n"
   ]
  },
  {
   "cell_type": "markdown",
   "metadata": {},
   "source": [
    "#### Miniübung\n",
    "\n",
    "* Passen Sie die Methode so an, dass Sie auch die Startposition vom Turtle mitübergeben können."
   ]
  },
  {
   "cell_type": "markdown",
   "metadata": {},
   "source": [
    "# Funktionen (Methoden mit Rückgabewerte)"
   ]
  },
  {
   "cell_type": "markdown",
   "metadata": {},
   "source": [
    "Methoden können auch Werte zurückgeben. Methoden, deren Zweck es einzig und alleine ist einen Wert zu berechnen und diesen dann zurückgeben nennen wir Funktionen. In unserem Beispiel wäre ein guter Kandidat für eine Funktion die Berechnung der Länge der Hypothenuse:"
   ]
  },
  {
   "cell_type": "markdown",
   "metadata": {},
   "source": [
    "Damit können wir unsere Methode noch etwas eleganter schreiben:"
   ]
  },
  {
   "cell_type": "code",
   "execution_count": 8,
   "metadata": {},
   "outputs": [
    {
     "ename": "ERROR",
     "evalue": " java.lang.IllegalStateException",
     "output_type": "error",
     "traceback": [
      "\u001b[1;31mERROR: java.lang.IllegalStateException: cannot find symbol\u001b[0;0m",
      "\u001b[1;31m  symbol:   method home()\u001b[0;0m",
      "\u001b[0;31m  location: class com.twosigma.beaker.javash.bkr94f08aed.Shapes\u001b[0;0m",
      "\u001b[0;31m home()\u001b[0;0m",
      "\u001b[0;31m ^   ^   \u001b[0;0m",
      "\u001b[0;31m\u001b[0;0m",
      "\u001b[0;31mcannot find symbol\u001b[0;0m",
      "\u001b[0;31m  symbol:   method clear()\u001b[0;0m",
      "\u001b[0;31m  location: class com.twosigma.beaker.javash.bkr94f08aed.Shapes\u001b[0;0m",
      "\u001b[0;31m clear()\u001b[0;0m",
      "\u001b[0;31m ^    ^   \u001b[0;0m",
      "\u001b[0;31m\u001b[0;0m",
      "\u001b[0;31mcannot find symbol\u001b[0;0m",
      "\u001b[0;31m  symbol:   method forward(int)\u001b[0;0m",
      "\u001b[0;31m  location: class com.twosigma.beaker.javash.bkr94f08aed.Shapes\u001b[0;0m",
      "\u001b[0;31m forward(lengthLegs)\u001b[0;0m",
      "\u001b[0;31m ^      ^             \u001b[0;0m",
      "\u001b[0;31m\u001b[0;0m",
      "\u001b[0;31mcannot find symbol\u001b[0;0m",
      "\u001b[0;31m  symbol:   method turnRight(int)\u001b[0;0m",
      "\u001b[0;31m  location: class com.twosigma.beaker.javash.bkr94f08aed.Shapes\u001b[0;0m",
      "\u001b[0;31m turnRight(90)\u001b[0;0m",
      "\u001b[0;31m ^        ^     \u001b[0;0m",
      "\u001b[0;31m\u001b[0;0m",
      "\u001b[0;31mcannot find symbol\u001b[0;0m",
      "\u001b[0;31m  symbol:   method forward(int)\u001b[0;0m",
      "\u001b[0;31m  location: class com.twosigma.beaker.javash.bkr94f08aed.Shapes\u001b[0;0m",
      "\u001b[0;31m forward(lengthLegs)\u001b[0;0m",
      "\u001b[0;31m ^      ^             \u001b[0;0m",
      "\u001b[0;31m\u001b[0;0m",
      "\u001b[0;31mcannot find symbol\u001b[0;0m",
      "\u001b[0;31m  symbol:   method turnRight(int)\u001b[0;0m",
      "\u001b[0;31m  location: class com.twosigma.beaker.javash.bkr94f08aed.Shapes\u001b[0;0m",
      "\u001b[0;31m turnRight(135)\u001b[0;0m",
      "\u001b[0;31m ^        ^      \u001b[0;0m",
      "\u001b[0;31m\u001b[0;0m",
      "\u001b[0;31mcannot find symbol\u001b[0;0m",
      "\u001b[0;31m  symbol:   method forward(double)\u001b[0;0m",
      "\u001b[0;31m  location: class com.twosigma.beaker.javash.bkr94f08aed.Shapes\u001b[0;0m",
      "\u001b[0;31m forward(computeLengthHypothenuse(leng\u001b[0;0m",
      "\u001b[0;31m ^      ^                               \u001b[0;0m",
      "\u001b[0;31m\u001b[0;0m",
      "\u001b[0;31mcannot find symbol\u001b[0;0m",
      "\u001b[0;31m  symbol:   method turnRight(int)\u001b[0;0m",
      "\u001b[0;31m  location: class com.twosigma.beaker.javash.bkr94f08aed.Shapes\u001b[0;0m",
      "\u001b[0;31m turnRight(90)\u001b[0;0m",
      "\u001b[0;31m ^        ^     \u001b[0;0m",
      "\u001b[0;31m\u001b[0;0m",
      "\u001b[0;31mcannot find symbol\u001b[0;0m",
      "\u001b[0;31m  symbol:   method drawing()\u001b[0;0m",
      "\u001b[0;31m  location: class com.twosigma.beaker.javash.bkr94f08aed.Shapes\u001b[0;0m",
      "\u001b[0;31m display(drawing())\u001b[0;0m",
      "\u001b[0;31m         ^      ^    \u001b[0;0m"
     ]
    }
   ],
   "source": [
    "class Shapes {\n",
    "    static double computeLengthHypothenuse(double leg1, double leg2) {\n",
    "        return Math.sqrt(leg1 * leg1 + leg2 * leg2);\n",
    "    }\n",
    "    \n",
    "    static void drawRightAngledTriangle(int lengthLegs) {\n",
    "        home();\n",
    "        clear();\n",
    "        forward(lengthLegs);\n",
    "        turnRight(90);\n",
    "        forward(lengthLegs);\n",
    "        turnRight(135);\n",
    "        forward(computeLengthHypothenuse(lengthLegs, lengthLegs)) ;\n",
    "        turnRight(90);\n",
    "        display(drawing());\n",
    "    }\n",
    "}"
   ]
  },
  {
   "cell_type": "markdown",
   "metadata": {},
   "source": [
    "Wir hoffen ausserdem, dass diese Funktion auch in anderen Programmen nützlich sein, und wir somit diese Funktion nicht immer neu schreiben müssen. "
   ]
  },
  {
   "cell_type": "code",
   "execution_count": 9,
   "metadata": {},
   "outputs": [
    {
     "ename": "cannot find symbol",
     "evalue": "cannot find symbol",
     "output_type": "error",
     "traceback": [
      "\u001b[1;31mcannot find symbol\u001b[0;0m",
      "\u001b[1;31m  symbol:   variable Shapes\u001b[0;0m",
      "\u001b[0;31m  location: class com.twosigma.beaker.javash.bkr94f08aed.BeakerWrapperClass1261714175Id7ee54cfd31af4531964055d0fa728586\u001b[0;0m",
      "\u001b[0;31m System.out.println(Shapes.computeLengthHypothenuse(10, \u001b[0;0m",
      "\u001b[0;31m                    ^     ^                               \u001b[0;0m"
     ]
    }
   ],
   "source": [
    "System.out.println(Shapes.computeLengthHypothenuse(10, 20));"
   ]
  },
  {
   "cell_type": "markdown",
   "metadata": {},
   "source": [
    "#### Miniübung\n",
    "* Schreiben Sie eine Methode drawCircle, die einen Kreis (mit festem Radius) an einer fixen Position zeichnet.\n",
    "* Schreiben Sie dann eine parameterlose Methode, die die olympischen Ringe zeichnet. "
   ]
  },
  {
   "cell_type": "code",
   "execution_count": null,
   "metadata": {},
   "outputs": [],
   "source": []
  },
  {
   "cell_type": "code",
   "execution_count": null,
   "metadata": {},
   "outputs": [],
   "source": []
  }
 ],
 "metadata": {
  "kernelspec": {
   "display_name": "Java",
   "language": "java",
   "name": "java"
  },
  "language_info": {
   "codemirror_mode": "text/x-java",
   "file_extension": ".java",
   "mimetype": "",
   "name": "Java",
   "nbconverter_exporter": "",
   "version": "1.8.0_121"
  },
  "toc": {
   "base_numbering": 1,
   "nav_menu": {},
   "number_sections": false,
   "sideBar": false,
   "skip_h1_title": false,
   "title_cell": "Table of Contents",
   "title_sidebar": "Contents",
   "toc_cell": false,
   "toc_position": {},
   "toc_section_display": false,
   "toc_window_display": false
  }
 },
 "nbformat": 4,
 "nbformat_minor": 2
}
