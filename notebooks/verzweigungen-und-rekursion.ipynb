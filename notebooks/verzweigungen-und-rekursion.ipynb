{
 "cells": [
  {
   "cell_type": "markdown",
   "metadata": {},
   "source": [
    "\n",
    "# Verzweigungen und Rekursion\n",
    "\n",
    "#### Marcel Lüthi, Departement Mathematik und Informatik, Universität Basel"
   ]
  },
  {
   "cell_type": "markdown",
   "metadata": {},
   "source": [
    "## Verzweigung"
   ]
  },
  {
   "cell_type": "markdown",
   "metadata": {},
   "source": [
    "Im Programmieren muss man oft zwischen verschiedenen Fällen unterscheiden. Dafür können wir die ```if else``` Anweisung benutzen. Als erstes Beispiel schauen wir uns ein Programm an, das entscheidet ob die Variable ```z``` einen positiven oder negativen Wert beinhaltet. "
   ]
  },
  {
   "cell_type": "code",
   "execution_count": 2,
   "metadata": {},
   "outputs": [
    {
     "name": "stdout",
     "output_type": "stream",
     "text": [
      "z is a positive number\r\n"
     ]
    }
   ],
   "source": [
    "class Conditionals {\n",
    "    public static void main(String[] args) {\n",
    "        int z = +1;\n",
    "        if (z > 0) {\n",
    "            System.out.println(\"z is a positive number\");\n",
    "        } else {\n",
    "            System.out.println(\"z is a negative number\");\n",
    "        }\n",
    "    }\n",
    "}\n",
    "Conditionals.main(new String[0]);"
   ]
  },
  {
   "cell_type": "markdown",
   "metadata": {},
   "source": [
    "#### Mini-Übung:\n",
    "- Was passiert für z = 0? \n",
    "- Fügen Sie eine neue ```if``` Anweisung hinzu, die bei der Eingabe von 0 den Text ```z is zero``` ausgegibt. "
   ]
  },
  {
   "cell_type": "markdown",
   "metadata": {},
   "source": [
    "### Maximum dreier Zahlen"
   ]
  },
  {
   "cell_type": "markdown",
   "metadata": {},
   "source": [
    "Als weiteres Beispiel schauen wir uns an, wie wir das Maximum von drei Zahlen berechnen können. Schematisch sieht dies wie folgt aus. "
   ]
  },
  {
   "cell_type": "markdown",
   "metadata": {},
   "source": [
    "![flowchart](images/max-flowchart.png)"
   ]
  },
  {
   "cell_type": "markdown",
   "metadata": {},
   "source": [
    "In Java Code, kann dieses Schema wie folgt umgesetzt werden. "
   ]
  },
  {
   "cell_type": "code",
   "execution_count": 6,
   "metadata": {},
   "outputs": [
    {
     "name": "stdout",
     "output_type": "stream",
     "text": [
      "11\r\n"
     ]
    }
   ],
   "source": [
    "class Max {\n",
    "    public static void main(String[] args) {\n",
    "        int a = 1;\n",
    "        int b = 11;\n",
    "        int c = 9;\n",
    "\n",
    "        int max = 0;\n",
    "        if (a > b) {        \n",
    "            if (a > c) {    \n",
    "                max = a;\n",
    "            } else {\n",
    "                max = c;    \n",
    "            }   \n",
    "        } else {\n",
    "            if (b > c) {    \n",
    "                max = b;\n",
    "            } else {        \n",
    "                max = c;\n",
    "            }\n",
    "        }\n",
    "\n",
    "        System.out.println(max);\n",
    "    }\n",
    "}\n",
    "Max.main(new String[0]);"
   ]
  },
  {
   "cell_type": "markdown",
   "metadata": {},
   "source": [
    "#### Mini Übung\n",
    "* Schreiben Sie zu jedem If und Else Zweig die zusammengesetzte Bedingung als Kommentar hin."
   ]
  },
  {
   "cell_type": "markdown",
   "metadata": {},
   "source": [
    "In längeren Programmen kommt es häufig vor, dass sich eine komplexe Anweisungsfolge nur in kleinen Teilen unterscheidet. Dies ist in folgendem Programm illustriert, wo wir mal wieder die Turtle Grafik verwenden. \n",
    "Um dieses Programm ausführen zu können, müssen wir zuerst wieder die Turtle Bibliothek laden. Dazu führen wir die nächsten zwei Zellen aus. "
   ]
  },
  {
   "cell_type": "code",
   "execution_count": 9,
   "metadata": {},
   "outputs": [],
   "source": [
    "%mavenRepo shapemodelling-repo https://shapemodelling.cs.unibas.ch/repo/\n",
    "%maven ch.unibas.informatik:jturtle:0.7"
   ]
  },
  {
   "cell_type": "code",
   "execution_count": 10,
   "metadata": {},
   "outputs": [],
   "source": [
    "import static ch.unibas.informatik.jturtle.TurtleCommands.*"
   ]
  },
  {
   "cell_type": "markdown",
   "metadata": {},
   "source": [
    "Das folgende Programm zeichnet ein einfaches Haus. Mit der Variablen ```hasChimney``` wird gesteuert, ob das Haus einen Kamin hat. "
   ]
  },
  {
   "cell_type": "code",
   "execution_count": null,
   "metadata": {},
   "outputs": [
    {
     "data": {
      "image/png": "[encoded data removed]",
      "text/plain": [
       "BufferedImage@7808690d: type = 2 DirectColorModel: rmask=ff0000 gmask=ff00 bmask=ff amask=ff000000 IntegerInterleavedRaster: width = 1024 height = 1024 #Bands = 4 xOff = 0 yOff = 0 dataOffset[0] 0"
      ]
     },
     "metadata": {},
     "output_type": "display_data"
    }
   ],
   "source": [
    "boolean hasChimney = true;\n",
    "\n",
    "clear();\n",
    "\n",
    "home();\n",
    "penUp();\n",
    "backward(50);\n",
    "penDown();\n",
    "forward(20);\n",
    "turnRight(45);\n",
    "forward(50);\n",
    "turnRight(90);\n",
    "forward(20);\n",
    "\n",
    "if (hasChimney == true) {\n",
    "    turnLeft(135);\n",
    "    forward(10);\n",
    "    turnRight(90);\n",
    "    forward(10);\n",
    "    turnRight(90);\n",
    "    forward(20);\n",
    "    turnLeft(45);    \n",
    "} else {\n",
    "    forward(15);\n",
    "}\n",
    "\n",
    "forward(15);\n",
    "turnRight(45);\n",
    "forward(20);\n",
    "turnRight(90);\n",
    "forward(70);\n",
    "\n",
    "display(drawing());"
   ]
  },
  {
   "cell_type": "markdown",
   "metadata": {},
   "source": [
    "#### Mini Übung:\n",
    "\n",
    "* Fügen Sie eine Verzweigung ein, die ein Fenster zeichnet, wenn eine Variable ```hasWindow``` auf true gesetzt ist.\n",
    "* Führen Sie Variablen ein um die Zeichnung zu parametrisieren (Höhe/Breite des Hauses, etc.)"
   ]
  },
  {
   "cell_type": "markdown",
   "metadata": {},
   "source": [
    "# Rekursion"
   ]
  },
  {
   "cell_type": "code",
   "execution_count": 7,
   "metadata": {},
   "outputs": [
    {
     "name": "stdout",
     "output_type": "stream",
     "text": [
      "n = 5\n",
      "n = 4\n",
      "n = 3\n",
      "n = 2\n",
      "n = 1\n",
      "n = 0\n"
     ]
    }
   ],
   "source": [
    "class Recursion {\n",
    "\n",
    "    public static void doNTimes(int n) {\n",
    "        System.out.println(\"n = \" +n);\n",
    "        if (n == 0) {\n",
    "            return;\n",
    "        } else {\n",
    "            doNTimes(n -1);\n",
    "        }\n",
    "    }\n",
    "    public static void main(String[] args) {\n",
    "        doNTimes(5);\n",
    "    }\n",
    "}\n",
    "\n",
    "Recursion.main(new String[0]);"
   ]
  },
  {
   "cell_type": "markdown",
   "metadata": {},
   "source": [
    "#### Mini-Übung\n",
    "\n",
    "* Schreiben Sie eine Methode um mittels Turtlegrafik ein n-Eck zu zeichnen\n",
    "* Schreiben Sie iene Methode um mittels Turtlegrafik eine Spirale zu zeichnen"
   ]
  },
  {
   "cell_type": "code",
   "execution_count": null,
   "metadata": {},
   "outputs": [],
   "source": [
    "// Ihre Lösung"
   ]
  }
 ],
 "metadata": {
  "kernelspec": {
   "display_name": "Java",
   "language": "java",
   "name": "java"
  },
  "language_info": {
   "codemirror_mode": "java",
   "file_extension": ".jshell",
   "mimetype": "text/x-java-source",
   "name": "Java",
   "pygments_lexer": "java",
   "version": "18.0.1+10"
  },
  "toc": {
   "base_numbering": 1,
   "nav_menu": {},
   "number_sections": false,
   "sideBar": false,
   "skip_h1_title": false,
   "title_cell": "Table of Contents",
   "title_sidebar": "Contents",
   "toc_cell": false,
   "toc_position": {},
   "toc_section_display": false,
   "toc_window_display": false
  }
 },
 "nbformat": 4,
 "nbformat_minor": 2
}
