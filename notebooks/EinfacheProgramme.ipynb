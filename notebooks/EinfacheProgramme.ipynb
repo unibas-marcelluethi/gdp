{
 "cells": [
  {
   "cell_type": "markdown",
   "metadata": {},
   "source": [
    "# Einfache Programme"
   ]
  },
  {
   "cell_type": "markdown",
   "metadata": {},
   "source": [
    "## Kommentare"
   ]
  },
  {
   "cell_type": "markdown",
   "metadata": {},
   "source": [
    "Java unterscheidet zwei Arten von Kommentare:\n",
    "\n",
    "1. Zeilenendekommentare ```//```, die von der aktuellen Position bis zum Ende alles auskommentieren\n",
    "2. Klammerkommentare ```/* ... */```, welche allen Code zwischen ```/*``` und ```*/``` als Kommentar betrachtet. \n",
    "\n",
    "Alles was nicht zwischen diesen Kommentarzeichen steht, wird als gültiger Java Code betrachtet. Das folgende Textstück wird also als Java Code betrachtet und kann nicht ausgeführt werden. "
   ]
  },
  {
   "cell_type": "code",
   "execution_count": 29,
   "metadata": {},
   "outputs": [
    {
     "ename": "CompilationException",
     "evalue": "",
     "output_type": "error",
     "traceback": [
      "\u001b[1m\u001b[30m|   \u001b[1m\u001b[30mDies gibt\u001b[0m\u001b[1m\u001b[30m\u001b[41m\u001b[0m\u001b[1m\u001b[30m beim Kompilieren einen Fehler;\u001b[0m",
      "\u001b[1m\u001b[31m';' expected\u001b[0m",
      ""
     ]
    }
   ],
   "source": [
    "Dies gibt beim Kompilieren einen Fehler"
   ]
  },
  {
   "cell_type": "markdown",
   "metadata": {},
   "source": [
    "Die folgenden zwei Zeilen können von Java erfolgreich kompiliert werden, da Java diese als Kommentare versteht. "
   ]
  },
  {
   "cell_type": "code",
   "execution_count": 30,
   "metadata": {},
   "outputs": [],
   "source": [
    "/* Dies gibt beim Kompilieren keinen Fehler */"
   ]
  },
  {
   "cell_type": "code",
   "execution_count": 31,
   "metadata": {},
   "outputs": [],
   "source": [
    "// Und dies auch nicht"
   ]
  },
  {
   "cell_type": "markdown",
   "metadata": {},
   "source": [
    "*Hinweis: In Jupyter Notebooks werden nur die Zellen die mit* In [..] *gekennzeichnet sind von Java ausgewertet. Alle anderen Zellen dienen nur der Dokumentation. Deshalb können wir in Jupyter Notebooks auch Text schreiben, ohne diesen in spezielle Klammern zu setzen. In normalem Java Code ist dies aber nicht möglich.*"
   ]
  },
  {
   "cell_type": "markdown",
   "metadata": {},
   "source": [
    "#### Mini Übung\n",
    "\n",
    "* Die folgenden Codestücke sollen kommentiert werden, so dass nur noch \"Hello\" ausgegeben wird?\n",
    "    * Welche Art von Kommentar (```/* */``` oder ```//```) ist dafür besser geeignet?\n",
    "    * Weshalb ist beim letzten Codestück die Kommentarsetzung nicht ideal?\n",
    "    "
   ]
  },
  {
   "cell_type": "code",
   "execution_count": 32,
   "metadata": {},
   "outputs": [
    {
     "name": "stdout",
     "output_type": "stream",
     "text": [
      "Hello\n"
     ]
    }
   ],
   "source": [
    "System.out.println(\"Hello\" /*+ \" world\"*/);"
   ]
  },
  {
   "cell_type": "code",
   "execution_count": 33,
   "metadata": {},
   "outputs": [],
   "source": [
    "String s = \"Hello\";\n",
    "s = s + \" world\"; // Mit + werden zwei Strings konkateniert\n",
    "System.out.println(s);"
   ]
  },
  {
   "cell_type": "code",
   "execution_count": null,
   "metadata": {},
   "outputs": [
    {
     "name": "stdout",
     "output_type": "stream",
     "text": [
      "Hello \n"
     ]
    }
   ],
   "source": [
    "String s = \"Hello \";\n",
    "\n",
    "/*\n",
    "s = s + \"w\"; // Erster Kommentar \n",
    "s = s + \"o\"; // Zweiter Kommentar \n",
    "s = s + \"r\"; // Dritter Kommentar \n",
    "s = s + \"l\"; // Vierter Kommentar \n",
    "s = s + \"d\"; // Fünfter Kommentar \n",
    "*/\n",
    "System.out.println(s);"
   ]
  },
  {
   "cell_type": "markdown",
   "metadata": {},
   "source": [
    "## Zuweisungen und arithmetische Funktionen"
   ]
  },
  {
   "cell_type": "markdown",
   "metadata": {},
   "source": [
    "Im Folgenden schauen wir uns an, wie wir mit Variablen arbeiten und einfache Programme schreiben können. Durch das Arbeiten mit Variablen können wir Programme allgemeiner schreiben und von konkreten Beispielen abstrahieren. \n",
    "Als Beispiel nehmen wir die Berechnung der Hypothenuse eines rechtwinkligen Dreiecks. Anstatt die Berechnung direkt mit konkreten Werten durchzuführen, können wir Variablen einführen und die Formel dann allgemein hinschreiben. "
   ]
  },
  {
   "cell_type": "markdown",
   "metadata": {},
   "source": [
    "#### Beispiel: Satz von Pythagoras"
   ]
  },
  {
   "cell_type": "code",
   "execution_count": 35,
   "metadata": {},
   "outputs": [
    {
     "name": "stdout",
     "output_type": "stream",
     "text": [
      "8.06225774829855\n"
     ]
    }
   ],
   "source": [
    "double a = 7;\n",
    "double b = 4;\n",
    "\n",
    "double aSquared = a * a;\n",
    "double bSquared = b * b;\n",
    "double cSquared = aSquared + bSquared;\n",
    "\n",
    "double c = Math.sqrt(cSquared);\n",
    "\n",
    "System.out.println(c);"
   ]
  },
  {
   "cell_type": "markdown",
   "metadata": {},
   "source": [
    "Als erstes werden in diesem Programm zwei Variablen definiert, die den Seitenlängen des Dreicks entsprechen.\n",
    "Gemäss dem Satz von Pythagoras kann die Länge der Hypothenuse $c$ mit der Formel $c^2 = a^2 + b^2$ berechnet werden, was in den nächsten 3 Zeilen passiert.\n",
    "Um ```c``` zu erhalten müssen wir noch die Wurzel ziehen. Dafür stellt uns Java die Funktion ```Math.sqrt``` zur Verfügung. \n",
    "Schlussendlich wird der Wert der Variablen ```c``` mit dem Befehl ```System.out.println(variable)``` ausgegeben. \n"
   ]
  },
  {
   "cell_type": "markdown",
   "metadata": {},
   "source": [
    "#### Mini Übung\n",
    "\n",
    "* Definieren Sie eine Variable mit dem Namen ```z``` die nur ganze Zahlen enthalten kann und weisen Sie dieser den Wert 3 zu. \n",
    "* Was passiert, wenn Sie statt ```3``` den Wert ```3.0``` zuordnen?\n",
    "* Wie müssen Sie den Typ ändern, damit die Zuweisung ```z = 3.0``` funktioniert?\n"
   ]
  },
  {
   "cell_type": "code",
   "execution_count": 36,
   "metadata": {},
   "outputs": [
    {
     "name": "stdout",
     "output_type": "stream",
     "text": [
      "3.1\n"
     ]
    }
   ],
   "source": [
    "// Schreiben Sie Ihre Lösungen hier hin. \n",
    "// Neue Zellen können Sie mit Alt + Enter hinzufügen. \n",
    "\n",
    "double z = 3.1;\n",
    "System.out.println(z);"
   ]
  },
  {
   "cell_type": "markdown",
   "metadata": {},
   "source": [
    "# Verzweigung"
   ]
  },
  {
   "cell_type": "markdown",
   "metadata": {},
   "source": [
    "Im Programmieren muss man oft zwischen verschiedenen Fällen unterscheiden. Dafür können wir die ```if else``` Anweisung benutzen. Als erstes Beispiel schauen wir uns ein Programm an, das entscheidet ob die Variable ```z``` einen positiven oder negativen Wert beinhaltet. "
   ]
  },
  {
   "cell_type": "code",
   "execution_count": 37,
   "metadata": {},
   "outputs": [
    {
     "name": "stdout",
     "output_type": "stream",
     "text": [
      "z is a positive number\n"
     ]
    }
   ],
   "source": [
    "int z = +1;\n",
    "if (z > 0) {\n",
    "    System.out.println(\"z is a positive number\");\n",
    "} else {\n",
    "    if (z == 0) {\n",
    "        System.out.println(\"z is zero\");\n",
    "    } else {\n",
    "        System.out.println(\"z is a negative number\");\n",
    "    }\n",
    "}"
   ]
  },
  {
   "cell_type": "markdown",
   "metadata": {},
   "source": [
    "#### Mini-Übung:\n",
    "- Was passiert für z = 0? \n",
    "- Fügen Sie eine neue ```if``` Anweisung hinzu, die bei der Eingabe von 0 den Text ```z is zero``` ausgegibt. "
   ]
  },
  {
   "cell_type": "code",
   "execution_count": 38,
   "metadata": {},
   "outputs": [],
   "source": [
    "// Schreiben Sie hier Ihre Lösung hin"
   ]
  },
  {
   "cell_type": "markdown",
   "metadata": {},
   "source": [
    "### Maximum dreier Zahlen"
   ]
  },
  {
   "cell_type": "markdown",
   "metadata": {},
   "source": [
    "Als weiteres Beispiel schauen wir uns an, wie wir das Maximum von drei Zahlen berechnen können. Schematisch sieht dies wie folgt aus. "
   ]
  },
  {
   "cell_type": "markdown",
   "metadata": {},
   "source": [
    "![flowchart](images/max-flowchart.png)"
   ]
  },
  {
   "cell_type": "markdown",
   "metadata": {},
   "source": [
    "In Java Code, kann dieses Schema wie folgt umgesetzt werden. "
   ]
  },
  {
   "cell_type": "code",
   "execution_count": 39,
   "metadata": {},
   "outputs": [
    {
     "name": "stdout",
     "output_type": "stream",
     "text": [
      "11\n"
     ]
    }
   ],
   "source": [
    "int a = 1;\n",
    "int b = 11;\n",
    "int c = 9;\n",
    "\n",
    "int max = 0;\n",
    "if (a > b) {        \n",
    "    if (a > c) {    \n",
    "        max = a;\n",
    "    } else {\n",
    "        max = c;    \n",
    "    }    \n",
    "} else {\n",
    "    if (b > c) {    \n",
    "        max = b;\n",
    "    } else {        \n",
    "        max = c;\n",
    "    }\n",
    "}\n",
    "\n",
    "System.out.println(max);"
   ]
  },
  {
   "cell_type": "markdown",
   "metadata": {},
   "source": [
    "#### Mini Übung\n",
    "* Schreiben Sie zu jedem If und Else Zweig die zusammengesetzte Bedingung als Kommentar hin."
   ]
  },
  {
   "cell_type": "code",
   "execution_count": 40,
   "metadata": {},
   "outputs": [],
   "source": [
    "// Ihre Lösung"
   ]
  },
  {
   "cell_type": "markdown",
   "metadata": {},
   "source": [
    "In längeren Programmen kommt es häufig vor, dass sich eine komplexe Anweisungsfolge nur in kleinen Teilen unterscheidet. Dies ist in folgendem Programm illustriert, wo wir mal wieder die Turtle Grafik verwenden. \n",
    "Um dieses Programm ausführen zu können, müssen wir zuerst wieder die Turtle Bibliothek laden:"
   ]
  },
  {
   "cell_type": "code",
   "execution_count": 41,
   "metadata": {},
   "outputs": [],
   "source": [
    "%%loadFromPOM\n",
    "<dependency>\n",
    "  <groupId>ch.unibas.informatik</groupId>\n",
    "  <artifactId>jturtle</artifactId>\n",
    "  <version>0.6</version>\n",
    "</dependency> "
   ]
  },
  {
   "cell_type": "code",
   "execution_count": 42,
   "metadata": {},
   "outputs": [],
   "source": [
    "import static ch.unibas.informatik.jturtle.TurtleCommands.*"
   ]
  },
  {
   "cell_type": "markdown",
   "metadata": {},
   "source": [
    "Das folgende Programm zeichnet ein einfaches Haus. Mit der Variablen ```hasChimney``` wird gesteuert, ob das Haus einen Kamin hat. "
   ]
  },
  {
   "cell_type": "code",
   "execution_count": 25,
   "metadata": {},
   "outputs": [
    {
     "data": {
      "image/png": "[encoded data removed]",
      "text/plain": [
       "BufferedImage@3063928e: type = 2 DirectColorModel: rmask=ff0000 gmask=ff00 bmask=ff amask=ff000000 IntegerInterleavedRaster: width = 1024 height = 1024 #Bands = 4 xOff = 0 yOff = 0 dataOffset[0] 0"
      ]
     },
     "metadata": {},
     "output_type": "display_data"
    }
   ],
   "source": [
    "boolean hasChimney = true;\n",
    "int height = 20;\n",
    "\n",
    "clear();\n",
    "\n",
    "home();\n",
    "penUp();\n",
    "backward(50);\n",
    "penDown();\n",
    "forward(height);\n",
    "turnRight(45);\n",
    "forward(50);\n",
    "turnRight(90);\n",
    "forward(20);\n",
    "\n",
    "if (hasChimney == true) {\n",
    "    turnLeft(135);\n",
    "    forward(10);\n",
    "    turnRight(90);\n",
    "    forward(10);\n",
    "    turnRight(90);\n",
    "    forward(20);\n",
    "    turnLeft(45);    \n",
    "} else {\n",
    "    forward(15);\n",
    "}\n",
    "\n",
    "forward(15);\n",
    "turnRight(45);\n",
    "forward(height);\n",
    "turnRight(90);\n",
    "forward(70);\n",
    "\n",
    "display(drawing());"
   ]
  },
  {
   "cell_type": "markdown",
   "metadata": {},
   "source": [
    "#### Mini Übung:\n",
    "\n",
    "* Fügen Sie eine Verzweigung ein, die ein Fenster zeichnet, wenn eine Variable ```hasWindow``` auf true gesetzt ist.\n",
    "* Führen Sie Variablen ein um die Zeichnung zu parametrisieren (Höhe/Breite des Hauses, etc.)"
   ]
  },
  {
   "cell_type": "markdown",
   "metadata": {},
   "source": [
    "# Schleifen"
   ]
  },
  {
   "cell_type": "markdown",
   "metadata": {},
   "source": [
    "Das nächste wichtige Konstrukt im Programmieren sind die Schleifen. Damit lassen sich Befehle beliebig oft wiederholen. "
   ]
  },
  {
   "cell_type": "markdown",
   "metadata": {},
   "source": [
    "Als erstes schauen wir uns die *for-Schleife* an, die wir immer dann einsetzen können, wenn wir die Anzahl Iterationen kennen. Ein einfaches Beispiel ist das Zeichnen eines Vierecks"
   ]
  },
  {
   "cell_type": "code",
   "execution_count": 10,
   "metadata": {},
   "outputs": [
    {
     "data": {
      "image/png": "[encoded data removed]"
     },
     "metadata": {},
     "output_type": "display_data"
    },
    {
     "data": {
      "text/plain": [
       "null"
      ]
     },
     "execution_count": 10,
     "metadata": {},
     "output_type": "execute_result"
    }
   ],
   "source": [
    "clear();\n",
    "home();\n",
    "\n",
    "int sideLength = 80;\n",
    "penDown();\n",
    "for (int i = 0; i < 4; i++) {\n",
    "    forward( sideLength );\n",
    "    turnRight(90);\n",
    "}\n",
    "display(drawing());"
   ]
  },
  {
   "cell_type": "markdown",
   "metadata": {},
   "source": [
    "#### Mini-Übung\n",
    "\n",
    "* Verallgemeinern Sie den Code, so dass Sie ein n-Eck zeichnen können. (n soll eine Variable sein)\n",
    "* Können Sie einen Kreis zeichnen?"
   ]
  },
  {
   "cell_type": "code",
   "execution_count": null,
   "metadata": {},
   "outputs": [],
   "source": [
    "// Ihre Lösung"
   ]
  },
  {
   "cell_type": "markdown",
   "metadata": {},
   "source": [
    "Oft wissen wir nicht genau, wie oft wir etwas durchführen wollen. Wir iterieren, bis eine bestimmte Bedingung erfüllt ist. Dafür verwenden wir die *While-Schleife*. Im folgenden Beispiel wird gezeigt, wie wir eine Spirale zeichnen können. Wir wechseln so lange die Richtung, bis der Winkel zu klein wird. "
   ]
  },
  {
   "cell_type": "code",
   "execution_count": null,
   "metadata": {},
   "outputs": [],
   "source": [
    "clear();\n",
    "home();\n",
    "\n",
    "penColor(java.awt.Color.BLACK);\n",
    "penDown();\n",
    "\n",
    "double dist = 2.0;\n",
    "double turn = 90;\n",
    "\n",
    "while (turn > 1.0) {\n",
    "    forward(dist);\n",
    "    turnRight(turn);\n",
    "    turn = turn * 0.99;\n",
    "}\n",
    "display(drawing());"
   ]
  },
  {
   "cell_type": "markdown",
   "metadata": {},
   "source": [
    "Natürlich können wir Schleifen auch ineinander verschachteln, wie folgendes Programm zeigt, welches das kleine 1 mal 1 berechnet. "
   ]
  },
  {
   "cell_type": "code",
   "execution_count": null,
   "metadata": {},
   "outputs": [],
   "source": [
    "for (int i = 1; i <= 9; i++) {\n",
    "    System.out.print(i);\n",
    "    System.out.print(\"er Reihe: \");\n",
    "    for (int j = 1; j <= 9; j++) {\n",
    "        System.out.print(i * j);\n",
    "        System.out.print(\" \");\n",
    "    }\n",
    "    System.out.println(\"\");\n",
    "}"
   ]
  },
  {
   "cell_type": "markdown",
   "metadata": {},
   "source": [
    "Mit (verschachtelten) Schleifen können wir mit wenig Code sehr komplexe Verhalten programmieren. Das folgende Programm gibt einen visuellen Eindruck davon:"
   ]
  },
  {
   "cell_type": "code",
   "execution_count": null,
   "metadata": {},
   "outputs": [],
   "source": [
    "clear();\n",
    "home();\n",
    "\n",
    "\n",
    "penDown();\n",
    "\n",
    "\n",
    "int x = 0;\n",
    "for (int i = 0; i < 150; i = i + 1) {\n",
    "    for (int j = 0; j < 5; j = j + 1) {\n",
    "        forward(20);\n",
    "        turnRight(60);\n",
    "    }\n",
    "    forward(50);\n",
    "    turnRight(11);\n",
    "}\n",
    "\n",
    "display(drawing());"
   ]
  },
  {
   "cell_type": "markdown",
   "metadata": {},
   "source": [
    "#### Mini Übung\n",
    "\n",
    "* Welches Muster zeichnet der Innere Loop?\n",
    "* Experimentieren Sie verschiedenen Parametern um andere Muster zu erzeugen"
   ]
  },
  {
   "cell_type": "code",
   "execution_count": null,
   "metadata": {},
   "outputs": [],
   "source": [
    "// Ihre Lösung"
   ]
  },
  {
   "cell_type": "markdown",
   "metadata": {},
   "source": [
    "#### Beispiel: Harmonische Reihe"
   ]
  },
  {
   "cell_type": "markdown",
   "metadata": {},
   "source": [
    "Als letztes Beispiel schauen wir uns noch ein Beispiel aus der Mathematik an. Wir berechnen den Wert der geometrische Reihe $\\sum_{i=1}^n 1 / i$. In diesem Beispiel nutzen wir verschiedene Typen von Variablen. Für den Zähler nutzen wir eine Variable vom Typ ```int```, da der Zähler ja nur Ganzzahlen entsprechen kann. Für das Speichern der Summe nutzen wir in diesem Fall eine Variable vom Typ ```float```. Wir hätten aber auch eine Variable vom Typ ```double``` verwenden können. "
   ]
  },
  {
   "cell_type": "code",
   "execution_count": null,
   "metadata": {},
   "outputs": [],
   "source": [
    "float sum = 0;\n",
    "int n = 10;\n",
    "\n",
    "for (int i = n; i > 0; i--) {\n",
    "    sum = sum + 1f / i;\n",
    "}\n",
    "\n",
    "System.out. println(\" sum = \" + sum);"
   ]
  },
  {
   "cell_type": "markdown",
   "metadata": {},
   "source": [
    "#### Mini Übung\n",
    "\n",
    "Was würden folgende Ausdrücke liefern, wenn Sie statt ```1f /i``` \n",
    "\n",
    "1.  ```1/i``` \n",
    "2. ```1.0 / i```\n",
    "\n",
    "schreiben würden?"
   ]
  },
  {
   "cell_type": "code",
   "execution_count": null,
   "metadata": {},
   "outputs": [],
   "source": []
  }
 ],
 "metadata": {
  "kernelspec": {
   "display_name": "Java",
   "language": "java",
   "name": "java"
  },
  "language_info": {
   "codemirror_mode": "java",
   "file_extension": ".java",
   "mimetype": "text/x-java-source",
   "name": "Java",
   "pygments_lexer": "java",
   "version": "11.0.4+11"
  },
  "toc": {
   "base_numbering": 1,
   "nav_menu": {},
   "number_sections": false,
   "sideBar": false,
   "skip_h1_title": false,
   "title_cell": "Table of Contents",
   "title_sidebar": "Contents",
   "toc_cell": false,
   "toc_position": {},
   "toc_section_display": false,
   "toc_window_display": false
  }
 },
 "nbformat": 4,
 "nbformat_minor": 2
}
