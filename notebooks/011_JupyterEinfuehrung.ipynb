{
 "cells": [
  {
   "cell_type": "markdown",
   "metadata": {
    "slideshow": {
     "slide_type": "slide"
    }
   },
   "source": [
    "# Grundlagen von Jupyter Notebooks\n",
    "#### Marcel Lüthi, Andreas Morel-Forster<br/>Departement Mathematik und Informatik, Universität Basel\n"
   ]
  },
  {
   "cell_type": "markdown",
   "metadata": {
    "slideshow": {
     "slide_type": "fragment"
    }
   },
   "source": [
    "Dieses Notebook ist eine Einführung in Jupyter Notebooks (JNB). Sie lernen:\n",
    "- wie man JNBs bedient.\n",
    "- was Zellen sind, die Organisationseinheit von JNBs.\n",
    "- wie Zelle mit Hilfe von Markdown gestalten werden können.\n",
    "- wie man in Zellen erste einfache Java Programme schreibt."
   ]
  },
  {
   "cell_type": "markdown",
   "metadata": {
    "slideshow": {
     "slide_type": "subslide"
    }
   },
   "source": [
    "### Grundlagen eines Jupyter-Notebooks"
   ]
  },
  {
   "cell_type": "markdown",
   "metadata": {
    "slideshow": {
     "slide_type": "-"
    }
   },
   "source": [
    "Ein Jupyter Notebook ist:\n",
    "- Organisiert in Zellen.\n",
    "- Notizblock und Programmcode zugleich.\n",
    "- keine volle Programmierumgebung.\n",
    "- ein guter Platz um Dinge schnell und einfach auszuprobieren.\n",
    "- für Sie persönlich gespeichert in Ihrem Speicherplatz der Universität Basel."
   ]
  },
  {
   "cell_type": "markdown",
   "metadata": {
    "slideshow": {
     "slide_type": "subslide"
    }
   },
   "source": [
    "### Bedienung von Jupyter-Notebooks"
   ]
  },
  {
   "cell_type": "markdown",
   "metadata": {},
   "source": [
    "- Sie können den Stand Ihres Notebooks über das Menu `File` / `Save and Checkpoint` oder mit der Schaltfläche &#128427; speichern.\n",
    "- Wenn eine Zelle Markiert ist, können Sie diese mit der &#9658; `Run` Schaltfläche ausführen.\n",
    "- Die aktuelle Zelle erkennt man jeweils daran, dass diese umrahmt ist.\n",
    "- Eine neue Zelle wird mit &#10010; unter der aktuellen Zelle eingefügt.\n",
    "- Eine aktive Zelle kann mit &#9988; ausgeschnitten werden."
   ]
  },
  {
   "cell_type": "markdown",
   "metadata": {
    "slideshow": {
     "slide_type": "slide"
    }
   },
   "source": [
    "#### Mini-Übung\n",
    "* Speichern Sie das Notebook.\n",
    "* Fügen Sie eine Zelle nach dieser hier ein.\n",
    "* Schneiden Sie nur die neue Zelle wider aus.\n",
    "* Wenn etwas kaputt geht, laden Sie das Notebook über das Menu `File` / `Revert to Checkpoint`"
   ]
  },
  {
   "cell_type": "markdown",
   "metadata": {
    "slideshow": {
     "slide_type": "subslide"
    }
   },
   "source": [
    "### Arbeiten mit Zellen"
   ]
  },
  {
   "cell_type": "markdown",
   "metadata": {},
   "source": [
    "- Es gibt zwei Arten von Zellen, **Code**-Zellen und **Text**-Zellen.\n",
    "- Es gibt zwei Zustände wenn Sie ein Notebook bearbeiten:\n",
    "    - **Editier**-Modus (Edit-Mode), um eine Zelle zu ändern.\n",
    "        - Aktiviert durch einen Doppelklick der Maus oder die `Enter`-Taste.\n",
    "    - **Befehl**-Modus (Command-Mode) um Zellen auszuführen, herumzuschieben, den Typ einer Zelle wechseln.\n",
    "        - Aktiviert durch die `Esc`-Taste, oder durch Ausführen einer Zelle `Ctrl`+`Enter`."
   ]
  },
  {
   "cell_type": "markdown",
   "metadata": {
    "slideshow": {
     "slide_type": "subslide"
    }
   },
   "source": [
    "### Code Zellen\n",
    "- Code-Zellen erkennt man dadurch, dass diese mit ```In [..]``` gekennzeichnet sind.\n",
    "- Eine markierte Zelle wird durch `Y`-Taste oder über das Menu `Cell` / `Cell Type` / `Code` zu einer Code-Zelle.\n",
    "- Beim Ausführen der Zelle (&#9658; `Run`) wird der Java-Code übersetzt / kompiliert und ausgeführt.\n",
    "- Können beim Ausführen eine Ausgabe unterhalb der Zelle erzeugen."
   ]
  },
  {
   "cell_type": "markdown",
   "metadata": {
    "slideshow": {
     "slide_type": "fragment"
    }
   },
   "source": [
    "Führen Sie die folgende Code Zelle nun aus."
   ]
  },
  {
   "cell_type": "code",
   "execution_count": null,
   "metadata": {},
   "outputs": [],
   "source": [
    "class HelloWorld {\n",
    "    public static void main(String[] args) {\n",
    "        System.out.println(\"Hello world!\");\n",
    "    }\n",
    "}\n",
    "\n",
    "HelloWorld.main(new String[0]);"
   ]
  },
  {
   "cell_type": "markdown",
   "metadata": {
    "slideshow": {
     "slide_type": "subslide"
    }
   },
   "source": [
    "### Text Zellen\n"
   ]
  },
  {
   "cell_type": "markdown",
   "metadata": {},
   "source": [
    "- Dienen als Script, Aufgabenstellungen, oder für Sie als **Notizen**.\n",
    "- Eine markierte Zelle wird durch `M`-Taste oder über das Menu `Cell` / `Cell Type` / `Markdown` zu einer Text-Zelle.\n",
    "- Werden \"schön\" dargestellt wenn Sie die Zellen ausführen.\n",
    "- Verwenden *Markdown* um den Text zu formatieren.\n",
    "- Schauen Sie sich die nächste Zelle an und führen Sie die Zelle dann aus."
   ]
  },
  {
   "cell_type": "markdown",
   "metadata": {
    "slideshow": {
     "slide_type": "subslide"
    }
   },
   "source": [
    "#### Beispiel\n",
    "\n",
    "Eine Markdown Zelle um Ihnen zu zeigen wie:\n",
    "- **toll**,\n",
    "- *schräg*,\n",
    "- und nützlich dies sein kann\n",
    "\n",
    "> Am Anfang besteht jedoch eine kleine Hürde die wichtigsten Sachen zu lernen. Sie werden auch eine Übung dazu lösen.\n",
    "\n",
    "| Tabellen | Informationen |\n",
    "| --- | --- |\n",
    "| Zeilen | sind wichtig |"
   ]
  },
  {
   "cell_type": "markdown",
   "metadata": {
    "slideshow": {
     "slide_type": "subslide"
    }
   },
   "source": [
    "### Weitere Informationen\n",
    "\n",
    "- Sie werden sich in der ersten Übung nocheinmal mit der Bedienung der Notebooks beschäftigen.\n",
    "- Eine Übersicht über die Syntax von Markdown finden Sie [hier](https://medium.com/analytics-vidhya/the-ultimate-markdown-guide-for-jupyter-notebook-d5e5abf728fd).\n",
    "- Eine Übersicht der Tastenkürzel finden Sie im Menu `Help` / `Keyboard Shortcuts`"
   ]
  },
  {
   "cell_type": "markdown",
   "metadata": {
    "slideshow": {
     "slide_type": "slide"
    }
   },
   "source": [
    "### Erste Java Programme in Jupyter Notebooks"
   ]
  },
  {
   "cell_type": "markdown",
   "metadata": {
    "slideshow": {
     "slide_type": "fragment"
    }
   },
   "source": [
    "Wichtige Regel\n",
    "> Um möglichst konsistent mit Java ausserhalb von Jupyter Notebooks zu sein, schreiben wir immer die Klasse."
   ]
  },
  {
   "cell_type": "markdown",
   "metadata": {
    "slideshow": {
     "slide_type": "slide"
    }
   },
   "source": [
    "### Unterschied zu Java in der Entwicklungsumgebung"
   ]
  },
  {
   "cell_type": "code",
   "execution_count": 2,
   "metadata": {
    "slideshow": {
     "slide_type": "-"
    }
   },
   "outputs": [],
   "source": [
    "class HelloWorld {\n",
    "    public static void main(String[] args) {\n",
    "        System.out.println(\"Hello world!\");\n",
    "    }\n",
    "}"
   ]
  },
  {
   "cell_type": "code",
   "execution_count": 3,
   "metadata": {},
   "outputs": [
    {
     "name": "stdout",
     "output_type": "stream",
     "text": [
      "Hello world!\n"
     ]
    }
   ],
   "source": [
    "HelloWorld.main(new String[0]); // <- So nur in Jupyter-Notebooks möglich!"
   ]
  },
  {
   "cell_type": "markdown",
   "metadata": {
    "slideshow": {
     "slide_type": "fragment"
    }
   },
   "source": [
    "Im Programm oben:\n",
    "- ist die erste Zelle normaler, gültiger Java-Code.\n",
    "- ist der zweiten Zelle steht normaler, gültiger Java-Code. **Diese Anweisung find Sie jedoch nur in Jupyter-Notebooks \"alleine\" ausserhalb eines Klassen- und Funktions-Kontext.**\n",
    "\n",
    "Wir werden versuchen immer den gültigen Java-Code von Jupyter-Notebook spezifischen Code zu trennen."
   ]
  },
  {
   "cell_type": "markdown",
   "metadata": {
    "slideshow": {
     "slide_type": "slide"
    }
   },
   "source": [
    "#### Mini-Übung:\n",
    "Sie können das letzte Code-Beispiel als Vorlage nehmen und in eine neue Code-Zelle unter dieser Aufgabe kopieren.\n",
    "* Ändern Sie den Namen der Klasse zu `MyGreetings`.\n",
    "* Schreiben Sie nun den Aufruf in eine zweite Zelle. Wie müssen Sie den Aufruf anpassen, so dass Ihre Klasse aufgerufen wird?\n",
    "* Ändern Sie die Anweisung so, dass neu `Grundlagen der Programmierung` ausgegeben wird.\n",
    "* Fügen Sie dann noch zwei weitere Anweisungen hinzu, so dass:\n",
    "    * \"Willkommen zu\" vor und\n",
    "    * eine Ausgabe mit Ihrem Namen nach der bestehenden Ausgabe ausgegeben wird.\n",
    "* Können Sie Ihr Programm so abändern, dass weniger als drei Zeilen ausgegeben werden?"
   ]
  },
  {
   "cell_type": "markdown",
   "metadata": {
    "slideshow": {
     "slide_type": "slide"
    }
   },
   "source": [
    "### Take-Home\n",
    "- Jupyter-Notebooks sind Ihr Spielplatz für Experimente mit Java.\n",
    "- Sie können das Notebook mit &#128427; speichern und später weiter bearbeiten.\n",
    "- &#9658; `Run` ist zum ausführen einer Zelle\n",
    "- &#10010; ist zum einfügen einer Zelle\n",
    "- Es gibt Code- und Text-Zellen"
   ]
  }
 ],
 "metadata": {
  "celltoolbar": "Slideshow",
  "kernelspec": {
   "display_name": "Java",
   "language": "java",
   "name": "java"
  },
  "language_info": {
   "codemirror_mode": "java",
   "file_extension": ".jshell",
   "mimetype": "text/x-java-source",
   "name": "Java",
   "pygments_lexer": "java",
   "version": "11.0.10+9-LTS"
  },
  "toc": {
   "base_numbering": 1,
   "nav_menu": {},
   "number_sections": false,
   "sideBar": false,
   "skip_h1_title": false,
   "title_cell": "Table of Contents",
   "title_sidebar": "Contents",
   "toc_cell": false,
   "toc_position": {},
   "toc_section_display": false,
   "toc_window_display": false
  }
 },
 "nbformat": 4,
 "nbformat_minor": 2
}
