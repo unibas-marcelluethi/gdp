{
 "cells": [
  {
   "cell_type": "markdown",
   "metadata": {
    "deletable": false,
    "exercise_series": "gdp",
    "slideshow": {
     "slide_type": "slide"
    }
   },
   "source": [
    "\n",
    "# Grundlagen der Programmierung <br/> Übungsblatt 01\n",
    "#### Marcel Lüthi, Andreas Morel-Forster <br/> Departement Mathematik und Informatik, Universität Basel\n"
   ]
  },
  {
   "cell_type": "markdown",
   "metadata": {
    "deletable": false,
    "slideshow": {
     "slide_type": "fragment"
    }
   },
   "source": [
    "Dieses Notebook ist das erste Übungsblatt des Kurses. Sie benötigen eine aktive VPN-Verbindung. Sie üben:\n",
    "- den Umgang mit Jupyter Notebooks.\n",
    "- grundlegender Markdown Syntax.\n",
    "- Ausgaben in Java-Programmen.\n",
    "- wie Sie die Auto-Korrektur für Jupyter-Notebooks benutzen können."
   ]
  },
  {
   "cell_type": "markdown",
   "metadata": {
    "deletable": false,
    "slideshow": {
     "slide_type": "subslide"
    }
   },
   "source": [
    "### Voraussetzung: Installation VPN Client"
   ]
  },
  {
   "cell_type": "markdown",
   "metadata": {
    "deletable": false
   },
   "source": [
    "Die Installation des VPN-Clients ist Ihre erste Aufgabe in dieser Woche. Folgen Sie bitte der Anleitung für Ihr Gerät vom ITS der Universität Basel: [VPN-Anleitungen](https://its.unibas.ch/de/anleitungen/netzwerkzugang/anleitung-vpn/)\n",
    "\n",
    "<div class=\"alert alert-block alert-danger\"> <b>WICHTIG</b> Installieren Sie den VPN-Client und nicht Web-VPN! Mit Web-VPN funktionieren die Jupyter Notebooks nicht. </div>\n",
    "\n",
    "\n",
    "Wenn Sie diese Aufgabe im Jupyter-Notebook online sehen, dann haben sie die Aufgabe erfolgreich abgeschlossen."
   ]
  },
  {
   "cell_type": "markdown",
   "metadata": {
    "deletable": false,
    "slideshow": {
     "slide_type": "subslide"
    }
   },
   "source": [
    "### Grundlagen eines Jupyter-Notebooks"
   ]
  },
  {
   "cell_type": "markdown",
   "metadata": {
    "deletable": false
   },
   "source": [
    "Hinweis - Auch wenn Ihnen die folgenden Übungen trivial vorkommen, bitten wir Sie diese trotzdem gewissenhaft zu lösen. Die Bedienung der Jupyter-Notebooks ist essenziell um sich mit dem Vorlesungsstoff auseinander setzen zu können. Schaffen Sie sich diese Hürde also möglichst jetzt schon aus dem Weg. "
   ]
  },
  {
   "cell_type": "markdown",
   "metadata": {
    "deletable": false,
    "slideshow": {
     "slide_type": "subslide"
    }
   },
   "source": [
    "#### Aufgabe 1 - Der Umgang mit Zellen"
   ]
  },
  {
   "cell_type": "markdown",
   "metadata": {
    "deletable": false
   },
   "source": [
    "1. Löschen Sie die nachfolgende Zelle.\n",
    "1. Erstellen Sie zwei neue Zellen.\n",
    "1. Stellen Sie sicher, dass eine Zelle ein Code-, die andere eine Text-Zelle ist.\n",
    "1. Schreiben Sie einen Text in die Text-Zelle und führen Sie diese aus.\n",
    "1. Schreiben (oder kopieren) Sie ein `Hello World` Programm in die Code-Zelle und führen Sie die Zelle aus.\n",
    "1. Verwenden Sie &#129137; oder &#129139; um eine Zelle zu verschieben und so die Reihenfolge der neuen Zellen zu tauschen.\n",
    "1. Ändern Sie den Typ beider Zellen in den jeweilig anderen. Was passiert wenn Sie dann die Zellen ausführen?"
   ]
  },
  {
   "cell_type": "markdown",
   "metadata": {
    "slideshow": {
     "slide_type": "skip"
    }
   },
   "source": [
    "BITTE LÖSCHEN!!!"
   ]
  },
  {
   "cell_type": "markdown",
   "metadata": {
    "deletable": false,
    "slideshow": {
     "slide_type": "subslide"
    }
   },
   "source": [
    "#### Aufgabe 2 - Markdown"
   ]
  },
  {
   "cell_type": "markdown",
   "metadata": {
    "deletable": false
   },
   "source": [
    "Die Jupyter-Notebooks sollen Ihnen auch als \"Notizbuch\" dienen. Deshalb üben Sie in dieser Aufgabe die drei Formattierungen von Markdown. Lesen Sie die Aufgaben durch und suchen Sie sich dann auf [dieser](https://medium.com/analytics-vidhya/the-ultimate-markdown-guide-for-jupyter-notebook-d5e5abf728fd) Seite die wenigen nötigen Informationen bezüglich der Markdown-Syntax zusammen.\n",
    "\n",
    "1. Erstellen Sie eine neue Text-Zelle.\n",
    "1. Schreiben Sie eine Überschrift in die Zelle.\n",
    "1. Schreiben Sie einen Satz und machen Sie ein Wort fett.\n",
    "1. Schreiben Sie eine kurze Aufzählungsliste.\n",
    "1. Führen Sie die Zelle aus und kontrollieren Sie ob alles richtig dargestellt wird."
   ]
  },
  {
   "cell_type": "markdown",
   "metadata": {
    "deletable": false,
    "slideshow": {
     "slide_type": "slide"
    }
   },
   "source": [
    "### Erstes Programm und dessen Bewertung"
   ]
  },
  {
   "cell_type": "markdown",
   "metadata": {},
   "source": [
    "Hinweis: Beim Programmieren können auch einzelne Zeichen entscheidend sein ob ein Programm korrekt ist oder nicht. Achten Sie bitte in den Aufgaben darauf, dass Sie die Anweisungen möglichst genau befolgen. Es kann sein, dass wenn ein gewisser Text verlangt ist, ein Leerzeichen darüber entscheidet ob die Aufgabe als korrekt angesehen wird oder nicht. Wenn Sie also einmal davon überzeugt sind, dass Sie eine Aufgabe richtig gelösst haben, aber die Punkte nicht bekommen, kontrollieren Sie nocheinmal alle vorgegebenen Texte und Namen. Die Nachfolgende Aufgabe versucht dies zu veranschaulichen, indem unterschiedliche Vorgaben gemacht werden."
   ]
  },
  {
   "cell_type": "markdown",
   "metadata": {
    "deletable": false,
    "slideshow": {
     "slide_type": "subslide"
    }
   },
   "source": [
    "#### Aufgabe 3 - Peptalk"
   ]
  },
  {
   "cell_type": "markdown",
   "metadata": {},
   "source": [
    "Ergänzen Sie die Klasse mit Namen `Peptalk`.\n",
    "- Die Klasse soll die Ausgabe `Willkommen im Kurs VORNAME - schön dass Du programmieren lernst!` auf eine Zeile schreiben.\n",
    "Ersetzen Sie dabei `VORNAME` mit einem Vornamen. Sie dürfen Ihren Vornamen verwenden. Die automatische Korrektur erkennt aber nur Vornamen mit ausschliesslich grossen oder kleinen Buchstaben welche jedoch keine Umlaute, Akzente, Sonder- oder Leerzeichen enthalten.\n",
    "- Fügen Sie dann eine weitere Ausgabe am Ende Ihres Programms ein, welche auf einer neuen Zeile sagt, dass wir Java lernen und somit das Wort `Java` enthält.\n",
    "- Fügen Sie dann eine dritte, nicht leere Zeile vor den beiden Ausgaben ein."
   ]
  },
  {
   "cell_type": "code",
   "execution_count": null,
   "metadata": {
    "deletable": false,
    "exercise_id": 1,
    "exercise_series": "gdp"
   },
   "outputs": [],
   "source": [
    "class Peptalk {\n",
    "    public static void main(String[] args) {\n",
    "        // Ihre Lösung kommt hier hin\n",
    "    }\n",
    "}"
   ]
  },
  {
   "cell_type": "code",
   "execution_count": null,
   "metadata": {},
   "outputs": [],
   "source": [
    "Peptalk.main(new String[0]);"
   ]
  },
  {
   "cell_type": "markdown",
   "metadata": {
    "deletable": false,
    "slideshow": {
     "slide_type": "subslide"
    }
   },
   "source": [
    "#### Aufgabe 4 - Automatische Bewertung"
   ]
  },
  {
   "cell_type": "markdown",
   "metadata": {
    "deletable": false
   },
   "source": [
    "In dieser Aufgabe werden Sie dieses Notebook automatisch bewerten lassen.\n",
    "Genauer, es wird nur die Aufgabe 3 überprüft.\n",
    "Sie können diese Aufgabe jedoch unabhängig von der Aufgabe 3 lösen.\n",
    "\n",
    "Für die automatische Bewertung müssen Sie die folgenden Schritte ausführen:\n",
    "1. Laden Sie das Notebook auf Ihren Computer herunter:\n",
    "    1. Wählen Sie im Menu `File` / `Download as` / `Notebook (.ipynb)` aus.\n",
    "    1. Wählen Sie dann den Speicherort wenn in ihrem Browser kein Standardpfad gesetzt ist.\n",
    "    1. Überprüfen Sie ob die Datei `Uebungsblatt_01.ipynb` auf ihrem Computer existiert.\n",
    "    1. Sollte die Endung `.ipynb.txt` sein, löschen Sie den Teil `.txt` vom Dateinamen.\n",
    "1. Laden Sie das Notebook für die automatische Bewertung hoch.\n",
    "    1. Öffnen Sie die Seite [Übungsbetrieb](https://unibas-marcelluethi.github.io/eidp/exercise/) in ihrem Browser.\n",
    "    1. Wählen Sie unter `Datei auswählen` die Datei auf ihrem Computer aus.\n",
    "    1. Drücken Sie auf `Überprüfen` und haben Sie etwas Geduld.\n",
    "    1. Sie sollten dann angezeigt bekommen ob Sie die bewertete Aufgabe schon richtig gelösst haben.\n",
    "    \n",
    "Sie können die Überprüfung so oft widerholen wie Sie wollen. Es werden auch keine Daten gespeichert nach dem die Überprüfung abgeschlossen ist."
   ]
  },
  {
   "cell_type": "markdown",
   "metadata": {},
   "source": [
    "#### Aufgabe 5 - Posten im Forum"
   ]
  },
  {
   "cell_type": "markdown",
   "metadata": {
    "slideshow": {
     "slide_type": "slide"
    }
   },
   "source": [
    "Um Ihnen Adam und das Forum näher zu bringen, bitten wir Sie einen Post im Forum zu erstellen. Posten Sie doch ins Forum\n",
    "\n",
    "- wofür Sie Ihre Programmierkenntnisse in Zukunft einmal einsetzen möchten.\n",
    "- der Zeit welche Sie für die Bearbeitung des ersten Übungsblattes gebraucht haben.\n",
    "\n",
    "Keine Sorge, Sie posten im Forum unter mit einem Pseudonym &#128521;."
   ]
  }
 ],
 "metadata": {
  "exercise_series": "gdp",
  "kernelspec": {
   "display_name": "Java",
   "language": "java",
   "name": "java"
  },
  "language_info": {
   "codemirror_mode": "java",
   "file_extension": ".jshell",
   "mimetype": "text/x-java-source",
   "name": "Java",
   "pygments_lexer": "java",
   "version": "11.0.10+9-LTS"
  },
  "notebook_id": 101,
  "toc": {
   "base_numbering": 1,
   "nav_menu": {},
   "number_sections": false,
   "sideBar": false,
   "skip_h1_title": false,
   "title_cell": "Table of Contents",
   "title_sidebar": "Contents",
   "toc_cell": false,
   "toc_position": {},
   "toc_section_display": false,
   "toc_window_display": false
  }
 },
 "nbformat": 4,
 "nbformat_minor": 2
}
