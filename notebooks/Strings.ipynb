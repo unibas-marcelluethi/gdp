{
 "cells": [
  {
   "cell_type": "markdown",
   "metadata": {},
   "source": [
    "# Zeichen und Strings"
   ]
  },
  {
   "cell_type": "markdown",
   "metadata": {},
   "source": [
    "## Zeichen"
   ]
  },
  {
   "cell_type": "markdown",
   "metadata": {},
   "source": [
    "Zeichen entsprechen in Java einem besonderen Typ, nämlich dem Typ ```char```. Die Zeichen selbst werden in Hochkommas ``` '' ``` gestellt:"
   ]
  },
  {
   "cell_type": "code",
   "execution_count": 3,
   "metadata": {},
   "outputs": [
    {
     "data": {
      "text/plain": [
       "null"
      ]
     },
     "execution_count": 3,
     "metadata": {},
     "output_type": "execute_result"
    }
   ],
   "source": [
    "char c = 'a';"
   ]
  },
  {
   "cell_type": "markdown",
   "metadata": {},
   "source": [
    "Es erstaunt uns nicht, dass die folgende Zeile den in ```c``` gespeicherten Buchstaben ausgibt:"
   ]
  },
  {
   "cell_type": "code",
   "execution_count": 4,
   "metadata": {},
   "outputs": [
    {
     "name": "stdout",
     "output_type": "stream",
     "text": [
      "a\n"
     ]
    },
    {
     "data": {
      "text/plain": [
       "null"
      ]
     },
     "execution_count": 4,
     "metadata": {},
     "output_type": "execute_result"
    }
   ],
   "source": [
    "char c = 'a';\n",
    "System.out.println(c);"
   ]
  },
  {
   "cell_type": "markdown",
   "metadata": {},
   "source": [
    "Intern sind Zeichen aber wieder nur als Zahlen repräsentiert. Folgendes ist also gültig:"
   ]
  },
  {
   "cell_type": "code",
   "execution_count": 5,
   "metadata": {},
   "outputs": [
    {
     "name": "stdout",
     "output_type": "stream",
     "text": [
      "97\n"
     ]
    },
    {
     "data": {
      "text/plain": [
       "null"
      ]
     },
     "execution_count": 5,
     "metadata": {},
     "output_type": "execute_result"
    }
   ],
   "source": [
    "int c = 'a';\n",
    "System.out.println(c);"
   ]
  },
  {
   "cell_type": "markdown",
   "metadata": {},
   "source": [
    "Wir sehen, dass der Buchstabe 'a' dem Zahlenwert 97 entspricht. "
   ]
  },
  {
   "cell_type": "markdown",
   "metadata": {},
   "source": [
    "Umgekehrt können wir einem Typ Character auch eine Zahl zuweisen:"
   ]
  },
  {
   "cell_type": "code",
   "execution_count": 29,
   "metadata": {},
   "outputs": [
    {
     "name": "stdout",
     "output_type": "stream",
     "text": [
      "o\n"
     ]
    },
    {
     "data": {
      "text/plain": [
       "null"
      ]
     },
     "execution_count": 29,
     "metadata": {},
     "output_type": "execute_result"
    }
   ],
   "source": [
    "char c = 111;\n",
    "System.out.println(c);"
   ]
  },
  {
   "cell_type": "markdown",
   "metadata": {},
   "source": [
    "#### Miniübung: \n",
    "\n",
    "* Geben Sie die Zeichen aus, die den Zahlen 0 bis 1000 entsprechen. "
   ]
  },
  {
   "cell_type": "code",
   "execution_count": 30,
   "metadata": {},
   "outputs": [
    {
     "data": {
      "text/plain": [
       "null"
      ]
     },
     "execution_count": 30,
     "metadata": {},
     "output_type": "execute_result"
    }
   ],
   "source": [
    "// Ihre Lösung"
   ]
  },
  {
   "cell_type": "markdown",
   "metadata": {},
   "source": [
    "In der Klasse ```Character``` sind verschiedene Funktionen zusammengefasst, die wir häufig brauchen wenn wir mit Zeichen arbeiten. Zum Beispiel gibt es Funktionen um zu unterscheiden, ob ein Zeichen einem Gross- oder \n",
    "Kleinbuchstaben entspricht:"
   ]
  },
  {
   "cell_type": "code",
   "execution_count": 31,
   "metadata": {},
   "outputs": [
    {
     "data": {
      "text/plain": [
       "null"
      ]
     },
     "execution_count": 31,
     "metadata": {},
     "output_type": "execute_result"
    }
   ],
   "source": [
    "System.out.println(Character.isUpperCase('A'));"
   ]
  },
  {
   "cell_type": "markdown",
   "metadata": {},
   "source": [
    "Zudem gibt es Methoden, um Zeichen zu konvertieren: Zum Beispiel können wir einen Kleinbuchstaben in einen Grossbuchstaben umwandeln"
   ]
  },
  {
   "cell_type": "code",
   "execution_count": 32,
   "metadata": {},
   "outputs": [
    {
     "data": {
      "text/plain": [
       "null"
      ]
     },
     "execution_count": 32,
     "metadata": {},
     "output_type": "execute_result"
    }
   ],
   "source": [
    "System.out.println(Character.toUpperCase('a'));"
   ]
  },
  {
   "cell_type": "markdown",
   "metadata": {},
   "source": [
    "#### Miniübung:\n",
    "* Schauen Sie sich die [API Doc](https://docs.oracle.com/en/java/javase/11/docs/api/index.html) der Klasse [Character](https://docs.oracle.com/en/java/javase/11/docs/api/java.base/java/lang/Character.html) an. \n",
    "    * Experimentieren Sie mit den Methoden. "
   ]
  },
  {
   "cell_type": "markdown",
   "metadata": {},
   "source": [
    "### Text als Character Arrays"
   ]
  },
  {
   "cell_type": "markdown",
   "metadata": {},
   "source": [
    "Natürlich können wir nicht nur einzelne Character betrachten, sondern auch Arrays von Character. Dies kann benutzt werden um Texte abzuspeichern. \n",
    "Im Gegensatz zu anderen Arrays, kann man character Arrays sogar direkt mit ```System.out.println``` ausgeben, während wir bei anderen Arrays nur die Adresse sehen."
   ]
  },
  {
   "cell_type": "code",
   "execution_count": 33,
   "metadata": {},
   "outputs": [
    {
     "name": "stdout",
     "output_type": "stream",
     "text": [
      "ein text\n"
     ]
    },
    {
     "data": {
      "text/plain": [
       "null"
      ]
     },
     "execution_count": 33,
     "metadata": {},
     "output_type": "execute_result"
    }
   ],
   "source": [
    "char[] cs = {'e', 'i', 'n', ' ', 't', 'e', 'x', 't'};\n",
    "System.out.println(cs);"
   ]
  },
  {
   "cell_type": "markdown",
   "metadata": {},
   "source": [
    "#### Beispiel: Textsuche"
   ]
  },
  {
   "cell_type": "markdown",
   "metadata": {},
   "source": [
    "Das folgende Beispiel zeigt als Anwendung eine Textsuche, wie sie beispielsweise in einem Texteditor implementiert sein könnte. Unsere Methode bekommt zwei Argumente: Einen Text, sowie ein Muster, welches gesucht werden soll. Die Idee hinter dem Algorithmus ist einfach: Wenn immer der Anfangsbuchstabe im Text gefunden wird, werden die nachfolgenden Zeichen im Muster verglichen. "
   ]
  },
  {
   "cell_type": "code",
   "execution_count": 34,
   "metadata": {},
   "outputs": [
    {
     "data": {
      "text/plain": [
       "com.twosigma.beaker.javash.bkr6105f44b.Text"
      ]
     },
     "execution_count": 34,
     "metadata": {},
     "output_type": "execute_result"
    }
   ],
   "source": [
    "class Text {\n",
    "    static int search (char[] t, char[] pat) { \n",
    "        int last = t.length - pat.length; \n",
    "        for (int i = 0; i <= last; i++) {\n",
    "            if (t[ i] == pat[ 0]) {\n",
    "                int j = 1; \n",
    "                while (j < pat.length && pat[ j] == t[ i+ j]) {\n",
    "                  j++;             \n",
    "                }\n",
    "                if (j == pat.length) {\n",
    "                  return i;\n",
    "                }\n",
    "             }\n",
    "         }\n",
    "\n",
    "        return -1;   // not found\n",
    "    }\n",
    "}"
   ]
  },
  {
   "cell_type": "markdown",
   "metadata": {},
   "source": [
    "Folgendes Beispiel zeigt, wie man damit eine einfache Textsuche implementieren kann."
   ]
  },
  {
   "cell_type": "markdown",
   "metadata": {},
   "source": [
    "####  Miniübung\n",
    "\n",
    "* Experimentieren Sie mit dem Algorithmus.\n",
    "    * Versuchen Sie diesen zu verstehen, indem Sie an geeigneten Stellen Ausgaben einfügen. \n"
   ]
  },
  {
   "cell_type": "code",
   "execution_count": 35,
   "metadata": {},
   "outputs": [
    {
     "name": "stdout",
     "output_type": "stream",
     "text": [
      "3\n"
     ]
    },
    {
     "data": {
      "text/plain": [
       "null"
      ]
     },
     "execution_count": 35,
     "metadata": {},
     "output_type": "execute_result"
    }
   ],
   "source": [
    "// Ihr Spielplatz zum Experimentieren\n",
    "\n",
    "char[] t = {'h', 'a', 'y', 's', 't', 'a', 'c', 'k'};\n",
    "char[] p = {'s', 't', 'a', 'c', 'k'};\n",
    "    \n",
    "System.out.println(Text.search(t, p));"
   ]
  },
  {
   "cell_type": "markdown",
   "metadata": {},
   "source": [
    "## Strings"
   ]
  },
  {
   "cell_type": "markdown",
   "metadata": {},
   "source": [
    "Als nächstes schauen wir uns Strings an. Strings sind geordnete Zeichenfolgen von Charactern. Strings sind eine der wichtigsten Datenstrukturen in der Programmierung. Deshalb werden Sie von Java auch mit spezieller Syntax unterstützt. "
   ]
  },
  {
   "cell_type": "markdown",
   "metadata": {},
   "source": [
    "In folgender Zeile wird eine Variable ```s``` vom Typ ```String``` deklariert und der Variablen wird der Wert ```Das ist ein String``` zugewiesen."
   ]
  },
  {
   "cell_type": "code",
   "execution_count": 41,
   "metadata": {},
   "outputs": [
    {
     "data": {
      "text/plain": [
       "null"
      ]
     },
     "execution_count": 41,
     "metadata": {},
     "output_type": "execute_result"
    }
   ],
   "source": [
    "String s = \"Das ist ein String\";"
   ]
  },
  {
   "cell_type": "markdown",
   "metadata": {},
   "source": [
    "Alternativ können wir auch folgende Syntax nutzen um einen String zu erstellen. "
   ]
  },
  {
   "cell_type": "code",
   "execution_count": 43,
   "metadata": {},
   "outputs": [
    {
     "data": {
      "text/plain": [
       "null"
      ]
     },
     "execution_count": 43,
     "metadata": {},
     "output_type": "execute_result"
    }
   ],
   "source": [
    "String s = new String(\"Das ist ein String\");"
   ]
  },
  {
   "cell_type": "markdown",
   "metadata": {},
   "source": [
    "#### Vergleiche von Strings"
   ]
  },
  {
   "cell_type": "markdown",
   "metadata": {},
   "source": [
    "Beim Vergleich von Strings müssen wir etwas vorsichtig sein. Wie folgendes Beispiel zeigt, können wir Strings nicht einfach mit ```==``` auf Gleichheit prüfen:"
   ]
  },
  {
   "cell_type": "code",
   "execution_count": 46,
   "metadata": {},
   "outputs": [
    {
     "name": "stdout",
     "output_type": "stream",
     "text": [
      "false\n"
     ]
    },
    {
     "data": {
      "text/plain": [
       "null"
      ]
     },
     "execution_count": 46,
     "metadata": {},
     "output_type": "execute_result"
    }
   ],
   "source": [
    "String s1 = new String(\"Das ist ein String\");\n",
    "String s2 = new String(\"Das ist ein String\");\n",
    "System.out.println(s1 == s2);"
   ]
  },
  {
   "cell_type": "markdown",
   "metadata": {},
   "source": [
    "Stattdessen müssen wir Strings mittels ```equals``` vergleichen."
   ]
  },
  {
   "cell_type": "code",
   "execution_count": 49,
   "metadata": {},
   "outputs": [
    {
     "name": "stdout",
     "output_type": "stream",
     "text": [
      "true\n"
     ]
    },
    {
     "data": {
      "text/plain": [
       "null"
      ]
     },
     "execution_count": 49,
     "metadata": {},
     "output_type": "execute_result"
    }
   ],
   "source": [
    "String s1 = new String(\"Das ist ein String\");\n",
    "String s2 = new String(\"Das ist ein String\");\n",
    "System.out.println(s1.equals(s2));"
   ]
  },
  {
   "cell_type": "markdown",
   "metadata": {},
   "source": [
    "#### Miniübung:\n",
    "\n",
    "* Weshalb müssen Strings mit ```equals``` verglichen werden? Diskutieren Sie.\n",
    "* Schauen Sie sich die [API Doc](https://docs.oracle.com/en/java/javase/11/docs/api/index.html) der Klasse [String](https://docs.oracle.com/en/java/javase/11/docs/api/java.base/java/lang/String.html) an. \n",
    "* Mit welcher Methode \n",
    "    * können Sie einen Teilstring erhalten?\n",
    "    * können Sie in einem String alle Leerzeichen durch \"_\" ersetzen?\n",
    "    * finden Sie heraus ob ein String mit \"!\" endet?\n",
    "    * können Sie herausfinden an welcher Stelle der Teilstring \"abc\" vorkommt?"
   ]
  },
  {
   "cell_type": "code",
   "execution_count": null,
   "metadata": {},
   "outputs": [],
   "source": [
    "// Ihre Lösungen"
   ]
  }
 ],
 "metadata": {
  "kernelspec": {
   "display_name": "Java",
   "language": "java",
   "name": "java"
  },
  "language_info": {
   "codemirror_mode": "text/x-java",
   "file_extension": ".java",
   "mimetype": "",
   "name": "Java",
   "nbconverter_exporter": "",
   "version": "1.8.0_121"
  },
  "toc": {
   "base_numbering": 1,
   "nav_menu": {},
   "number_sections": false,
   "sideBar": false,
   "skip_h1_title": false,
   "title_cell": "Table of Contents",
   "title_sidebar": "Contents",
   "toc_cell": false,
   "toc_position": {},
   "toc_section_display": false,
   "toc_window_display": false
  }
 },
 "nbformat": 4,
 "nbformat_minor": 2
}
